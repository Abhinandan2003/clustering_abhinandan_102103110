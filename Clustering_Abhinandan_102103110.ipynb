{
 "cells": [
  {
   "cell_type": "code",
   "execution_count": 2,
   "id": "200bfee9",
   "metadata": {},
   "outputs": [
    {
     "name": "stdout",
     "output_type": "stream",
     "text": [
      "Requirement already satisfied: pycaret in e:\\anaconda\\lib\\site-packages (3.2.0)\n",
      "Requirement already satisfied: category-encoders>=2.4.0 in e:\\anaconda\\lib\\site-packages (from pycaret) (2.6.3)\n",
      "Requirement already satisfied: cloudpickle in e:\\anaconda\\lib\\site-packages (from pycaret) (2.2.1)\n",
      "Requirement already satisfied: deprecation>=2.1.0 in e:\\anaconda\\lib\\site-packages (from pycaret) (2.1.0)\n",
      "Requirement already satisfied: imbalanced-learn>=0.8.1 in e:\\anaconda\\lib\\site-packages (from pycaret) (0.11.0)\n",
      "Requirement already satisfied: importlib-metadata>=4.12.0 in e:\\anaconda\\lib\\site-packages (from pycaret) (6.0.0)\n",
      "Requirement already satisfied: ipython>=5.5.0 in c:\\users\\abhinandan sharma\\appdata\\roaming\\python\\python311\\site-packages (from pycaret) (8.10.0)\n",
      "Requirement already satisfied: ipywidgets>=7.6.5 in e:\\anaconda\\lib\\site-packages (from pycaret) (7.8.1)\n",
      "Requirement already satisfied: jinja2>=1.2 in e:\\anaconda\\lib\\site-packages (from pycaret) (3.1.2)\n",
      "Requirement already satisfied: joblib>=1.2.0 in e:\\anaconda\\lib\\site-packages (from pycaret) (1.2.0)\n",
      "Requirement already satisfied: kaleido>=0.2.1 in e:\\anaconda\\lib\\site-packages (from pycaret) (0.2.1)\n",
      "Requirement already satisfied: lightgbm>=3.0.0 in e:\\anaconda\\lib\\site-packages (from pycaret) (4.3.0)\n",
      "Requirement already satisfied: markupsafe>=2.0.1 in e:\\anaconda\\lib\\site-packages (from pycaret) (2.1.1)\n",
      "Requirement already satisfied: matplotlib<=3.6,>=3.3.0 in e:\\anaconda\\lib\\site-packages (from pycaret) (3.6.0)\n",
      "Requirement already satisfied: nbformat>=4.2.0 in e:\\anaconda\\lib\\site-packages (from pycaret) (5.9.2)\n",
      "Requirement already satisfied: numba>=0.55.0 in e:\\anaconda\\lib\\site-packages (from pycaret) (0.57.1)\n",
      "Requirement already satisfied: numpy<1.27,>=1.21 in e:\\anaconda\\lib\\site-packages (from pycaret) (1.24.3)\n",
      "Requirement already satisfied: pandas<2.0.0,>=1.3.0 in e:\\anaconda\\lib\\site-packages (from pycaret) (1.5.3)\n",
      "Requirement already satisfied: plotly-resampler>=0.8.3.1 in e:\\anaconda\\lib\\site-packages (from pycaret) (0.9.2)\n",
      "Requirement already satisfied: plotly>=5.0.0 in e:\\anaconda\\lib\\site-packages (from pycaret) (5.9.0)\n",
      "Requirement already satisfied: pmdarima!=1.8.1,<3.0.0,>=1.8.0 in e:\\anaconda\\lib\\site-packages (from pycaret) (2.0.4)\n",
      "Requirement already satisfied: psutil>=5.9.0 in c:\\users\\abhinandan sharma\\appdata\\roaming\\python\\python311\\site-packages (from pycaret) (5.9.4)\n",
      "Requirement already satisfied: pyod>=1.0.8 in e:\\anaconda\\lib\\site-packages (from pycaret) (1.1.3)\n",
      "Requirement already satisfied: requests>=2.27.1 in e:\\anaconda\\lib\\site-packages (from pycaret) (2.31.0)\n",
      "Requirement already satisfied: schemdraw==0.15 in e:\\anaconda\\lib\\site-packages (from pycaret) (0.15)\n",
      "Requirement already satisfied: scikit-learn<1.3.0,>=1.0 in e:\\anaconda\\lib\\site-packages (from pycaret) (1.2.2)\n",
      "Requirement already satisfied: scikit-plot>=0.3.7 in e:\\anaconda\\lib\\site-packages (from pycaret) (0.3.7)\n",
      "Requirement already satisfied: scipy~=1.10.1 in e:\\anaconda\\lib\\site-packages (from pycaret) (1.10.1)\n",
      "Requirement already satisfied: sktime!=0.17.1,!=0.17.2,!=0.18.0,<0.22.0,>=0.16.1 in e:\\anaconda\\lib\\site-packages (from pycaret) (0.21.1)\n",
      "Requirement already satisfied: statsmodels>=0.12.1 in e:\\anaconda\\lib\\site-packages (from pycaret) (0.14.0)\n",
      "Requirement already satisfied: tbats>=1.1.3 in e:\\anaconda\\lib\\site-packages (from pycaret) (1.1.3)\n",
      "Requirement already satisfied: tqdm>=4.62.0 in e:\\anaconda\\lib\\site-packages (from pycaret) (4.65.0)\n",
      "Requirement already satisfied: xxhash in e:\\anaconda\\lib\\site-packages (from pycaret) (2.0.2)\n",
      "Requirement already satisfied: yellowbrick>=1.4 in e:\\anaconda\\lib\\site-packages (from pycaret) (1.5)\n",
      "Requirement already satisfied: patsy>=0.5.1 in e:\\anaconda\\lib\\site-packages (from category-encoders>=2.4.0->pycaret) (0.5.3)\n",
      "Requirement already satisfied: packaging in e:\\anaconda\\lib\\site-packages (from deprecation>=2.1.0->pycaret) (23.1)\n",
      "Requirement already satisfied: threadpoolctl>=2.0.0 in e:\\anaconda\\lib\\site-packages (from imbalanced-learn>=0.8.1->pycaret) (2.2.0)\n",
      "Requirement already satisfied: zipp>=0.5 in e:\\anaconda\\lib\\site-packages (from importlib-metadata>=4.12.0->pycaret) (3.11.0)\n",
      "Requirement already satisfied: backcall in c:\\users\\abhinandan sharma\\appdata\\roaming\\python\\python311\\site-packages (from ipython>=5.5.0->pycaret) (0.2.0)\n",
      "Requirement already satisfied: decorator in c:\\users\\abhinandan sharma\\appdata\\roaming\\python\\python311\\site-packages (from ipython>=5.5.0->pycaret) (5.1.1)\n",
      "Requirement already satisfied: jedi>=0.16 in c:\\users\\abhinandan sharma\\appdata\\roaming\\python\\python311\\site-packages (from ipython>=5.5.0->pycaret) (0.18.2)\n",
      "Requirement already satisfied: matplotlib-inline in c:\\users\\abhinandan sharma\\appdata\\roaming\\python\\python311\\site-packages (from ipython>=5.5.0->pycaret) (0.1.6)\n",
      "Requirement already satisfied: pickleshare in c:\\users\\abhinandan sharma\\appdata\\roaming\\python\\python311\\site-packages (from ipython>=5.5.0->pycaret) (0.7.5)\n",
      "Requirement already satisfied: prompt-toolkit<3.1.0,>=3.0.30 in c:\\users\\abhinandan sharma\\appdata\\roaming\\python\\python311\\site-packages (from ipython>=5.5.0->pycaret) (3.0.36)\n",
      "Requirement already satisfied: pygments>=2.4.0 in c:\\users\\abhinandan sharma\\appdata\\roaming\\python\\python311\\site-packages (from ipython>=5.5.0->pycaret) (2.14.0)\n",
      "Requirement already satisfied: stack-data in c:\\users\\abhinandan sharma\\appdata\\roaming\\python\\python311\\site-packages (from ipython>=5.5.0->pycaret) (0.6.2)\n",
      "Requirement already satisfied: traitlets>=5 in c:\\users\\abhinandan sharma\\appdata\\roaming\\python\\python311\\site-packages (from ipython>=5.5.0->pycaret) (5.9.0)\n",
      "Requirement already satisfied: colorama in c:\\users\\abhinandan sharma\\appdata\\roaming\\python\\python311\\site-packages (from ipython>=5.5.0->pycaret) (0.4.6)\n",
      "Requirement already satisfied: comm>=0.1.3 in e:\\anaconda\\lib\\site-packages (from ipywidgets>=7.6.5->pycaret) (0.2.0)\n",
      "Requirement already satisfied: ipython-genutils~=0.2.0 in e:\\anaconda\\lib\\site-packages (from ipywidgets>=7.6.5->pycaret) (0.2.0)\n",
      "Requirement already satisfied: widgetsnbextension~=3.6.6 in e:\\anaconda\\lib\\site-packages (from ipywidgets>=7.6.5->pycaret) (3.6.6)\n",
      "Requirement already satisfied: jupyterlab-widgets<3,>=1.0.0 in e:\\anaconda\\lib\\site-packages (from ipywidgets>=7.6.5->pycaret) (1.1.7)\n",
      "Requirement already satisfied: contourpy>=1.0.1 in e:\\anaconda\\lib\\site-packages (from matplotlib<=3.6,>=3.3.0->pycaret) (1.0.5)\n",
      "Requirement already satisfied: cycler>=0.10 in e:\\anaconda\\lib\\site-packages (from matplotlib<=3.6,>=3.3.0->pycaret) (0.11.0)\n",
      "Requirement already satisfied: fonttools>=4.22.0 in e:\\anaconda\\lib\\site-packages (from matplotlib<=3.6,>=3.3.0->pycaret) (4.25.0)\n",
      "Requirement already satisfied: kiwisolver>=1.0.1 in e:\\anaconda\\lib\\site-packages (from matplotlib<=3.6,>=3.3.0->pycaret) (1.4.4)\n",
      "Requirement already satisfied: pillow>=6.2.0 in e:\\anaconda\\lib\\site-packages (from matplotlib<=3.6,>=3.3.0->pycaret) (9.4.0)\n",
      "Requirement already satisfied: pyparsing>=2.2.1 in e:\\anaconda\\lib\\site-packages (from matplotlib<=3.6,>=3.3.0->pycaret) (3.0.9)\n",
      "Requirement already satisfied: python-dateutil>=2.7 in e:\\anaconda\\lib\\site-packages (from matplotlib<=3.6,>=3.3.0->pycaret) (2.8.2)\n",
      "Requirement already satisfied: fastjsonschema in e:\\anaconda\\lib\\site-packages (from nbformat>=4.2.0->pycaret) (2.16.2)\n",
      "Requirement already satisfied: jsonschema>=2.6 in e:\\anaconda\\lib\\site-packages (from nbformat>=4.2.0->pycaret) (4.17.3)\n",
      "Requirement already satisfied: jupyter-core in c:\\users\\abhinandan sharma\\appdata\\roaming\\python\\python311\\site-packages (from nbformat>=4.2.0->pycaret) (5.2.0)\n",
      "Requirement already satisfied: llvmlite<0.41,>=0.40.0dev0 in e:\\anaconda\\lib\\site-packages (from numba>=0.55.0->pycaret) (0.40.0)\n",
      "Requirement already satisfied: pytz>=2020.1 in e:\\anaconda\\lib\\site-packages (from pandas<2.0.0,>=1.3.0->pycaret) (2023.3.post1)\n",
      "Requirement already satisfied: tenacity>=6.2.0 in e:\\anaconda\\lib\\site-packages (from plotly>=5.0.0->pycaret) (8.2.2)\n",
      "Requirement already satisfied: dash>=2.9.0 in e:\\anaconda\\lib\\site-packages (from plotly-resampler>=0.8.3.1->pycaret) (2.15.0)\n",
      "Requirement already satisfied: orjson<4.0.0,>=3.8.0 in e:\\anaconda\\lib\\site-packages (from plotly-resampler>=0.8.3.1->pycaret) (3.9.13)\n",
      "Requirement already satisfied: tsdownsample==0.1.2 in e:\\anaconda\\lib\\site-packages (from plotly-resampler>=0.8.3.1->pycaret) (0.1.2)\n",
      "Requirement already satisfied: Cython!=0.29.18,!=0.29.31,>=0.29 in e:\\anaconda\\lib\\site-packages (from pmdarima!=1.8.1,<3.0.0,>=1.8.0->pycaret) (3.0.8)\n",
      "Requirement already satisfied: urllib3 in e:\\anaconda\\lib\\site-packages (from pmdarima!=1.8.1,<3.0.0,>=1.8.0->pycaret) (1.26.16)\n",
      "Requirement already satisfied: setuptools!=50.0.0,>=38.6.0 in e:\\anaconda\\lib\\site-packages (from pmdarima!=1.8.1,<3.0.0,>=1.8.0->pycaret) (68.0.0)\n",
      "Requirement already satisfied: six in e:\\anaconda\\lib\\site-packages (from pyod>=1.0.8->pycaret) (1.16.0)\n",
      "Requirement already satisfied: charset-normalizer<4,>=2 in e:\\anaconda\\lib\\site-packages (from requests>=2.27.1->pycaret) (2.0.4)\n",
      "Requirement already satisfied: idna<4,>=2.5 in e:\\anaconda\\lib\\site-packages (from requests>=2.27.1->pycaret) (3.4)\n",
      "Requirement already satisfied: certifi>=2017.4.17 in e:\\anaconda\\lib\\site-packages (from requests>=2.27.1->pycaret) (2023.11.17)\n",
      "Requirement already satisfied: deprecated>=1.2.13 in e:\\anaconda\\lib\\site-packages (from sktime!=0.17.1,!=0.17.2,!=0.18.0,<0.22.0,>=0.16.1->pycaret) (1.2.14)\n",
      "Requirement already satisfied: scikit-base<0.6.0 in e:\\anaconda\\lib\\site-packages (from sktime!=0.17.1,!=0.17.2,!=0.18.0,<0.22.0,>=0.16.1->pycaret) (0.5.2)\n",
      "Requirement already satisfied: Flask<3.1,>=1.0.4 in e:\\anaconda\\lib\\site-packages (from dash>=2.9.0->plotly-resampler>=0.8.3.1->pycaret) (2.2.2)\n",
      "Requirement already satisfied: Werkzeug<3.1 in e:\\anaconda\\lib\\site-packages (from dash>=2.9.0->plotly-resampler>=0.8.3.1->pycaret) (2.2.3)\n",
      "Requirement already satisfied: dash-html-components==2.0.0 in e:\\anaconda\\lib\\site-packages (from dash>=2.9.0->plotly-resampler>=0.8.3.1->pycaret) (2.0.0)\n",
      "Requirement already satisfied: dash-core-components==2.0.0 in e:\\anaconda\\lib\\site-packages (from dash>=2.9.0->plotly-resampler>=0.8.3.1->pycaret) (2.0.0)\n",
      "Requirement already satisfied: dash-table==5.0.0 in e:\\anaconda\\lib\\site-packages (from dash>=2.9.0->plotly-resampler>=0.8.3.1->pycaret) (5.0.0)\n",
      "Requirement already satisfied: typing-extensions>=4.1.1 in e:\\anaconda\\lib\\site-packages (from dash>=2.9.0->plotly-resampler>=0.8.3.1->pycaret) (4.7.1)\n",
      "Requirement already satisfied: retrying in e:\\anaconda\\lib\\site-packages (from dash>=2.9.0->plotly-resampler>=0.8.3.1->pycaret) (1.3.4)\n",
      "Requirement already satisfied: nest-asyncio in c:\\users\\abhinandan sharma\\appdata\\roaming\\python\\python311\\site-packages (from dash>=2.9.0->plotly-resampler>=0.8.3.1->pycaret) (1.5.6)\n",
      "Requirement already satisfied: wrapt<2,>=1.10 in e:\\anaconda\\lib\\site-packages (from deprecated>=1.2.13->sktime!=0.17.1,!=0.17.2,!=0.18.0,<0.22.0,>=0.16.1->pycaret) (1.14.1)\n",
      "Requirement already satisfied: parso<0.9.0,>=0.8.0 in c:\\users\\abhinandan sharma\\appdata\\roaming\\python\\python311\\site-packages (from jedi>=0.16->ipython>=5.5.0->pycaret) (0.8.3)\n",
      "Requirement already satisfied: attrs>=17.4.0 in e:\\anaconda\\lib\\site-packages (from jsonschema>=2.6->nbformat>=4.2.0->pycaret) (22.1.0)\n",
      "Requirement already satisfied: pyrsistent!=0.17.0,!=0.17.1,!=0.17.2,>=0.14.0 in e:\\anaconda\\lib\\site-packages (from jsonschema>=2.6->nbformat>=4.2.0->pycaret) (0.18.0)\n",
      "Requirement already satisfied: wcwidth in c:\\users\\abhinandan sharma\\appdata\\roaming\\python\\python311\\site-packages (from prompt-toolkit<3.1.0,>=3.0.30->ipython>=5.5.0->pycaret) (0.2.6)\n",
      "Requirement already satisfied: notebook>=4.4.1 in e:\\anaconda\\lib\\site-packages (from widgetsnbextension~=3.6.6->ipywidgets>=7.6.5->pycaret) (6.5.4)\n",
      "Requirement already satisfied: platformdirs>=2.5 in c:\\users\\abhinandan sharma\\appdata\\roaming\\python\\python311\\site-packages (from jupyter-core->nbformat>=4.2.0->pycaret) (3.0.0)\n",
      "Requirement already satisfied: pywin32>=1.0 in c:\\users\\abhinandan sharma\\appdata\\roaming\\python\\python311\\site-packages (from jupyter-core->nbformat>=4.2.0->pycaret) (305)\n",
      "Requirement already satisfied: executing>=1.2.0 in c:\\users\\abhinandan sharma\\appdata\\roaming\\python\\python311\\site-packages (from stack-data->ipython>=5.5.0->pycaret) (1.2.0)\n",
      "Requirement already satisfied: asttokens>=2.1.0 in c:\\users\\abhinandan sharma\\appdata\\roaming\\python\\python311\\site-packages (from stack-data->ipython>=5.5.0->pycaret) (2.2.1)\n",
      "Requirement already satisfied: pure-eval in c:\\users\\abhinandan sharma\\appdata\\roaming\\python\\python311\\site-packages (from stack-data->ipython>=5.5.0->pycaret) (0.2.2)\n",
      "Requirement already satisfied: itsdangerous>=2.0 in e:\\anaconda\\lib\\site-packages (from Flask<3.1,>=1.0.4->dash>=2.9.0->plotly-resampler>=0.8.3.1->pycaret) (2.0.1)\n",
      "Requirement already satisfied: click>=8.0 in e:\\anaconda\\lib\\site-packages (from Flask<3.1,>=1.0.4->dash>=2.9.0->plotly-resampler>=0.8.3.1->pycaret) (8.0.4)\n",
      "Requirement already satisfied: tornado>=6.1 in c:\\users\\abhinandan sharma\\appdata\\roaming\\python\\python311\\site-packages (from notebook>=4.4.1->widgetsnbextension~=3.6.6->ipywidgets>=7.6.5->pycaret) (6.2)\n",
      "Requirement already satisfied: pyzmq>=17 in c:\\users\\abhinandan sharma\\appdata\\roaming\\python\\python311\\site-packages (from notebook>=4.4.1->widgetsnbextension~=3.6.6->ipywidgets>=7.6.5->pycaret) (25.0.0)\n",
      "Requirement already satisfied: argon2-cffi in e:\\anaconda\\lib\\site-packages (from notebook>=4.4.1->widgetsnbextension~=3.6.6->ipywidgets>=7.6.5->pycaret) (21.3.0)\n",
      "Requirement already satisfied: jupyter-client>=5.3.4 in c:\\users\\abhinandan sharma\\appdata\\roaming\\python\\python311\\site-packages (from notebook>=4.4.1->widgetsnbextension~=3.6.6->ipywidgets>=7.6.5->pycaret) (8.0.2)\n",
      "Requirement already satisfied: nbconvert>=5 in e:\\anaconda\\lib\\site-packages (from notebook>=4.4.1->widgetsnbextension~=3.6.6->ipywidgets>=7.6.5->pycaret) (6.5.4)\n",
      "Requirement already satisfied: ipykernel in c:\\users\\abhinandan sharma\\appdata\\roaming\\python\\python311\\site-packages (from notebook>=4.4.1->widgetsnbextension~=3.6.6->ipywidgets>=7.6.5->pycaret) (6.21.1)\n",
      "Requirement already satisfied: Send2Trash>=1.8.0 in e:\\anaconda\\lib\\site-packages (from notebook>=4.4.1->widgetsnbextension~=3.6.6->ipywidgets>=7.6.5->pycaret) (1.8.0)\n",
      "Requirement already satisfied: terminado>=0.8.3 in e:\\anaconda\\lib\\site-packages (from notebook>=4.4.1->widgetsnbextension~=3.6.6->ipywidgets>=7.6.5->pycaret) (0.17.1)\n",
      "Requirement already satisfied: prometheus-client in e:\\anaconda\\lib\\site-packages (from notebook>=4.4.1->widgetsnbextension~=3.6.6->ipywidgets>=7.6.5->pycaret) (0.14.1)\n",
      "Requirement already satisfied: nbclassic>=0.4.7 in e:\\anaconda\\lib\\site-packages (from notebook>=4.4.1->widgetsnbextension~=3.6.6->ipywidgets>=7.6.5->pycaret) (0.5.5)\n",
      "Requirement already satisfied: jupyter-server>=1.8 in e:\\anaconda\\lib\\site-packages (from nbclassic>=0.4.7->notebook>=4.4.1->widgetsnbextension~=3.6.6->ipywidgets>=7.6.5->pycaret) (1.23.4)\n",
      "Requirement already satisfied: notebook-shim>=0.1.0 in e:\\anaconda\\lib\\site-packages (from nbclassic>=0.4.7->notebook>=4.4.1->widgetsnbextension~=3.6.6->ipywidgets>=7.6.5->pycaret) (0.2.2)\n",
      "Requirement already satisfied: lxml in e:\\anaconda\\lib\\site-packages (from nbconvert>=5->notebook>=4.4.1->widgetsnbextension~=3.6.6->ipywidgets>=7.6.5->pycaret) (4.9.3)\n",
      "Requirement already satisfied: beautifulsoup4 in e:\\anaconda\\lib\\site-packages (from nbconvert>=5->notebook>=4.4.1->widgetsnbextension~=3.6.6->ipywidgets>=7.6.5->pycaret) (4.12.2)\n",
      "Requirement already satisfied: bleach in e:\\anaconda\\lib\\site-packages (from nbconvert>=5->notebook>=4.4.1->widgetsnbextension~=3.6.6->ipywidgets>=7.6.5->pycaret) (4.1.0)\n",
      "Requirement already satisfied: defusedxml in e:\\anaconda\\lib\\site-packages (from nbconvert>=5->notebook>=4.4.1->widgetsnbextension~=3.6.6->ipywidgets>=7.6.5->pycaret) (0.7.1)\n",
      "Requirement already satisfied: entrypoints>=0.2.2 in e:\\anaconda\\lib\\site-packages (from nbconvert>=5->notebook>=4.4.1->widgetsnbextension~=3.6.6->ipywidgets>=7.6.5->pycaret) (0.4)\n",
      "Requirement already satisfied: jupyterlab-pygments in e:\\anaconda\\lib\\site-packages (from nbconvert>=5->notebook>=4.4.1->widgetsnbextension~=3.6.6->ipywidgets>=7.6.5->pycaret) (0.1.2)\n",
      "Requirement already satisfied: mistune<2,>=0.8.1 in e:\\anaconda\\lib\\site-packages (from nbconvert>=5->notebook>=4.4.1->widgetsnbextension~=3.6.6->ipywidgets>=7.6.5->pycaret) (0.8.4)\n",
      "Requirement already satisfied: nbclient>=0.5.0 in e:\\anaconda\\lib\\site-packages (from nbconvert>=5->notebook>=4.4.1->widgetsnbextension~=3.6.6->ipywidgets>=7.6.5->pycaret) (0.5.13)\n",
      "Requirement already satisfied: pandocfilters>=1.4.1 in e:\\anaconda\\lib\\site-packages (from nbconvert>=5->notebook>=4.4.1->widgetsnbextension~=3.6.6->ipywidgets>=7.6.5->pycaret) (1.5.0)\n",
      "Requirement already satisfied: tinycss2 in e:\\anaconda\\lib\\site-packages (from nbconvert>=5->notebook>=4.4.1->widgetsnbextension~=3.6.6->ipywidgets>=7.6.5->pycaret) (1.2.1)\n",
      "Requirement already satisfied: pywinpty>=1.1.0 in e:\\anaconda\\lib\\site-packages (from terminado>=0.8.3->notebook>=4.4.1->widgetsnbextension~=3.6.6->ipywidgets>=7.6.5->pycaret) (2.0.10)\n",
      "Requirement already satisfied: argon2-cffi-bindings in e:\\anaconda\\lib\\site-packages (from argon2-cffi->notebook>=4.4.1->widgetsnbextension~=3.6.6->ipywidgets>=7.6.5->pycaret) (21.2.0)\n",
      "Requirement already satisfied: debugpy>=1.6.5 in c:\\users\\abhinandan sharma\\appdata\\roaming\\python\\python311\\site-packages (from ipykernel->notebook>=4.4.1->widgetsnbextension~=3.6.6->ipywidgets>=7.6.5->pycaret) (1.6.6)\n",
      "Requirement already satisfied: anyio<4,>=3.1.0 in e:\\anaconda\\lib\\site-packages (from jupyter-server>=1.8->nbclassic>=0.4.7->notebook>=4.4.1->widgetsnbextension~=3.6.6->ipywidgets>=7.6.5->pycaret) (3.5.0)\n",
      "Requirement already satisfied: websocket-client in e:\\anaconda\\lib\\site-packages (from jupyter-server>=1.8->nbclassic>=0.4.7->notebook>=4.4.1->widgetsnbextension~=3.6.6->ipywidgets>=7.6.5->pycaret) (0.58.0)\n",
      "Requirement already satisfied: cffi>=1.0.1 in e:\\anaconda\\lib\\site-packages (from argon2-cffi-bindings->argon2-cffi->notebook>=4.4.1->widgetsnbextension~=3.6.6->ipywidgets>=7.6.5->pycaret) (1.15.1)\n",
      "Requirement already satisfied: soupsieve>1.2 in e:\\anaconda\\lib\\site-packages (from beautifulsoup4->nbconvert>=5->notebook>=4.4.1->widgetsnbextension~=3.6.6->ipywidgets>=7.6.5->pycaret) (2.4)\n",
      "Requirement already satisfied: webencodings in e:\\anaconda\\lib\\site-packages (from bleach->nbconvert>=5->notebook>=4.4.1->widgetsnbextension~=3.6.6->ipywidgets>=7.6.5->pycaret) (0.5.1)\n",
      "Requirement already satisfied: sniffio>=1.1 in e:\\anaconda\\lib\\site-packages (from anyio<4,>=3.1.0->jupyter-server>=1.8->nbclassic>=0.4.7->notebook>=4.4.1->widgetsnbextension~=3.6.6->ipywidgets>=7.6.5->pycaret) (1.2.0)\n",
      "Requirement already satisfied: pycparser in e:\\anaconda\\lib\\site-packages (from cffi>=1.0.1->argon2-cffi-bindings->argon2-cffi->notebook>=4.4.1->widgetsnbextension~=3.6.6->ipywidgets>=7.6.5->pycaret) (2.21)\n"
     ]
    }
   ],
   "source": [
    "!pip install pycaret\n",
    "from pycaret.datasets import get_data\n",
    "from pycaret.clustering import *\n",
    "import pandas as pd\n",
    "from sklearn.preprocessing import StandardScaler, MinMaxScaler\n",
    "from sklearn.decomposition import PCA"
   ]
  },
  {
   "cell_type": "code",
   "execution_count": 3,
   "id": "89959852",
   "metadata": {},
   "outputs": [
    {
     "data": {
      "text/plain": [
       "'3.2.0'"
      ]
     },
     "execution_count": 3,
     "metadata": {},
     "output_type": "execute_result"
    }
   ],
   "source": [
    "from pycaret.utils import version\n",
    "version()"
   ]
  },
  {
   "cell_type": "code",
   "execution_count": 4,
   "id": "51f8f3ea",
   "metadata": {},
   "outputs": [
    {
     "data": {
      "text/html": [
       "<div>\n",
       "<style scoped>\n",
       "    .dataframe tbody tr th:only-of-type {\n",
       "        vertical-align: middle;\n",
       "    }\n",
       "\n",
       "    .dataframe tbody tr th {\n",
       "        vertical-align: top;\n",
       "    }\n",
       "\n",
       "    .dataframe thead th {\n",
       "        text-align: right;\n",
       "    }\n",
       "</style>\n",
       "<table border=\"1\" class=\"dataframe\">\n",
       "  <thead>\n",
       "    <tr style=\"text-align: right;\">\n",
       "      <th></th>\n",
       "      <th>Dataset</th>\n",
       "      <th>Data Types</th>\n",
       "      <th>Default Task</th>\n",
       "      <th>Target Variable 1</th>\n",
       "      <th>Target Variable 2</th>\n",
       "      <th># Instances</th>\n",
       "      <th># Attributes</th>\n",
       "      <th>Missing Values</th>\n",
       "    </tr>\n",
       "  </thead>\n",
       "  <tbody>\n",
       "    <tr>\n",
       "      <th>0</th>\n",
       "      <td>anomaly</td>\n",
       "      <td>Multivariate</td>\n",
       "      <td>Anomaly Detection</td>\n",
       "      <td>None</td>\n",
       "      <td>None</td>\n",
       "      <td>1000</td>\n",
       "      <td>10</td>\n",
       "      <td>N</td>\n",
       "    </tr>\n",
       "    <tr>\n",
       "      <th>1</th>\n",
       "      <td>france</td>\n",
       "      <td>Multivariate</td>\n",
       "      <td>Association Rule Mining</td>\n",
       "      <td>InvoiceNo</td>\n",
       "      <td>Description</td>\n",
       "      <td>8557</td>\n",
       "      <td>8</td>\n",
       "      <td>N</td>\n",
       "    </tr>\n",
       "    <tr>\n",
       "      <th>2</th>\n",
       "      <td>germany</td>\n",
       "      <td>Multivariate</td>\n",
       "      <td>Association Rule Mining</td>\n",
       "      <td>InvoiceNo</td>\n",
       "      <td>Description</td>\n",
       "      <td>9495</td>\n",
       "      <td>8</td>\n",
       "      <td>N</td>\n",
       "    </tr>\n",
       "    <tr>\n",
       "      <th>3</th>\n",
       "      <td>bank</td>\n",
       "      <td>Multivariate</td>\n",
       "      <td>Classification (Binary)</td>\n",
       "      <td>deposit</td>\n",
       "      <td>None</td>\n",
       "      <td>45211</td>\n",
       "      <td>17</td>\n",
       "      <td>N</td>\n",
       "    </tr>\n",
       "    <tr>\n",
       "      <th>4</th>\n",
       "      <td>blood</td>\n",
       "      <td>Multivariate</td>\n",
       "      <td>Classification (Binary)</td>\n",
       "      <td>Class</td>\n",
       "      <td>None</td>\n",
       "      <td>748</td>\n",
       "      <td>5</td>\n",
       "      <td>N</td>\n",
       "    </tr>\n",
       "    <tr>\n",
       "      <th>5</th>\n",
       "      <td>cancer</td>\n",
       "      <td>Multivariate</td>\n",
       "      <td>Classification (Binary)</td>\n",
       "      <td>Class</td>\n",
       "      <td>None</td>\n",
       "      <td>683</td>\n",
       "      <td>10</td>\n",
       "      <td>N</td>\n",
       "    </tr>\n",
       "    <tr>\n",
       "      <th>6</th>\n",
       "      <td>credit</td>\n",
       "      <td>Multivariate</td>\n",
       "      <td>Classification (Binary)</td>\n",
       "      <td>default</td>\n",
       "      <td>None</td>\n",
       "      <td>24000</td>\n",
       "      <td>24</td>\n",
       "      <td>N</td>\n",
       "    </tr>\n",
       "    <tr>\n",
       "      <th>7</th>\n",
       "      <td>diabetes</td>\n",
       "      <td>Multivariate</td>\n",
       "      <td>Classification (Binary)</td>\n",
       "      <td>Class variable</td>\n",
       "      <td>None</td>\n",
       "      <td>768</td>\n",
       "      <td>9</td>\n",
       "      <td>N</td>\n",
       "    </tr>\n",
       "    <tr>\n",
       "      <th>8</th>\n",
       "      <td>electrical_grid</td>\n",
       "      <td>Multivariate</td>\n",
       "      <td>Classification (Binary)</td>\n",
       "      <td>stabf</td>\n",
       "      <td>None</td>\n",
       "      <td>10000</td>\n",
       "      <td>14</td>\n",
       "      <td>N</td>\n",
       "    </tr>\n",
       "    <tr>\n",
       "      <th>9</th>\n",
       "      <td>employee</td>\n",
       "      <td>Multivariate</td>\n",
       "      <td>Classification (Binary)</td>\n",
       "      <td>left</td>\n",
       "      <td>None</td>\n",
       "      <td>14999</td>\n",
       "      <td>10</td>\n",
       "      <td>N</td>\n",
       "    </tr>\n",
       "    <tr>\n",
       "      <th>10</th>\n",
       "      <td>heart</td>\n",
       "      <td>Multivariate</td>\n",
       "      <td>Classification (Binary)</td>\n",
       "      <td>DEATH</td>\n",
       "      <td>None</td>\n",
       "      <td>200</td>\n",
       "      <td>16</td>\n",
       "      <td>N</td>\n",
       "    </tr>\n",
       "    <tr>\n",
       "      <th>11</th>\n",
       "      <td>heart_disease</td>\n",
       "      <td>Multivariate</td>\n",
       "      <td>Classification (Binary)</td>\n",
       "      <td>Disease</td>\n",
       "      <td>None</td>\n",
       "      <td>270</td>\n",
       "      <td>14</td>\n",
       "      <td>N</td>\n",
       "    </tr>\n",
       "    <tr>\n",
       "      <th>12</th>\n",
       "      <td>hepatitis</td>\n",
       "      <td>Multivariate</td>\n",
       "      <td>Classification (Binary)</td>\n",
       "      <td>Class</td>\n",
       "      <td>None</td>\n",
       "      <td>154</td>\n",
       "      <td>32</td>\n",
       "      <td>Y</td>\n",
       "    </tr>\n",
       "    <tr>\n",
       "      <th>13</th>\n",
       "      <td>income</td>\n",
       "      <td>Multivariate</td>\n",
       "      <td>Classification (Binary)</td>\n",
       "      <td>income &gt;50K</td>\n",
       "      <td>None</td>\n",
       "      <td>32561</td>\n",
       "      <td>14</td>\n",
       "      <td>Y</td>\n",
       "    </tr>\n",
       "    <tr>\n",
       "      <th>14</th>\n",
       "      <td>juice</td>\n",
       "      <td>Multivariate</td>\n",
       "      <td>Classification (Binary)</td>\n",
       "      <td>Purchase</td>\n",
       "      <td>None</td>\n",
       "      <td>1070</td>\n",
       "      <td>15</td>\n",
       "      <td>N</td>\n",
       "    </tr>\n",
       "    <tr>\n",
       "      <th>15</th>\n",
       "      <td>nba</td>\n",
       "      <td>Multivariate</td>\n",
       "      <td>Classification (Binary)</td>\n",
       "      <td>TARGET_5Yrs</td>\n",
       "      <td>None</td>\n",
       "      <td>1340</td>\n",
       "      <td>21</td>\n",
       "      <td>N</td>\n",
       "    </tr>\n",
       "    <tr>\n",
       "      <th>16</th>\n",
       "      <td>wine</td>\n",
       "      <td>Multivariate</td>\n",
       "      <td>Classification (Binary)</td>\n",
       "      <td>type</td>\n",
       "      <td>None</td>\n",
       "      <td>6498</td>\n",
       "      <td>13</td>\n",
       "      <td>N</td>\n",
       "    </tr>\n",
       "    <tr>\n",
       "      <th>17</th>\n",
       "      <td>telescope</td>\n",
       "      <td>Multivariate</td>\n",
       "      <td>Classification (Binary)</td>\n",
       "      <td>Class</td>\n",
       "      <td>None</td>\n",
       "      <td>19020</td>\n",
       "      <td>11</td>\n",
       "      <td>N</td>\n",
       "    </tr>\n",
       "    <tr>\n",
       "      <th>18</th>\n",
       "      <td>titanic</td>\n",
       "      <td>Multivariate</td>\n",
       "      <td>Classification (Binary)</td>\n",
       "      <td>Survived</td>\n",
       "      <td>None</td>\n",
       "      <td>891</td>\n",
       "      <td>11</td>\n",
       "      <td>Y</td>\n",
       "    </tr>\n",
       "    <tr>\n",
       "      <th>19</th>\n",
       "      <td>us_presidential_election_results</td>\n",
       "      <td>Multivariate</td>\n",
       "      <td>Classification (Binary)</td>\n",
       "      <td>party_winner</td>\n",
       "      <td>None</td>\n",
       "      <td>497</td>\n",
       "      <td>7</td>\n",
       "      <td>N</td>\n",
       "    </tr>\n",
       "    <tr>\n",
       "      <th>20</th>\n",
       "      <td>glass</td>\n",
       "      <td>Multivariate</td>\n",
       "      <td>Classification (Multiclass)</td>\n",
       "      <td>Type</td>\n",
       "      <td>None</td>\n",
       "      <td>214</td>\n",
       "      <td>10</td>\n",
       "      <td>N</td>\n",
       "    </tr>\n",
       "    <tr>\n",
       "      <th>21</th>\n",
       "      <td>iris</td>\n",
       "      <td>Multivariate</td>\n",
       "      <td>Classification (Multiclass)</td>\n",
       "      <td>species</td>\n",
       "      <td>None</td>\n",
       "      <td>150</td>\n",
       "      <td>5</td>\n",
       "      <td>N</td>\n",
       "    </tr>\n",
       "    <tr>\n",
       "      <th>22</th>\n",
       "      <td>poker</td>\n",
       "      <td>Multivariate</td>\n",
       "      <td>Classification (Multiclass)</td>\n",
       "      <td>CLASS</td>\n",
       "      <td>None</td>\n",
       "      <td>100000</td>\n",
       "      <td>11</td>\n",
       "      <td>N</td>\n",
       "    </tr>\n",
       "    <tr>\n",
       "      <th>23</th>\n",
       "      <td>questions</td>\n",
       "      <td>Multivariate</td>\n",
       "      <td>Classification (Multiclass)</td>\n",
       "      <td>Next_Question</td>\n",
       "      <td>None</td>\n",
       "      <td>499</td>\n",
       "      <td>4</td>\n",
       "      <td>N</td>\n",
       "    </tr>\n",
       "    <tr>\n",
       "      <th>24</th>\n",
       "      <td>satellite</td>\n",
       "      <td>Multivariate</td>\n",
       "      <td>Classification (Multiclass)</td>\n",
       "      <td>Class</td>\n",
       "      <td>None</td>\n",
       "      <td>6435</td>\n",
       "      <td>37</td>\n",
       "      <td>N</td>\n",
       "    </tr>\n",
       "    <tr>\n",
       "      <th>25</th>\n",
       "      <td>CTG</td>\n",
       "      <td>Multivariate</td>\n",
       "      <td>Classification (Multiclass)</td>\n",
       "      <td>NSP</td>\n",
       "      <td>None</td>\n",
       "      <td>2129</td>\n",
       "      <td>40</td>\n",
       "      <td>Y</td>\n",
       "    </tr>\n",
       "    <tr>\n",
       "      <th>26</th>\n",
       "      <td>asia_gdp</td>\n",
       "      <td>Multivariate</td>\n",
       "      <td>Clustering</td>\n",
       "      <td>None</td>\n",
       "      <td>None</td>\n",
       "      <td>40</td>\n",
       "      <td>11</td>\n",
       "      <td>N</td>\n",
       "    </tr>\n",
       "    <tr>\n",
       "      <th>27</th>\n",
       "      <td>elections</td>\n",
       "      <td>Multivariate</td>\n",
       "      <td>Clustering</td>\n",
       "      <td>None</td>\n",
       "      <td>None</td>\n",
       "      <td>3195</td>\n",
       "      <td>54</td>\n",
       "      <td>Y</td>\n",
       "    </tr>\n",
       "    <tr>\n",
       "      <th>28</th>\n",
       "      <td>facebook</td>\n",
       "      <td>Multivariate</td>\n",
       "      <td>Clustering</td>\n",
       "      <td>None</td>\n",
       "      <td>None</td>\n",
       "      <td>7050</td>\n",
       "      <td>12</td>\n",
       "      <td>N</td>\n",
       "    </tr>\n",
       "    <tr>\n",
       "      <th>29</th>\n",
       "      <td>ipl</td>\n",
       "      <td>Multivariate</td>\n",
       "      <td>Clustering</td>\n",
       "      <td>None</td>\n",
       "      <td>None</td>\n",
       "      <td>153</td>\n",
       "      <td>25</td>\n",
       "      <td>N</td>\n",
       "    </tr>\n",
       "    <tr>\n",
       "      <th>30</th>\n",
       "      <td>jewellery</td>\n",
       "      <td>Multivariate</td>\n",
       "      <td>Clustering</td>\n",
       "      <td>None</td>\n",
       "      <td>None</td>\n",
       "      <td>505</td>\n",
       "      <td>4</td>\n",
       "      <td>N</td>\n",
       "    </tr>\n",
       "    <tr>\n",
       "      <th>31</th>\n",
       "      <td>mice</td>\n",
       "      <td>Multivariate</td>\n",
       "      <td>Clustering</td>\n",
       "      <td>None</td>\n",
       "      <td>None</td>\n",
       "      <td>1080</td>\n",
       "      <td>82</td>\n",
       "      <td>Y</td>\n",
       "    </tr>\n",
       "    <tr>\n",
       "      <th>32</th>\n",
       "      <td>migration</td>\n",
       "      <td>Multivariate</td>\n",
       "      <td>Clustering</td>\n",
       "      <td>None</td>\n",
       "      <td>None</td>\n",
       "      <td>233</td>\n",
       "      <td>12</td>\n",
       "      <td>N</td>\n",
       "    </tr>\n",
       "    <tr>\n",
       "      <th>33</th>\n",
       "      <td>perfume</td>\n",
       "      <td>Multivariate</td>\n",
       "      <td>Clustering</td>\n",
       "      <td>None</td>\n",
       "      <td>None</td>\n",
       "      <td>20</td>\n",
       "      <td>29</td>\n",
       "      <td>N</td>\n",
       "    </tr>\n",
       "    <tr>\n",
       "      <th>34</th>\n",
       "      <td>pokemon</td>\n",
       "      <td>Multivariate</td>\n",
       "      <td>Clustering</td>\n",
       "      <td>None</td>\n",
       "      <td>None</td>\n",
       "      <td>800</td>\n",
       "      <td>13</td>\n",
       "      <td>Y</td>\n",
       "    </tr>\n",
       "    <tr>\n",
       "      <th>35</th>\n",
       "      <td>population</td>\n",
       "      <td>Multivariate</td>\n",
       "      <td>Clustering</td>\n",
       "      <td>None</td>\n",
       "      <td>None</td>\n",
       "      <td>255</td>\n",
       "      <td>56</td>\n",
       "      <td>Y</td>\n",
       "    </tr>\n",
       "    <tr>\n",
       "      <th>36</th>\n",
       "      <td>public_health</td>\n",
       "      <td>Multivariate</td>\n",
       "      <td>Clustering</td>\n",
       "      <td>None</td>\n",
       "      <td>None</td>\n",
       "      <td>224</td>\n",
       "      <td>21</td>\n",
       "      <td>N</td>\n",
       "    </tr>\n",
       "    <tr>\n",
       "      <th>37</th>\n",
       "      <td>seeds</td>\n",
       "      <td>Multivariate</td>\n",
       "      <td>Clustering</td>\n",
       "      <td>None</td>\n",
       "      <td>None</td>\n",
       "      <td>210</td>\n",
       "      <td>7</td>\n",
       "      <td>N</td>\n",
       "    </tr>\n",
       "    <tr>\n",
       "      <th>38</th>\n",
       "      <td>wholesale</td>\n",
       "      <td>Multivariate</td>\n",
       "      <td>Clustering</td>\n",
       "      <td>None</td>\n",
       "      <td>None</td>\n",
       "      <td>440</td>\n",
       "      <td>8</td>\n",
       "      <td>N</td>\n",
       "    </tr>\n",
       "    <tr>\n",
       "      <th>39</th>\n",
       "      <td>tweets</td>\n",
       "      <td>Text</td>\n",
       "      <td>NLP</td>\n",
       "      <td>tweet</td>\n",
       "      <td>None</td>\n",
       "      <td>8594</td>\n",
       "      <td>2</td>\n",
       "      <td>N</td>\n",
       "    </tr>\n",
       "    <tr>\n",
       "      <th>40</th>\n",
       "      <td>amazon</td>\n",
       "      <td>Text</td>\n",
       "      <td>NLP / Classification</td>\n",
       "      <td>reviewText</td>\n",
       "      <td>None</td>\n",
       "      <td>20000</td>\n",
       "      <td>2</td>\n",
       "      <td>N</td>\n",
       "    </tr>\n",
       "    <tr>\n",
       "      <th>41</th>\n",
       "      <td>kiva</td>\n",
       "      <td>Text</td>\n",
       "      <td>NLP / Classification</td>\n",
       "      <td>en</td>\n",
       "      <td>None</td>\n",
       "      <td>6818</td>\n",
       "      <td>7</td>\n",
       "      <td>N</td>\n",
       "    </tr>\n",
       "    <tr>\n",
       "      <th>42</th>\n",
       "      <td>spx</td>\n",
       "      <td>Text</td>\n",
       "      <td>NLP / Regression</td>\n",
       "      <td>text</td>\n",
       "      <td>None</td>\n",
       "      <td>874</td>\n",
       "      <td>4</td>\n",
       "      <td>N</td>\n",
       "    </tr>\n",
       "    <tr>\n",
       "      <th>43</th>\n",
       "      <td>wikipedia</td>\n",
       "      <td>Text</td>\n",
       "      <td>NLP / Classification</td>\n",
       "      <td>Text</td>\n",
       "      <td>None</td>\n",
       "      <td>500</td>\n",
       "      <td>3</td>\n",
       "      <td>N</td>\n",
       "    </tr>\n",
       "    <tr>\n",
       "      <th>44</th>\n",
       "      <td>automobile</td>\n",
       "      <td>Multivariate</td>\n",
       "      <td>Regression</td>\n",
       "      <td>price</td>\n",
       "      <td>None</td>\n",
       "      <td>202</td>\n",
       "      <td>26</td>\n",
       "      <td>Y</td>\n",
       "    </tr>\n",
       "    <tr>\n",
       "      <th>45</th>\n",
       "      <td>bike</td>\n",
       "      <td>Multivariate</td>\n",
       "      <td>Regression</td>\n",
       "      <td>cnt</td>\n",
       "      <td>None</td>\n",
       "      <td>17379</td>\n",
       "      <td>15</td>\n",
       "      <td>N</td>\n",
       "    </tr>\n",
       "    <tr>\n",
       "      <th>46</th>\n",
       "      <td>boston</td>\n",
       "      <td>Multivariate</td>\n",
       "      <td>Regression</td>\n",
       "      <td>medv</td>\n",
       "      <td>None</td>\n",
       "      <td>506</td>\n",
       "      <td>14</td>\n",
       "      <td>N</td>\n",
       "    </tr>\n",
       "    <tr>\n",
       "      <th>47</th>\n",
       "      <td>concrete</td>\n",
       "      <td>Multivariate</td>\n",
       "      <td>Regression</td>\n",
       "      <td>strength</td>\n",
       "      <td>None</td>\n",
       "      <td>1030</td>\n",
       "      <td>9</td>\n",
       "      <td>N</td>\n",
       "    </tr>\n",
       "    <tr>\n",
       "      <th>48</th>\n",
       "      <td>diamond</td>\n",
       "      <td>Multivariate</td>\n",
       "      <td>Regression</td>\n",
       "      <td>Price</td>\n",
       "      <td>None</td>\n",
       "      <td>6000</td>\n",
       "      <td>8</td>\n",
       "      <td>N</td>\n",
       "    </tr>\n",
       "    <tr>\n",
       "      <th>49</th>\n",
       "      <td>energy</td>\n",
       "      <td>Multivariate</td>\n",
       "      <td>Regression</td>\n",
       "      <td>Heating Load</td>\n",
       "      <td>Cooling Load</td>\n",
       "      <td>768</td>\n",
       "      <td>10</td>\n",
       "      <td>N</td>\n",
       "    </tr>\n",
       "    <tr>\n",
       "      <th>50</th>\n",
       "      <td>forest</td>\n",
       "      <td>Multivariate</td>\n",
       "      <td>Regression</td>\n",
       "      <td>area</td>\n",
       "      <td>None</td>\n",
       "      <td>517</td>\n",
       "      <td>13</td>\n",
       "      <td>N</td>\n",
       "    </tr>\n",
       "    <tr>\n",
       "      <th>51</th>\n",
       "      <td>gold</td>\n",
       "      <td>Multivariate</td>\n",
       "      <td>Regression</td>\n",
       "      <td>Gold_T+22</td>\n",
       "      <td>None</td>\n",
       "      <td>2558</td>\n",
       "      <td>121</td>\n",
       "      <td>N</td>\n",
       "    </tr>\n",
       "    <tr>\n",
       "      <th>52</th>\n",
       "      <td>house</td>\n",
       "      <td>Multivariate</td>\n",
       "      <td>Regression</td>\n",
       "      <td>SalePrice</td>\n",
       "      <td>None</td>\n",
       "      <td>1461</td>\n",
       "      <td>81</td>\n",
       "      <td>Y</td>\n",
       "    </tr>\n",
       "    <tr>\n",
       "      <th>53</th>\n",
       "      <td>insurance</td>\n",
       "      <td>Multivariate</td>\n",
       "      <td>Regression</td>\n",
       "      <td>charges</td>\n",
       "      <td>None</td>\n",
       "      <td>1338</td>\n",
       "      <td>7</td>\n",
       "      <td>N</td>\n",
       "    </tr>\n",
       "    <tr>\n",
       "      <th>54</th>\n",
       "      <td>parkinsons</td>\n",
       "      <td>Multivariate</td>\n",
       "      <td>Regression</td>\n",
       "      <td>PPE</td>\n",
       "      <td>None</td>\n",
       "      <td>5875</td>\n",
       "      <td>22</td>\n",
       "      <td>N</td>\n",
       "    </tr>\n",
       "    <tr>\n",
       "      <th>55</th>\n",
       "      <td>traffic</td>\n",
       "      <td>Multivariate</td>\n",
       "      <td>Regression</td>\n",
       "      <td>traffic_volume</td>\n",
       "      <td>None</td>\n",
       "      <td>48204</td>\n",
       "      <td>8</td>\n",
       "      <td>N</td>\n",
       "    </tr>\n",
       "  </tbody>\n",
       "</table>\n",
       "</div>"
      ],
      "text/plain": [
       "                             Dataset    Data Types  \\\n",
       "0                            anomaly  Multivariate   \n",
       "1                             france  Multivariate   \n",
       "2                            germany  Multivariate   \n",
       "3                               bank  Multivariate   \n",
       "4                              blood  Multivariate   \n",
       "5                             cancer  Multivariate   \n",
       "6                             credit  Multivariate   \n",
       "7                           diabetes  Multivariate   \n",
       "8                    electrical_grid  Multivariate   \n",
       "9                           employee  Multivariate   \n",
       "10                             heart  Multivariate   \n",
       "11                     heart_disease  Multivariate   \n",
       "12                         hepatitis  Multivariate   \n",
       "13                            income  Multivariate   \n",
       "14                             juice  Multivariate   \n",
       "15                               nba  Multivariate   \n",
       "16                              wine  Multivariate   \n",
       "17                         telescope  Multivariate   \n",
       "18                           titanic  Multivariate   \n",
       "19  us_presidential_election_results  Multivariate   \n",
       "20                             glass  Multivariate   \n",
       "21                              iris  Multivariate   \n",
       "22                             poker  Multivariate   \n",
       "23                         questions  Multivariate   \n",
       "24                         satellite  Multivariate   \n",
       "25                               CTG  Multivariate   \n",
       "26                          asia_gdp  Multivariate   \n",
       "27                         elections  Multivariate   \n",
       "28                          facebook  Multivariate   \n",
       "29                               ipl  Multivariate   \n",
       "30                         jewellery  Multivariate   \n",
       "31                              mice  Multivariate   \n",
       "32                         migration  Multivariate   \n",
       "33                           perfume  Multivariate   \n",
       "34                           pokemon  Multivariate   \n",
       "35                        population  Multivariate   \n",
       "36                     public_health  Multivariate   \n",
       "37                             seeds  Multivariate   \n",
       "38                         wholesale  Multivariate   \n",
       "39                            tweets          Text   \n",
       "40                            amazon          Text   \n",
       "41                              kiva          Text   \n",
       "42                               spx          Text   \n",
       "43                         wikipedia          Text   \n",
       "44                        automobile  Multivariate   \n",
       "45                              bike  Multivariate   \n",
       "46                            boston  Multivariate   \n",
       "47                          concrete  Multivariate   \n",
       "48                           diamond  Multivariate   \n",
       "49                            energy  Multivariate   \n",
       "50                            forest  Multivariate   \n",
       "51                              gold  Multivariate   \n",
       "52                             house  Multivariate   \n",
       "53                         insurance  Multivariate   \n",
       "54                        parkinsons  Multivariate   \n",
       "55                           traffic  Multivariate   \n",
       "\n",
       "                   Default Task Target Variable 1 Target Variable 2  \\\n",
       "0             Anomaly Detection              None              None   \n",
       "1       Association Rule Mining         InvoiceNo       Description   \n",
       "2       Association Rule Mining         InvoiceNo       Description   \n",
       "3       Classification (Binary)           deposit              None   \n",
       "4       Classification (Binary)             Class              None   \n",
       "5       Classification (Binary)             Class              None   \n",
       "6       Classification (Binary)           default              None   \n",
       "7       Classification (Binary)    Class variable              None   \n",
       "8       Classification (Binary)             stabf              None   \n",
       "9       Classification (Binary)              left              None   \n",
       "10      Classification (Binary)             DEATH              None   \n",
       "11      Classification (Binary)           Disease              None   \n",
       "12      Classification (Binary)             Class              None   \n",
       "13      Classification (Binary)       income >50K              None   \n",
       "14      Classification (Binary)          Purchase              None   \n",
       "15      Classification (Binary)       TARGET_5Yrs              None   \n",
       "16      Classification (Binary)              type              None   \n",
       "17      Classification (Binary)             Class              None   \n",
       "18      Classification (Binary)          Survived              None   \n",
       "19      Classification (Binary)      party_winner              None   \n",
       "20  Classification (Multiclass)              Type              None   \n",
       "21  Classification (Multiclass)           species              None   \n",
       "22  Classification (Multiclass)             CLASS              None   \n",
       "23  Classification (Multiclass)     Next_Question              None   \n",
       "24  Classification (Multiclass)             Class              None   \n",
       "25  Classification (Multiclass)               NSP              None   \n",
       "26                   Clustering              None              None   \n",
       "27                   Clustering              None              None   \n",
       "28                   Clustering              None              None   \n",
       "29                   Clustering              None              None   \n",
       "30                   Clustering              None              None   \n",
       "31                   Clustering              None              None   \n",
       "32                   Clustering              None              None   \n",
       "33                   Clustering              None              None   \n",
       "34                   Clustering              None              None   \n",
       "35                   Clustering              None              None   \n",
       "36                   Clustering              None              None   \n",
       "37                   Clustering              None              None   \n",
       "38                   Clustering              None              None   \n",
       "39                          NLP             tweet              None   \n",
       "40         NLP / Classification        reviewText              None   \n",
       "41         NLP / Classification                en              None   \n",
       "42             NLP / Regression              text              None   \n",
       "43         NLP / Classification              Text              None   \n",
       "44                   Regression             price              None   \n",
       "45                   Regression               cnt              None   \n",
       "46                   Regression              medv              None   \n",
       "47                   Regression          strength              None   \n",
       "48                   Regression             Price              None   \n",
       "49                   Regression      Heating Load      Cooling Load   \n",
       "50                   Regression              area              None   \n",
       "51                   Regression         Gold_T+22              None   \n",
       "52                   Regression         SalePrice              None   \n",
       "53                   Regression           charges              None   \n",
       "54                   Regression               PPE              None   \n",
       "55                   Regression    traffic_volume              None   \n",
       "\n",
       "    # Instances  # Attributes Missing Values  \n",
       "0          1000            10              N  \n",
       "1          8557             8              N  \n",
       "2          9495             8              N  \n",
       "3         45211            17              N  \n",
       "4           748             5              N  \n",
       "5           683            10              N  \n",
       "6         24000            24              N  \n",
       "7           768             9              N  \n",
       "8         10000            14              N  \n",
       "9         14999            10              N  \n",
       "10          200            16              N  \n",
       "11          270            14              N  \n",
       "12          154            32              Y  \n",
       "13        32561            14              Y  \n",
       "14         1070            15              N  \n",
       "15         1340            21              N  \n",
       "16         6498            13              N  \n",
       "17        19020            11              N  \n",
       "18          891            11              Y  \n",
       "19          497             7              N  \n",
       "20          214            10              N  \n",
       "21          150             5              N  \n",
       "22       100000            11              N  \n",
       "23          499             4              N  \n",
       "24         6435            37              N  \n",
       "25         2129            40              Y  \n",
       "26           40            11              N  \n",
       "27         3195            54              Y  \n",
       "28         7050            12              N  \n",
       "29          153            25              N  \n",
       "30          505             4              N  \n",
       "31         1080            82              Y  \n",
       "32          233            12              N  \n",
       "33           20            29              N  \n",
       "34          800            13              Y  \n",
       "35          255            56              Y  \n",
       "36          224            21              N  \n",
       "37          210             7              N  \n",
       "38          440             8              N  \n",
       "39         8594             2              N  \n",
       "40        20000             2              N  \n",
       "41         6818             7              N  \n",
       "42          874             4              N  \n",
       "43          500             3              N  \n",
       "44          202            26              Y  \n",
       "45        17379            15              N  \n",
       "46          506            14              N  \n",
       "47         1030             9              N  \n",
       "48         6000             8              N  \n",
       "49          768            10              N  \n",
       "50          517            13              N  \n",
       "51         2558           121              N  \n",
       "52         1461            81              Y  \n",
       "53         1338             7              N  \n",
       "54         5875            22              N  \n",
       "55        48204             8              N  "
      ]
     },
     "metadata": {},
     "output_type": "display_data"
    }
   ],
   "source": [
    "from pycaret.datasets import get_data\n",
    "dataSets = get_data('index')"
   ]
  },
  {
   "cell_type": "code",
   "execution_count": 5,
   "id": "b55f6f45",
   "metadata": {},
   "outputs": [
    {
     "data": {
      "text/html": [
       "<div>\n",
       "<style scoped>\n",
       "    .dataframe tbody tr th:only-of-type {\n",
       "        vertical-align: middle;\n",
       "    }\n",
       "\n",
       "    .dataframe tbody tr th {\n",
       "        vertical-align: top;\n",
       "    }\n",
       "\n",
       "    .dataframe thead th {\n",
       "        text-align: right;\n",
       "    }\n",
       "</style>\n",
       "<table border=\"1\" class=\"dataframe\">\n",
       "  <thead>\n",
       "    <tr style=\"text-align: right;\">\n",
       "      <th></th>\n",
       "      <th>fips</th>\n",
       "      <th>area_name</th>\n",
       "      <th>state_abbreviation</th>\n",
       "      <th>PST045214</th>\n",
       "      <th>PST040210</th>\n",
       "      <th>PST120214</th>\n",
       "      <th>POP010210</th>\n",
       "      <th>AGE135214</th>\n",
       "      <th>AGE295214</th>\n",
       "      <th>AGE775214</th>\n",
       "      <th>...</th>\n",
       "      <th>SBO415207</th>\n",
       "      <th>SBO015207</th>\n",
       "      <th>MAN450207</th>\n",
       "      <th>WTN220207</th>\n",
       "      <th>RTN130207</th>\n",
       "      <th>RTN131207</th>\n",
       "      <th>AFN120207</th>\n",
       "      <th>BPS030214</th>\n",
       "      <th>LND110210</th>\n",
       "      <th>POP060210</th>\n",
       "    </tr>\n",
       "  </thead>\n",
       "  <tbody>\n",
       "    <tr>\n",
       "      <th>0</th>\n",
       "      <td>0</td>\n",
       "      <td>United States</td>\n",
       "      <td>NaN</td>\n",
       "      <td>318857056</td>\n",
       "      <td>308758105</td>\n",
       "      <td>3.3</td>\n",
       "      <td>308745538</td>\n",
       "      <td>6.2</td>\n",
       "      <td>23.1</td>\n",
       "      <td>14.5</td>\n",
       "      <td>...</td>\n",
       "      <td>8.3</td>\n",
       "      <td>28.8</td>\n",
       "      <td>5319456312</td>\n",
       "      <td>4174286516</td>\n",
       "      <td>3917663456</td>\n",
       "      <td>12990</td>\n",
       "      <td>613795732</td>\n",
       "      <td>1046363</td>\n",
       "      <td>3531905.43</td>\n",
       "      <td>87.4</td>\n",
       "    </tr>\n",
       "    <tr>\n",
       "      <th>1</th>\n",
       "      <td>1000</td>\n",
       "      <td>Alabama</td>\n",
       "      <td>NaN</td>\n",
       "      <td>4849377</td>\n",
       "      <td>4780127</td>\n",
       "      <td>1.4</td>\n",
       "      <td>4779736</td>\n",
       "      <td>6.1</td>\n",
       "      <td>22.8</td>\n",
       "      <td>15.3</td>\n",
       "      <td>...</td>\n",
       "      <td>1.2</td>\n",
       "      <td>28.1</td>\n",
       "      <td>112858843</td>\n",
       "      <td>52252752</td>\n",
       "      <td>57344851</td>\n",
       "      <td>12364</td>\n",
       "      <td>6426342</td>\n",
       "      <td>13369</td>\n",
       "      <td>50645.33</td>\n",
       "      <td>94.4</td>\n",
       "    </tr>\n",
       "    <tr>\n",
       "      <th>2</th>\n",
       "      <td>1001</td>\n",
       "      <td>Autauga County</td>\n",
       "      <td>AL</td>\n",
       "      <td>55395</td>\n",
       "      <td>54571</td>\n",
       "      <td>1.5</td>\n",
       "      <td>54571</td>\n",
       "      <td>6.0</td>\n",
       "      <td>25.2</td>\n",
       "      <td>13.8</td>\n",
       "      <td>...</td>\n",
       "      <td>0.7</td>\n",
       "      <td>31.7</td>\n",
       "      <td>0</td>\n",
       "      <td>0</td>\n",
       "      <td>598175</td>\n",
       "      <td>12003</td>\n",
       "      <td>88157</td>\n",
       "      <td>131</td>\n",
       "      <td>594.44</td>\n",
       "      <td>91.8</td>\n",
       "    </tr>\n",
       "    <tr>\n",
       "      <th>3</th>\n",
       "      <td>1003</td>\n",
       "      <td>Baldwin County</td>\n",
       "      <td>AL</td>\n",
       "      <td>200111</td>\n",
       "      <td>182265</td>\n",
       "      <td>9.8</td>\n",
       "      <td>182265</td>\n",
       "      <td>5.6</td>\n",
       "      <td>22.2</td>\n",
       "      <td>18.7</td>\n",
       "      <td>...</td>\n",
       "      <td>1.3</td>\n",
       "      <td>27.3</td>\n",
       "      <td>1410273</td>\n",
       "      <td>0</td>\n",
       "      <td>2966489</td>\n",
       "      <td>17166</td>\n",
       "      <td>436955</td>\n",
       "      <td>1384</td>\n",
       "      <td>1589.78</td>\n",
       "      <td>114.6</td>\n",
       "    </tr>\n",
       "    <tr>\n",
       "      <th>4</th>\n",
       "      <td>1005</td>\n",
       "      <td>Barbour County</td>\n",
       "      <td>AL</td>\n",
       "      <td>26887</td>\n",
       "      <td>27457</td>\n",
       "      <td>-2.1</td>\n",
       "      <td>27457</td>\n",
       "      <td>5.7</td>\n",
       "      <td>21.2</td>\n",
       "      <td>16.5</td>\n",
       "      <td>...</td>\n",
       "      <td>0.0</td>\n",
       "      <td>27.0</td>\n",
       "      <td>0</td>\n",
       "      <td>0</td>\n",
       "      <td>188337</td>\n",
       "      <td>6334</td>\n",
       "      <td>0</td>\n",
       "      <td>8</td>\n",
       "      <td>884.88</td>\n",
       "      <td>31.0</td>\n",
       "    </tr>\n",
       "  </tbody>\n",
       "</table>\n",
       "<p>5 rows × 54 columns</p>\n",
       "</div>"
      ],
      "text/plain": [
       "   fips       area_name state_abbreviation  PST045214  PST040210  PST120214  \\\n",
       "0     0   United States                NaN  318857056  308758105        3.3   \n",
       "1  1000         Alabama                NaN    4849377    4780127        1.4   \n",
       "2  1001  Autauga County                 AL      55395      54571        1.5   \n",
       "3  1003  Baldwin County                 AL     200111     182265        9.8   \n",
       "4  1005  Barbour County                 AL      26887      27457       -2.1   \n",
       "\n",
       "   POP010210  AGE135214  AGE295214  AGE775214  ...  SBO415207  SBO015207  \\\n",
       "0  308745538        6.2       23.1       14.5  ...        8.3       28.8   \n",
       "1    4779736        6.1       22.8       15.3  ...        1.2       28.1   \n",
       "2      54571        6.0       25.2       13.8  ...        0.7       31.7   \n",
       "3     182265        5.6       22.2       18.7  ...        1.3       27.3   \n",
       "4      27457        5.7       21.2       16.5  ...        0.0       27.0   \n",
       "\n",
       "    MAN450207   WTN220207   RTN130207  RTN131207  AFN120207  BPS030214  \\\n",
       "0  5319456312  4174286516  3917663456      12990  613795732    1046363   \n",
       "1   112858843    52252752    57344851      12364    6426342      13369   \n",
       "2           0           0      598175      12003      88157        131   \n",
       "3     1410273           0     2966489      17166     436955       1384   \n",
       "4           0           0      188337       6334          0          8   \n",
       "\n",
       "    LND110210  POP060210  \n",
       "0  3531905.43       87.4  \n",
       "1    50645.33       94.4  \n",
       "2      594.44       91.8  \n",
       "3     1589.78      114.6  \n",
       "4      884.88       31.0  \n",
       "\n",
       "[5 rows x 54 columns]"
      ]
     },
     "metadata": {},
     "output_type": "display_data"
    }
   ],
   "source": [
    "data = get_data('elections')"
   ]
  },
  {
   "cell_type": "code",
   "execution_count": 3,
   "id": "644429ab",
   "metadata": {},
   "outputs": [],
   "source": [
    "\n"
   ]
  },
  {
   "cell_type": "code",
   "execution_count": 6,
   "id": "c7836e60",
   "metadata": {},
   "outputs": [
    {
     "data": {
      "text/html": [
       "<style type=\"text/css\">\n",
       "#T_9f61e_row6_col1 {\n",
       "  background-color: lightgreen;\n",
       "}\n",
       "</style>\n",
       "<table id=\"T_9f61e\">\n",
       "  <thead>\n",
       "    <tr>\n",
       "      <th class=\"blank level0\" >&nbsp;</th>\n",
       "      <th id=\"T_9f61e_level0_col0\" class=\"col_heading level0 col0\" >Description</th>\n",
       "      <th id=\"T_9f61e_level0_col1\" class=\"col_heading level0 col1\" >Value</th>\n",
       "    </tr>\n",
       "  </thead>\n",
       "  <tbody>\n",
       "    <tr>\n",
       "      <th id=\"T_9f61e_level0_row0\" class=\"row_heading level0 row0\" >0</th>\n",
       "      <td id=\"T_9f61e_row0_col0\" class=\"data row0 col0\" >Session id</td>\n",
       "      <td id=\"T_9f61e_row0_col1\" class=\"data row0 col1\" >6683</td>\n",
       "    </tr>\n",
       "    <tr>\n",
       "      <th id=\"T_9f61e_level0_row1\" class=\"row_heading level0 row1\" >1</th>\n",
       "      <td id=\"T_9f61e_row1_col0\" class=\"data row1 col0\" >Original data shape</td>\n",
       "      <td id=\"T_9f61e_row1_col1\" class=\"data row1 col1\" >(3195, 54)</td>\n",
       "    </tr>\n",
       "    <tr>\n",
       "      <th id=\"T_9f61e_level0_row2\" class=\"row_heading level0 row2\" >2</th>\n",
       "      <td id=\"T_9f61e_row2_col0\" class=\"data row2 col0\" >Transformed data shape</td>\n",
       "      <td id=\"T_9f61e_row2_col1\" class=\"data row2 col1\" >(3195, 2032)</td>\n",
       "    </tr>\n",
       "    <tr>\n",
       "      <th id=\"T_9f61e_level0_row3\" class=\"row_heading level0 row3\" >3</th>\n",
       "      <td id=\"T_9f61e_row3_col0\" class=\"data row3 col0\" >Numeric features</td>\n",
       "      <td id=\"T_9f61e_row3_col1\" class=\"data row3 col1\" >52</td>\n",
       "    </tr>\n",
       "    <tr>\n",
       "      <th id=\"T_9f61e_level0_row4\" class=\"row_heading level0 row4\" >4</th>\n",
       "      <td id=\"T_9f61e_row4_col0\" class=\"data row4 col0\" >Categorical features</td>\n",
       "      <td id=\"T_9f61e_row4_col1\" class=\"data row4 col1\" >2</td>\n",
       "    </tr>\n",
       "    <tr>\n",
       "      <th id=\"T_9f61e_level0_row5\" class=\"row_heading level0 row5\" >5</th>\n",
       "      <td id=\"T_9f61e_row5_col0\" class=\"data row5 col0\" >Rows with missing values</td>\n",
       "      <td id=\"T_9f61e_row5_col1\" class=\"data row5 col1\" >1.6%</td>\n",
       "    </tr>\n",
       "    <tr>\n",
       "      <th id=\"T_9f61e_level0_row6\" class=\"row_heading level0 row6\" >6</th>\n",
       "      <td id=\"T_9f61e_row6_col0\" class=\"data row6 col0\" >Preprocess</td>\n",
       "      <td id=\"T_9f61e_row6_col1\" class=\"data row6 col1\" >True</td>\n",
       "    </tr>\n",
       "    <tr>\n",
       "      <th id=\"T_9f61e_level0_row7\" class=\"row_heading level0 row7\" >7</th>\n",
       "      <td id=\"T_9f61e_row7_col0\" class=\"data row7 col0\" >Imputation type</td>\n",
       "      <td id=\"T_9f61e_row7_col1\" class=\"data row7 col1\" >simple</td>\n",
       "    </tr>\n",
       "    <tr>\n",
       "      <th id=\"T_9f61e_level0_row8\" class=\"row_heading level0 row8\" >8</th>\n",
       "      <td id=\"T_9f61e_row8_col0\" class=\"data row8 col0\" >Numeric imputation</td>\n",
       "      <td id=\"T_9f61e_row8_col1\" class=\"data row8 col1\" >mean</td>\n",
       "    </tr>\n",
       "    <tr>\n",
       "      <th id=\"T_9f61e_level0_row9\" class=\"row_heading level0 row9\" >9</th>\n",
       "      <td id=\"T_9f61e_row9_col0\" class=\"data row9 col0\" >Categorical imputation</td>\n",
       "      <td id=\"T_9f61e_row9_col1\" class=\"data row9 col1\" >mode</td>\n",
       "    </tr>\n",
       "    <tr>\n",
       "      <th id=\"T_9f61e_level0_row10\" class=\"row_heading level0 row10\" >10</th>\n",
       "      <td id=\"T_9f61e_row10_col0\" class=\"data row10 col0\" >Maximum one-hot encoding</td>\n",
       "      <td id=\"T_9f61e_row10_col1\" class=\"data row10 col1\" >-1</td>\n",
       "    </tr>\n",
       "    <tr>\n",
       "      <th id=\"T_9f61e_level0_row11\" class=\"row_heading level0 row11\" >11</th>\n",
       "      <td id=\"T_9f61e_row11_col0\" class=\"data row11 col0\" >Encoding method</td>\n",
       "      <td id=\"T_9f61e_row11_col1\" class=\"data row11 col1\" >None</td>\n",
       "    </tr>\n",
       "    <tr>\n",
       "      <th id=\"T_9f61e_level0_row12\" class=\"row_heading level0 row12\" >12</th>\n",
       "      <td id=\"T_9f61e_row12_col0\" class=\"data row12 col0\" >CPU Jobs</td>\n",
       "      <td id=\"T_9f61e_row12_col1\" class=\"data row12 col1\" >-1</td>\n",
       "    </tr>\n",
       "    <tr>\n",
       "      <th id=\"T_9f61e_level0_row13\" class=\"row_heading level0 row13\" >13</th>\n",
       "      <td id=\"T_9f61e_row13_col0\" class=\"data row13 col0\" >Use GPU</td>\n",
       "      <td id=\"T_9f61e_row13_col1\" class=\"data row13 col1\" >False</td>\n",
       "    </tr>\n",
       "    <tr>\n",
       "      <th id=\"T_9f61e_level0_row14\" class=\"row_heading level0 row14\" >14</th>\n",
       "      <td id=\"T_9f61e_row14_col0\" class=\"data row14 col0\" >Log Experiment</td>\n",
       "      <td id=\"T_9f61e_row14_col1\" class=\"data row14 col1\" >False</td>\n",
       "    </tr>\n",
       "    <tr>\n",
       "      <th id=\"T_9f61e_level0_row15\" class=\"row_heading level0 row15\" >15</th>\n",
       "      <td id=\"T_9f61e_row15_col0\" class=\"data row15 col0\" >Experiment Name</td>\n",
       "      <td id=\"T_9f61e_row15_col1\" class=\"data row15 col1\" >cluster-default-name</td>\n",
       "    </tr>\n",
       "    <tr>\n",
       "      <th id=\"T_9f61e_level0_row16\" class=\"row_heading level0 row16\" >16</th>\n",
       "      <td id=\"T_9f61e_row16_col0\" class=\"data row16 col0\" >USI</td>\n",
       "      <td id=\"T_9f61e_row16_col1\" class=\"data row16 col1\" >5eb2</td>\n",
       "    </tr>\n",
       "  </tbody>\n",
       "</table>\n"
      ],
      "text/plain": [
       "<pandas.io.formats.style.Styler at 0x2b0c323f490>"
      ]
     },
     "metadata": {},
     "output_type": "display_data"
    }
   ],
   "source": [
    "clustering_setup = setup(data)"
   ]
  },
  {
   "cell_type": "code",
   "execution_count": 7,
   "id": "cc421b9c",
   "metadata": {},
   "outputs": [
    {
     "data": {
      "text/html": [
       "<style type=\"text/css\">\n",
       "#T_a328a_row6_col1 {\n",
       "  background-color: lightgreen;\n",
       "}\n",
       "</style>\n",
       "<table id=\"T_a328a\">\n",
       "  <thead>\n",
       "    <tr>\n",
       "      <th class=\"blank level0\" >&nbsp;</th>\n",
       "      <th id=\"T_a328a_level0_col0\" class=\"col_heading level0 col0\" >Description</th>\n",
       "      <th id=\"T_a328a_level0_col1\" class=\"col_heading level0 col1\" >Value</th>\n",
       "    </tr>\n",
       "  </thead>\n",
       "  <tbody>\n",
       "    <tr>\n",
       "      <th id=\"T_a328a_level0_row0\" class=\"row_heading level0 row0\" >0</th>\n",
       "      <td id=\"T_a328a_row0_col0\" class=\"data row0 col0\" >Session id</td>\n",
       "      <td id=\"T_a328a_row0_col1\" class=\"data row0 col1\" >1231</td>\n",
       "    </tr>\n",
       "    <tr>\n",
       "      <th id=\"T_a328a_level0_row1\" class=\"row_heading level0 row1\" >1</th>\n",
       "      <td id=\"T_a328a_row1_col0\" class=\"data row1 col0\" >Original data shape</td>\n",
       "      <td id=\"T_a328a_row1_col1\" class=\"data row1 col1\" >(3195, 54)</td>\n",
       "    </tr>\n",
       "    <tr>\n",
       "      <th id=\"T_a328a_level0_row2\" class=\"row_heading level0 row2\" >2</th>\n",
       "      <td id=\"T_a328a_row2_col0\" class=\"data row2 col0\" >Transformed data shape</td>\n",
       "      <td id=\"T_a328a_row2_col1\" class=\"data row2 col1\" >(3195, 2032)</td>\n",
       "    </tr>\n",
       "    <tr>\n",
       "      <th id=\"T_a328a_level0_row3\" class=\"row_heading level0 row3\" >3</th>\n",
       "      <td id=\"T_a328a_row3_col0\" class=\"data row3 col0\" >Numeric features</td>\n",
       "      <td id=\"T_a328a_row3_col1\" class=\"data row3 col1\" >52</td>\n",
       "    </tr>\n",
       "    <tr>\n",
       "      <th id=\"T_a328a_level0_row4\" class=\"row_heading level0 row4\" >4</th>\n",
       "      <td id=\"T_a328a_row4_col0\" class=\"data row4 col0\" >Categorical features</td>\n",
       "      <td id=\"T_a328a_row4_col1\" class=\"data row4 col1\" >2</td>\n",
       "    </tr>\n",
       "    <tr>\n",
       "      <th id=\"T_a328a_level0_row5\" class=\"row_heading level0 row5\" >5</th>\n",
       "      <td id=\"T_a328a_row5_col0\" class=\"data row5 col0\" >Rows with missing values</td>\n",
       "      <td id=\"T_a328a_row5_col1\" class=\"data row5 col1\" >1.6%</td>\n",
       "    </tr>\n",
       "    <tr>\n",
       "      <th id=\"T_a328a_level0_row6\" class=\"row_heading level0 row6\" >6</th>\n",
       "      <td id=\"T_a328a_row6_col0\" class=\"data row6 col0\" >Preprocess</td>\n",
       "      <td id=\"T_a328a_row6_col1\" class=\"data row6 col1\" >True</td>\n",
       "    </tr>\n",
       "    <tr>\n",
       "      <th id=\"T_a328a_level0_row7\" class=\"row_heading level0 row7\" >7</th>\n",
       "      <td id=\"T_a328a_row7_col0\" class=\"data row7 col0\" >Imputation type</td>\n",
       "      <td id=\"T_a328a_row7_col1\" class=\"data row7 col1\" >simple</td>\n",
       "    </tr>\n",
       "    <tr>\n",
       "      <th id=\"T_a328a_level0_row8\" class=\"row_heading level0 row8\" >8</th>\n",
       "      <td id=\"T_a328a_row8_col0\" class=\"data row8 col0\" >Numeric imputation</td>\n",
       "      <td id=\"T_a328a_row8_col1\" class=\"data row8 col1\" >mean</td>\n",
       "    </tr>\n",
       "    <tr>\n",
       "      <th id=\"T_a328a_level0_row9\" class=\"row_heading level0 row9\" >9</th>\n",
       "      <td id=\"T_a328a_row9_col0\" class=\"data row9 col0\" >Categorical imputation</td>\n",
       "      <td id=\"T_a328a_row9_col1\" class=\"data row9 col1\" >mode</td>\n",
       "    </tr>\n",
       "    <tr>\n",
       "      <th id=\"T_a328a_level0_row10\" class=\"row_heading level0 row10\" >10</th>\n",
       "      <td id=\"T_a328a_row10_col0\" class=\"data row10 col0\" >Maximum one-hot encoding</td>\n",
       "      <td id=\"T_a328a_row10_col1\" class=\"data row10 col1\" >-1</td>\n",
       "    </tr>\n",
       "    <tr>\n",
       "      <th id=\"T_a328a_level0_row11\" class=\"row_heading level0 row11\" >11</th>\n",
       "      <td id=\"T_a328a_row11_col0\" class=\"data row11 col0\" >Encoding method</td>\n",
       "      <td id=\"T_a328a_row11_col1\" class=\"data row11 col1\" >None</td>\n",
       "    </tr>\n",
       "    <tr>\n",
       "      <th id=\"T_a328a_level0_row12\" class=\"row_heading level0 row12\" >12</th>\n",
       "      <td id=\"T_a328a_row12_col0\" class=\"data row12 col0\" >CPU Jobs</td>\n",
       "      <td id=\"T_a328a_row12_col1\" class=\"data row12 col1\" >-1</td>\n",
       "    </tr>\n",
       "    <tr>\n",
       "      <th id=\"T_a328a_level0_row13\" class=\"row_heading level0 row13\" >13</th>\n",
       "      <td id=\"T_a328a_row13_col0\" class=\"data row13 col0\" >Use GPU</td>\n",
       "      <td id=\"T_a328a_row13_col1\" class=\"data row13 col1\" >False</td>\n",
       "    </tr>\n",
       "    <tr>\n",
       "      <th id=\"T_a328a_level0_row14\" class=\"row_heading level0 row14\" >14</th>\n",
       "      <td id=\"T_a328a_row14_col0\" class=\"data row14 col0\" >Log Experiment</td>\n",
       "      <td id=\"T_a328a_row14_col1\" class=\"data row14 col1\" >False</td>\n",
       "    </tr>\n",
       "    <tr>\n",
       "      <th id=\"T_a328a_level0_row15\" class=\"row_heading level0 row15\" >15</th>\n",
       "      <td id=\"T_a328a_row15_col0\" class=\"data row15 col0\" >Experiment Name</td>\n",
       "      <td id=\"T_a328a_row15_col1\" class=\"data row15 col1\" >cluster-default-name</td>\n",
       "    </tr>\n",
       "    <tr>\n",
       "      <th id=\"T_a328a_level0_row16\" class=\"row_heading level0 row16\" >16</th>\n",
       "      <td id=\"T_a328a_row16_col0\" class=\"data row16 col0\" >USI</td>\n",
       "      <td id=\"T_a328a_row16_col1\" class=\"data row16 col1\" >c9da</td>\n",
       "    </tr>\n",
       "  </tbody>\n",
       "</table>\n"
      ],
      "text/plain": [
       "<pandas.io.formats.style.Styler at 0x2b0c3267a50>"
      ]
     },
     "metadata": {},
     "output_type": "display_data"
    }
   ],
   "source": [
    "from pycaret.clustering import *\n",
    "kMeanClusteringParameters = setup(data)"
   ]
  },
  {
   "cell_type": "code",
   "execution_count": 8,
   "id": "0f4f14b7",
   "metadata": {},
   "outputs": [
    {
     "data": {
      "text/html": [],
      "text/plain": [
       "<IPython.core.display.HTML object>"
      ]
     },
     "metadata": {},
     "output_type": "display_data"
    },
    {
     "data": {
      "text/html": [
       "<style type=\"text/css\">\n",
       "</style>\n",
       "<table id=\"T_13787\">\n",
       "  <thead>\n",
       "    <tr>\n",
       "      <th class=\"blank level0\" >&nbsp;</th>\n",
       "      <th id=\"T_13787_level0_col0\" class=\"col_heading level0 col0\" >Silhouette</th>\n",
       "      <th id=\"T_13787_level0_col1\" class=\"col_heading level0 col1\" >Calinski-Harabasz</th>\n",
       "      <th id=\"T_13787_level0_col2\" class=\"col_heading level0 col2\" >Davies-Bouldin</th>\n",
       "      <th id=\"T_13787_level0_col3\" class=\"col_heading level0 col3\" >Homogeneity</th>\n",
       "      <th id=\"T_13787_level0_col4\" class=\"col_heading level0 col4\" >Rand Index</th>\n",
       "      <th id=\"T_13787_level0_col5\" class=\"col_heading level0 col5\" >Completeness</th>\n",
       "    </tr>\n",
       "  </thead>\n",
       "  <tbody>\n",
       "    <tr>\n",
       "      <th id=\"T_13787_level0_row0\" class=\"row_heading level0 row0\" >0</th>\n",
       "      <td id=\"T_13787_row0_col0\" class=\"data row0 col0\" >0.9712</td>\n",
       "      <td id=\"T_13787_row0_col1\" class=\"data row0 col1\" >117319.6444</td>\n",
       "      <td id=\"T_13787_row0_col2\" class=\"data row0 col2\" >0.3388</td>\n",
       "      <td id=\"T_13787_row0_col3\" class=\"data row0 col3\" >0</td>\n",
       "      <td id=\"T_13787_row0_col4\" class=\"data row0 col4\" >0</td>\n",
       "      <td id=\"T_13787_row0_col5\" class=\"data row0 col5\" >0</td>\n",
       "    </tr>\n",
       "  </tbody>\n",
       "</table>\n"
      ],
      "text/plain": [
       "<pandas.io.formats.style.Styler at 0x2b0c333d9d0>"
      ]
     },
     "metadata": {},
     "output_type": "display_data"
    },
    {
     "data": {
      "text/html": [],
      "text/plain": [
       "<IPython.core.display.HTML object>"
      ]
     },
     "metadata": {},
     "output_type": "display_data"
    }
   ],
   "source": [
    "KMeanClusteringModel = create_model('kmeans', num_clusters=4)"
   ]
  },
  {
   "cell_type": "code",
   "execution_count": 9,
   "id": "45f6d1fa",
   "metadata": {},
   "outputs": [
    {
     "data": {
      "text/html": [
       "<div>\n",
       "<style scoped>\n",
       "    .dataframe tbody tr th:only-of-type {\n",
       "        vertical-align: middle;\n",
       "    }\n",
       "\n",
       "    .dataframe tbody tr th {\n",
       "        vertical-align: top;\n",
       "    }\n",
       "\n",
       "    .dataframe thead th {\n",
       "        text-align: right;\n",
       "    }\n",
       "</style>\n",
       "<table border=\"1\" class=\"dataframe\">\n",
       "  <thead>\n",
       "    <tr style=\"text-align: right;\">\n",
       "      <th></th>\n",
       "      <th>fips</th>\n",
       "      <th>area_name</th>\n",
       "      <th>state_abbreviation</th>\n",
       "      <th>PST045214</th>\n",
       "      <th>PST040210</th>\n",
       "      <th>PST120214</th>\n",
       "      <th>POP010210</th>\n",
       "      <th>AGE135214</th>\n",
       "      <th>AGE295214</th>\n",
       "      <th>AGE775214</th>\n",
       "      <th>...</th>\n",
       "      <th>SBO015207</th>\n",
       "      <th>MAN450207</th>\n",
       "      <th>WTN220207</th>\n",
       "      <th>RTN130207</th>\n",
       "      <th>RTN131207</th>\n",
       "      <th>AFN120207</th>\n",
       "      <th>BPS030214</th>\n",
       "      <th>LND110210</th>\n",
       "      <th>POP060210</th>\n",
       "      <th>Cluster</th>\n",
       "    </tr>\n",
       "  </thead>\n",
       "  <tbody>\n",
       "    <tr>\n",
       "      <th>0</th>\n",
       "      <td>0</td>\n",
       "      <td>United States</td>\n",
       "      <td>NaN</td>\n",
       "      <td>318857056</td>\n",
       "      <td>308758105</td>\n",
       "      <td>3.3</td>\n",
       "      <td>308745538</td>\n",
       "      <td>6.2</td>\n",
       "      <td>23.100000</td>\n",
       "      <td>14.500000</td>\n",
       "      <td>...</td>\n",
       "      <td>28.799999</td>\n",
       "      <td>5319456312</td>\n",
       "      <td>4174286516</td>\n",
       "      <td>3917663456</td>\n",
       "      <td>12990</td>\n",
       "      <td>613795732</td>\n",
       "      <td>1046363</td>\n",
       "      <td>3.531906e+06</td>\n",
       "      <td>87.400002</td>\n",
       "      <td>Cluster 1</td>\n",
       "    </tr>\n",
       "    <tr>\n",
       "      <th>1</th>\n",
       "      <td>1000</td>\n",
       "      <td>Alabama</td>\n",
       "      <td>NaN</td>\n",
       "      <td>4849377</td>\n",
       "      <td>4780127</td>\n",
       "      <td>1.4</td>\n",
       "      <td>4779736</td>\n",
       "      <td>6.1</td>\n",
       "      <td>22.799999</td>\n",
       "      <td>15.300000</td>\n",
       "      <td>...</td>\n",
       "      <td>28.100000</td>\n",
       "      <td>112858843</td>\n",
       "      <td>52252752</td>\n",
       "      <td>57344851</td>\n",
       "      <td>12364</td>\n",
       "      <td>6426342</td>\n",
       "      <td>13369</td>\n",
       "      <td>5.064533e+04</td>\n",
       "      <td>94.400002</td>\n",
       "      <td>Cluster 2</td>\n",
       "    </tr>\n",
       "    <tr>\n",
       "      <th>2</th>\n",
       "      <td>1001</td>\n",
       "      <td>Autauga County</td>\n",
       "      <td>AL</td>\n",
       "      <td>55395</td>\n",
       "      <td>54571</td>\n",
       "      <td>1.5</td>\n",
       "      <td>54571</td>\n",
       "      <td>6.0</td>\n",
       "      <td>25.200001</td>\n",
       "      <td>13.800000</td>\n",
       "      <td>...</td>\n",
       "      <td>31.700001</td>\n",
       "      <td>0</td>\n",
       "      <td>0</td>\n",
       "      <td>598175</td>\n",
       "      <td>12003</td>\n",
       "      <td>88157</td>\n",
       "      <td>131</td>\n",
       "      <td>5.944400e+02</td>\n",
       "      <td>91.800003</td>\n",
       "      <td>Cluster 0</td>\n",
       "    </tr>\n",
       "    <tr>\n",
       "      <th>3</th>\n",
       "      <td>1003</td>\n",
       "      <td>Baldwin County</td>\n",
       "      <td>AL</td>\n",
       "      <td>200111</td>\n",
       "      <td>182265</td>\n",
       "      <td>9.8</td>\n",
       "      <td>182265</td>\n",
       "      <td>5.6</td>\n",
       "      <td>22.200001</td>\n",
       "      <td>18.700001</td>\n",
       "      <td>...</td>\n",
       "      <td>27.299999</td>\n",
       "      <td>1410273</td>\n",
       "      <td>0</td>\n",
       "      <td>2966489</td>\n",
       "      <td>17166</td>\n",
       "      <td>436955</td>\n",
       "      <td>1384</td>\n",
       "      <td>1.589780e+03</td>\n",
       "      <td>114.599998</td>\n",
       "      <td>Cluster 0</td>\n",
       "    </tr>\n",
       "    <tr>\n",
       "      <th>4</th>\n",
       "      <td>1005</td>\n",
       "      <td>Barbour County</td>\n",
       "      <td>AL</td>\n",
       "      <td>26887</td>\n",
       "      <td>27457</td>\n",
       "      <td>-2.1</td>\n",
       "      <td>27457</td>\n",
       "      <td>5.7</td>\n",
       "      <td>21.200001</td>\n",
       "      <td>16.500000</td>\n",
       "      <td>...</td>\n",
       "      <td>27.000000</td>\n",
       "      <td>0</td>\n",
       "      <td>0</td>\n",
       "      <td>188337</td>\n",
       "      <td>6334</td>\n",
       "      <td>0</td>\n",
       "      <td>8</td>\n",
       "      <td>8.848800e+02</td>\n",
       "      <td>31.000000</td>\n",
       "      <td>Cluster 0</td>\n",
       "    </tr>\n",
       "    <tr>\n",
       "      <th>...</th>\n",
       "      <td>...</td>\n",
       "      <td>...</td>\n",
       "      <td>...</td>\n",
       "      <td>...</td>\n",
       "      <td>...</td>\n",
       "      <td>...</td>\n",
       "      <td>...</td>\n",
       "      <td>...</td>\n",
       "      <td>...</td>\n",
       "      <td>...</td>\n",
       "      <td>...</td>\n",
       "      <td>...</td>\n",
       "      <td>...</td>\n",
       "      <td>...</td>\n",
       "      <td>...</td>\n",
       "      <td>...</td>\n",
       "      <td>...</td>\n",
       "      <td>...</td>\n",
       "      <td>...</td>\n",
       "      <td>...</td>\n",
       "      <td>...</td>\n",
       "    </tr>\n",
       "    <tr>\n",
       "      <th>3190</th>\n",
       "      <td>56037</td>\n",
       "      <td>Sweetwater County</td>\n",
       "      <td>WY</td>\n",
       "      <td>45010</td>\n",
       "      <td>43806</td>\n",
       "      <td>2.7</td>\n",
       "      <td>43806</td>\n",
       "      <td>7.3</td>\n",
       "      <td>27.000000</td>\n",
       "      <td>9.500000</td>\n",
       "      <td>...</td>\n",
       "      <td>27.200001</td>\n",
       "      <td>0</td>\n",
       "      <td>437493</td>\n",
       "      <td>898189</td>\n",
       "      <td>22843</td>\n",
       "      <td>150439</td>\n",
       "      <td>227</td>\n",
       "      <td>1.042665e+04</td>\n",
       "      <td>4.200000</td>\n",
       "      <td>Cluster 0</td>\n",
       "    </tr>\n",
       "    <tr>\n",
       "      <th>3191</th>\n",
       "      <td>56039</td>\n",
       "      <td>Teton County</td>\n",
       "      <td>WY</td>\n",
       "      <td>22930</td>\n",
       "      <td>21294</td>\n",
       "      <td>7.7</td>\n",
       "      <td>21294</td>\n",
       "      <td>5.7</td>\n",
       "      <td>19.100000</td>\n",
       "      <td>12.200000</td>\n",
       "      <td>...</td>\n",
       "      <td>25.299999</td>\n",
       "      <td>0</td>\n",
       "      <td>0</td>\n",
       "      <td>515644</td>\n",
       "      <td>25688</td>\n",
       "      <td>327363</td>\n",
       "      <td>145</td>\n",
       "      <td>3.995380e+03</td>\n",
       "      <td>5.300000</td>\n",
       "      <td>Cluster 0</td>\n",
       "    </tr>\n",
       "    <tr>\n",
       "      <th>3192</th>\n",
       "      <td>56041</td>\n",
       "      <td>Uinta County</td>\n",
       "      <td>WY</td>\n",
       "      <td>20904</td>\n",
       "      <td>21118</td>\n",
       "      <td>-1.0</td>\n",
       "      <td>21118</td>\n",
       "      <td>7.6</td>\n",
       "      <td>29.799999</td>\n",
       "      <td>11.000000</td>\n",
       "      <td>...</td>\n",
       "      <td>15.900000</td>\n",
       "      <td>0</td>\n",
       "      <td>159375</td>\n",
       "      <td>413983</td>\n",
       "      <td>20626</td>\n",
       "      <td>35497</td>\n",
       "      <td>40</td>\n",
       "      <td>2.081260e+03</td>\n",
       "      <td>10.100000</td>\n",
       "      <td>Cluster 0</td>\n",
       "    </tr>\n",
       "    <tr>\n",
       "      <th>3193</th>\n",
       "      <td>56043</td>\n",
       "      <td>Washakie County</td>\n",
       "      <td>WY</td>\n",
       "      <td>8322</td>\n",
       "      <td>8533</td>\n",
       "      <td>-2.5</td>\n",
       "      <td>8533</td>\n",
       "      <td>5.5</td>\n",
       "      <td>23.900000</td>\n",
       "      <td>20.100000</td>\n",
       "      <td>...</td>\n",
       "      <td>26.900000</td>\n",
       "      <td>0</td>\n",
       "      <td>12128</td>\n",
       "      <td>98308</td>\n",
       "      <td>12596</td>\n",
       "      <td>10175</td>\n",
       "      <td>4</td>\n",
       "      <td>2.238550e+03</td>\n",
       "      <td>3.800000</td>\n",
       "      <td>Cluster 0</td>\n",
       "    </tr>\n",
       "    <tr>\n",
       "      <th>3194</th>\n",
       "      <td>56045</td>\n",
       "      <td>Weston County</td>\n",
       "      <td>WY</td>\n",
       "      <td>7201</td>\n",
       "      <td>7208</td>\n",
       "      <td>-0.1</td>\n",
       "      <td>7208</td>\n",
       "      <td>6.5</td>\n",
       "      <td>21.600000</td>\n",
       "      <td>18.100000</td>\n",
       "      <td>...</td>\n",
       "      <td>29.299999</td>\n",
       "      <td>0</td>\n",
       "      <td>11540</td>\n",
       "      <td>64312</td>\n",
       "      <td>9395</td>\n",
       "      <td>7520</td>\n",
       "      <td>1</td>\n",
       "      <td>2.398090e+03</td>\n",
       "      <td>3.000000</td>\n",
       "      <td>Cluster 0</td>\n",
       "    </tr>\n",
       "  </tbody>\n",
       "</table>\n",
       "<p>3195 rows × 55 columns</p>\n",
       "</div>"
      ],
      "text/plain": [
       "       fips          area_name state_abbreviation  PST045214  PST040210  \\\n",
       "0         0      United States                NaN  318857056  308758105   \n",
       "1      1000            Alabama                NaN    4849377    4780127   \n",
       "2      1001     Autauga County                 AL      55395      54571   \n",
       "3      1003     Baldwin County                 AL     200111     182265   \n",
       "4      1005     Barbour County                 AL      26887      27457   \n",
       "...     ...                ...                ...        ...        ...   \n",
       "3190  56037  Sweetwater County                 WY      45010      43806   \n",
       "3191  56039       Teton County                 WY      22930      21294   \n",
       "3192  56041       Uinta County                 WY      20904      21118   \n",
       "3193  56043    Washakie County                 WY       8322       8533   \n",
       "3194  56045      Weston County                 WY       7201       7208   \n",
       "\n",
       "      PST120214  POP010210  AGE135214  AGE295214  AGE775214  ...  SBO015207  \\\n",
       "0           3.3  308745538        6.2  23.100000  14.500000  ...  28.799999   \n",
       "1           1.4    4779736        6.1  22.799999  15.300000  ...  28.100000   \n",
       "2           1.5      54571        6.0  25.200001  13.800000  ...  31.700001   \n",
       "3           9.8     182265        5.6  22.200001  18.700001  ...  27.299999   \n",
       "4          -2.1      27457        5.7  21.200001  16.500000  ...  27.000000   \n",
       "...         ...        ...        ...        ...        ...  ...        ...   \n",
       "3190        2.7      43806        7.3  27.000000   9.500000  ...  27.200001   \n",
       "3191        7.7      21294        5.7  19.100000  12.200000  ...  25.299999   \n",
       "3192       -1.0      21118        7.6  29.799999  11.000000  ...  15.900000   \n",
       "3193       -2.5       8533        5.5  23.900000  20.100000  ...  26.900000   \n",
       "3194       -0.1       7208        6.5  21.600000  18.100000  ...  29.299999   \n",
       "\n",
       "       MAN450207   WTN220207   RTN130207  RTN131207  AFN120207  BPS030214  \\\n",
       "0     5319456312  4174286516  3917663456      12990  613795732    1046363   \n",
       "1      112858843    52252752    57344851      12364    6426342      13369   \n",
       "2              0           0      598175      12003      88157        131   \n",
       "3        1410273           0     2966489      17166     436955       1384   \n",
       "4              0           0      188337       6334          0          8   \n",
       "...          ...         ...         ...        ...        ...        ...   \n",
       "3190           0      437493      898189      22843     150439        227   \n",
       "3191           0           0      515644      25688     327363        145   \n",
       "3192           0      159375      413983      20626      35497         40   \n",
       "3193           0       12128       98308      12596      10175          4   \n",
       "3194           0       11540       64312       9395       7520          1   \n",
       "\n",
       "         LND110210   POP060210    Cluster  \n",
       "0     3.531906e+06   87.400002  Cluster 1  \n",
       "1     5.064533e+04   94.400002  Cluster 2  \n",
       "2     5.944400e+02   91.800003  Cluster 0  \n",
       "3     1.589780e+03  114.599998  Cluster 0  \n",
       "4     8.848800e+02   31.000000  Cluster 0  \n",
       "...            ...         ...        ...  \n",
       "3190  1.042665e+04    4.200000  Cluster 0  \n",
       "3191  3.995380e+03    5.300000  Cluster 0  \n",
       "3192  2.081260e+03   10.100000  Cluster 0  \n",
       "3193  2.238550e+03    3.800000  Cluster 0  \n",
       "3194  2.398090e+03    3.000000  Cluster 0  \n",
       "\n",
       "[3195 rows x 55 columns]"
      ]
     },
     "execution_count": 9,
     "metadata": {},
     "output_type": "execute_result"
    }
   ],
   "source": [
    "kMeanPrediction = assign_model(KMeanClusteringModel)\n",
    "kMeanPrediction"
   ]
  },
  {
   "cell_type": "code",
   "execution_count": 8,
   "id": "079fbce6",
   "metadata": {},
   "outputs": [
    {
     "data": {
      "text/html": [],
      "text/plain": [
       "<IPython.core.display.HTML object>"
      ]
     },
     "metadata": {},
     "output_type": "display_data"
    },
    {
     "data": {
      "text/html": [
       "<style type=\"text/css\">\n",
       "</style>\n",
       "<table id=\"T_913bd\">\n",
       "  <thead>\n",
       "    <tr>\n",
       "      <th class=\"blank level0\" >&nbsp;</th>\n",
       "      <th id=\"T_913bd_level0_col0\" class=\"col_heading level0 col0\" >Silhouette</th>\n",
       "      <th id=\"T_913bd_level0_col1\" class=\"col_heading level0 col1\" >Calinski-Harabasz</th>\n",
       "      <th id=\"T_913bd_level0_col2\" class=\"col_heading level0 col2\" >Davies-Bouldin</th>\n",
       "      <th id=\"T_913bd_level0_col3\" class=\"col_heading level0 col3\" >Homogeneity</th>\n",
       "      <th id=\"T_913bd_level0_col4\" class=\"col_heading level0 col4\" >Rand Index</th>\n",
       "      <th id=\"T_913bd_level0_col5\" class=\"col_heading level0 col5\" >Completeness</th>\n",
       "    </tr>\n",
       "  </thead>\n",
       "  <tbody>\n",
       "    <tr>\n",
       "      <th id=\"T_913bd_level0_row0\" class=\"row_heading level0 row0\" >0</th>\n",
       "      <td id=\"T_913bd_row0_col0\" class=\"data row0 col0\" >0.3627</td>\n",
       "      <td id=\"T_913bd_row0_col1\" class=\"data row0 col1\" >1311.7687</td>\n",
       "      <td id=\"T_913bd_row0_col2\" class=\"data row0 col2\" >0.9406</td>\n",
       "      <td id=\"T_913bd_row0_col3\" class=\"data row0 col3\" >0</td>\n",
       "      <td id=\"T_913bd_row0_col4\" class=\"data row0 col4\" >0</td>\n",
       "      <td id=\"T_913bd_row0_col5\" class=\"data row0 col5\" >0</td>\n",
       "    </tr>\n",
       "  </tbody>\n",
       "</table>\n"
      ],
      "text/plain": [
       "<pandas.io.formats.style.Styler at 0x27cfce042d0>"
      ]
     },
     "metadata": {},
     "output_type": "display_data"
    },
    {
     "data": {
      "application/vnd.jupyter.widget-view+json": {
       "model_id": "",
       "version_major": 2,
       "version_minor": 0
      },
      "text/plain": [
       "Processing:   0%|          | 0/3 [00:00<?, ?it/s]"
      ]
     },
     "metadata": {},
     "output_type": "display_data"
    },
    {
     "data": {
      "text/html": [
       "<div>\n",
       "<style scoped>\n",
       "    .dataframe tbody tr th:only-of-type {\n",
       "        vertical-align: middle;\n",
       "    }\n",
       "\n",
       "    .dataframe tbody tr th {\n",
       "        vertical-align: top;\n",
       "    }\n",
       "\n",
       "    .dataframe thead th {\n",
       "        text-align: right;\n",
       "    }\n",
       "</style>\n",
       "<table border=\"1\" class=\"dataframe\">\n",
       "  <thead>\n",
       "    <tr style=\"text-align: right;\">\n",
       "      <th></th>\n",
       "      <th>Unnamed: 0.1</th>\n",
       "      <th>Unnamed: 0</th>\n",
       "      <th>#</th>\n",
       "      <th>Name</th>\n",
       "      <th>Type 1</th>\n",
       "      <th>Type 2</th>\n",
       "      <th>Total</th>\n",
       "      <th>HP</th>\n",
       "      <th>Attack</th>\n",
       "      <th>Defense</th>\n",
       "      <th>Sp. Atk</th>\n",
       "      <th>Sp. Def</th>\n",
       "      <th>Speed</th>\n",
       "      <th>Generation</th>\n",
       "      <th>Legendary</th>\n",
       "      <th>Cluster</th>\n",
       "    </tr>\n",
       "  </thead>\n",
       "  <tbody>\n",
       "    <tr>\n",
       "      <th>0</th>\n",
       "      <td>0</td>\n",
       "      <td>0</td>\n",
       "      <td>1</td>\n",
       "      <td>Bulbasaur</td>\n",
       "      <td>Grass</td>\n",
       "      <td>Poison</td>\n",
       "      <td>318</td>\n",
       "      <td>45</td>\n",
       "      <td>49</td>\n",
       "      <td>49</td>\n",
       "      <td>65</td>\n",
       "      <td>65</td>\n",
       "      <td>45</td>\n",
       "      <td>1</td>\n",
       "      <td>False</td>\n",
       "      <td>Cluster 2</td>\n",
       "    </tr>\n",
       "    <tr>\n",
       "      <th>1</th>\n",
       "      <td>1</td>\n",
       "      <td>1</td>\n",
       "      <td>2</td>\n",
       "      <td>Ivysaur</td>\n",
       "      <td>Grass</td>\n",
       "      <td>Poison</td>\n",
       "      <td>405</td>\n",
       "      <td>60</td>\n",
       "      <td>62</td>\n",
       "      <td>63</td>\n",
       "      <td>80</td>\n",
       "      <td>80</td>\n",
       "      <td>60</td>\n",
       "      <td>1</td>\n",
       "      <td>False</td>\n",
       "      <td>Cluster 2</td>\n",
       "    </tr>\n",
       "    <tr>\n",
       "      <th>2</th>\n",
       "      <td>2</td>\n",
       "      <td>2</td>\n",
       "      <td>3</td>\n",
       "      <td>Venusaur</td>\n",
       "      <td>Grass</td>\n",
       "      <td>Poison</td>\n",
       "      <td>525</td>\n",
       "      <td>80</td>\n",
       "      <td>82</td>\n",
       "      <td>83</td>\n",
       "      <td>100</td>\n",
       "      <td>100</td>\n",
       "      <td>80</td>\n",
       "      <td>1</td>\n",
       "      <td>False</td>\n",
       "      <td>Cluster 2</td>\n",
       "    </tr>\n",
       "    <tr>\n",
       "      <th>3</th>\n",
       "      <td>3</td>\n",
       "      <td>3</td>\n",
       "      <td>3</td>\n",
       "      <td>VenusaurMega Venusaur</td>\n",
       "      <td>Grass</td>\n",
       "      <td>Poison</td>\n",
       "      <td>625</td>\n",
       "      <td>80</td>\n",
       "      <td>100</td>\n",
       "      <td>123</td>\n",
       "      <td>122</td>\n",
       "      <td>120</td>\n",
       "      <td>80</td>\n",
       "      <td>1</td>\n",
       "      <td>False</td>\n",
       "      <td>Cluster 2</td>\n",
       "    </tr>\n",
       "    <tr>\n",
       "      <th>4</th>\n",
       "      <td>4</td>\n",
       "      <td>4</td>\n",
       "      <td>4</td>\n",
       "      <td>Charmander</td>\n",
       "      <td>Fire</td>\n",
       "      <td>NaN</td>\n",
       "      <td>309</td>\n",
       "      <td>39</td>\n",
       "      <td>52</td>\n",
       "      <td>43</td>\n",
       "      <td>60</td>\n",
       "      <td>50</td>\n",
       "      <td>65</td>\n",
       "      <td>1</td>\n",
       "      <td>False</td>\n",
       "      <td>Cluster 2</td>\n",
       "    </tr>\n",
       "    <tr>\n",
       "      <th>...</th>\n",
       "      <td>...</td>\n",
       "      <td>...</td>\n",
       "      <td>...</td>\n",
       "      <td>...</td>\n",
       "      <td>...</td>\n",
       "      <td>...</td>\n",
       "      <td>...</td>\n",
       "      <td>...</td>\n",
       "      <td>...</td>\n",
       "      <td>...</td>\n",
       "      <td>...</td>\n",
       "      <td>...</td>\n",
       "      <td>...</td>\n",
       "      <td>...</td>\n",
       "      <td>...</td>\n",
       "      <td>...</td>\n",
       "    </tr>\n",
       "    <tr>\n",
       "      <th>795</th>\n",
       "      <td>795</td>\n",
       "      <td>795</td>\n",
       "      <td>719</td>\n",
       "      <td>Diancie</td>\n",
       "      <td>Rock</td>\n",
       "      <td>Fairy</td>\n",
       "      <td>600</td>\n",
       "      <td>50</td>\n",
       "      <td>100</td>\n",
       "      <td>150</td>\n",
       "      <td>100</td>\n",
       "      <td>150</td>\n",
       "      <td>50</td>\n",
       "      <td>6</td>\n",
       "      <td>True</td>\n",
       "      <td>Cluster 1</td>\n",
       "    </tr>\n",
       "    <tr>\n",
       "      <th>796</th>\n",
       "      <td>796</td>\n",
       "      <td>796</td>\n",
       "      <td>719</td>\n",
       "      <td>DiancieMega Diancie</td>\n",
       "      <td>Rock</td>\n",
       "      <td>Fairy</td>\n",
       "      <td>700</td>\n",
       "      <td>50</td>\n",
       "      <td>160</td>\n",
       "      <td>110</td>\n",
       "      <td>160</td>\n",
       "      <td>110</td>\n",
       "      <td>110</td>\n",
       "      <td>6</td>\n",
       "      <td>True</td>\n",
       "      <td>Cluster 1</td>\n",
       "    </tr>\n",
       "    <tr>\n",
       "      <th>797</th>\n",
       "      <td>797</td>\n",
       "      <td>797</td>\n",
       "      <td>720</td>\n",
       "      <td>HoopaHoopa Confined</td>\n",
       "      <td>Psychic</td>\n",
       "      <td>Ghost</td>\n",
       "      <td>600</td>\n",
       "      <td>80</td>\n",
       "      <td>110</td>\n",
       "      <td>60</td>\n",
       "      <td>150</td>\n",
       "      <td>130</td>\n",
       "      <td>70</td>\n",
       "      <td>6</td>\n",
       "      <td>True</td>\n",
       "      <td>Cluster 1</td>\n",
       "    </tr>\n",
       "    <tr>\n",
       "      <th>798</th>\n",
       "      <td>798</td>\n",
       "      <td>798</td>\n",
       "      <td>720</td>\n",
       "      <td>HoopaHoopa Unbound</td>\n",
       "      <td>Psychic</td>\n",
       "      <td>Dark</td>\n",
       "      <td>680</td>\n",
       "      <td>80</td>\n",
       "      <td>160</td>\n",
       "      <td>60</td>\n",
       "      <td>170</td>\n",
       "      <td>130</td>\n",
       "      <td>80</td>\n",
       "      <td>6</td>\n",
       "      <td>True</td>\n",
       "      <td>Cluster 1</td>\n",
       "    </tr>\n",
       "    <tr>\n",
       "      <th>799</th>\n",
       "      <td>799</td>\n",
       "      <td>799</td>\n",
       "      <td>721</td>\n",
       "      <td>Volcanion</td>\n",
       "      <td>Fire</td>\n",
       "      <td>Water</td>\n",
       "      <td>600</td>\n",
       "      <td>80</td>\n",
       "      <td>110</td>\n",
       "      <td>120</td>\n",
       "      <td>130</td>\n",
       "      <td>90</td>\n",
       "      <td>70</td>\n",
       "      <td>6</td>\n",
       "      <td>True</td>\n",
       "      <td>Cluster 1</td>\n",
       "    </tr>\n",
       "  </tbody>\n",
       "</table>\n",
       "<p>800 rows × 16 columns</p>\n",
       "</div>"
      ],
      "text/plain": [
       "     Unnamed: 0.1  Unnamed: 0    #                   Name   Type 1  Type 2  \\\n",
       "0               0           0    1              Bulbasaur    Grass  Poison   \n",
       "1               1           1    2                Ivysaur    Grass  Poison   \n",
       "2               2           2    3               Venusaur    Grass  Poison   \n",
       "3               3           3    3  VenusaurMega Venusaur    Grass  Poison   \n",
       "4               4           4    4             Charmander     Fire     NaN   \n",
       "..            ...         ...  ...                    ...      ...     ...   \n",
       "795           795         795  719                Diancie     Rock   Fairy   \n",
       "796           796         796  719    DiancieMega Diancie     Rock   Fairy   \n",
       "797           797         797  720    HoopaHoopa Confined  Psychic   Ghost   \n",
       "798           798         798  720     HoopaHoopa Unbound  Psychic    Dark   \n",
       "799           799         799  721              Volcanion     Fire   Water   \n",
       "\n",
       "     Total  HP  Attack  Defense  Sp. Atk  Sp. Def  Speed  Generation  \\\n",
       "0      318  45      49       49       65       65     45           1   \n",
       "1      405  60      62       63       80       80     60           1   \n",
       "2      525  80      82       83      100      100     80           1   \n",
       "3      625  80     100      123      122      120     80           1   \n",
       "4      309  39      52       43       60       50     65           1   \n",
       "..     ...  ..     ...      ...      ...      ...    ...         ...   \n",
       "795    600  50     100      150      100      150     50           6   \n",
       "796    700  50     160      110      160      110    110           6   \n",
       "797    600  80     110       60      150      130     70           6   \n",
       "798    680  80     160       60      170      130     80           6   \n",
       "799    600  80     110      120      130       90     70           6   \n",
       "\n",
       "     Legendary    Cluster  \n",
       "0        False  Cluster 2  \n",
       "1        False  Cluster 2  \n",
       "2        False  Cluster 2  \n",
       "3        False  Cluster 2  \n",
       "4        False  Cluster 2  \n",
       "..         ...        ...  \n",
       "795       True  Cluster 1  \n",
       "796       True  Cluster 1  \n",
       "797       True  Cluster 1  \n",
       "798       True  Cluster 1  \n",
       "799       True  Cluster 1  \n",
       "\n",
       "[800 rows x 16 columns]"
      ]
     },
     "execution_count": 8,
     "metadata": {},
     "output_type": "execute_result"
    }
   ],
   "source": [
    "# from pycaret.clustering import *\n",
    "\n",
    "# kMeanClusteringParameters = setup(data, verbose=False)\n",
    "# KMeanClusteringModel = create_model('kmeans', num_clusters=4)\n",
    "# kMeanPrediction = assign_model(KMeanClusteringModel)\n",
    "# kMeanPrediction"
   ]
  },
  {
   "cell_type": "code",
   "execution_count": 11,
   "id": "28648063",
   "metadata": {},
   "outputs": [
    {
     "data": {
      "text/html": [],
      "text/plain": [
       "<IPython.core.display.HTML object>"
      ]
     },
     "metadata": {},
     "output_type": "display_data"
    },
    {
     "data": {
      "text/html": [
       "<style type=\"text/css\">\n",
       "</style>\n",
       "<table id=\"T_a3d61\">\n",
       "  <thead>\n",
       "    <tr>\n",
       "      <th class=\"blank level0\" >&nbsp;</th>\n",
       "      <th id=\"T_a3d61_level0_col0\" class=\"col_heading level0 col0\" >Silhouette</th>\n",
       "      <th id=\"T_a3d61_level0_col1\" class=\"col_heading level0 col1\" >Calinski-Harabasz</th>\n",
       "      <th id=\"T_a3d61_level0_col2\" class=\"col_heading level0 col2\" >Davies-Bouldin</th>\n",
       "      <th id=\"T_a3d61_level0_col3\" class=\"col_heading level0 col3\" >Homogeneity</th>\n",
       "      <th id=\"T_a3d61_level0_col4\" class=\"col_heading level0 col4\" >Rand Index</th>\n",
       "      <th id=\"T_a3d61_level0_col5\" class=\"col_heading level0 col5\" >Completeness</th>\n",
       "    </tr>\n",
       "  </thead>\n",
       "  <tbody>\n",
       "    <tr>\n",
       "      <th id=\"T_a3d61_level0_row0\" class=\"row_heading level0 row0\" >0</th>\n",
       "      <td id=\"T_a3d61_row0_col0\" class=\"data row0 col0\" >0.9622</td>\n",
       "      <td id=\"T_a3d61_row0_col1\" class=\"data row0 col1\" >97971.5580</td>\n",
       "      <td id=\"T_a3d61_row0_col2\" class=\"data row0 col2\" >0.3984</td>\n",
       "      <td id=\"T_a3d61_row0_col3\" class=\"data row0 col3\" >0</td>\n",
       "      <td id=\"T_a3d61_row0_col4\" class=\"data row0 col4\" >0</td>\n",
       "      <td id=\"T_a3d61_row0_col5\" class=\"data row0 col5\" >0</td>\n",
       "    </tr>\n",
       "  </tbody>\n",
       "</table>\n"
      ],
      "text/plain": [
       "<pandas.io.formats.style.Styler at 0x2b0c836fa50>"
      ]
     },
     "metadata": {},
     "output_type": "display_data"
    },
    {
     "data": {
      "text/html": [],
      "text/plain": [
       "<IPython.core.display.HTML object>"
      ]
     },
     "metadata": {},
     "output_type": "display_data"
    }
   ],
   "source": [
    "birchClusteringParameters = setup(data, verbose=False)\n",
    "birchClusteringModel = create_model('birch')"
   ]
  },
  {
   "cell_type": "code",
   "execution_count": 13,
   "id": "a80ec93c",
   "metadata": {},
   "outputs": [
    {
     "data": {
      "text/html": [
       "<div>\n",
       "<style scoped>\n",
       "    .dataframe tbody tr th:only-of-type {\n",
       "        vertical-align: middle;\n",
       "    }\n",
       "\n",
       "    .dataframe tbody tr th {\n",
       "        vertical-align: top;\n",
       "    }\n",
       "\n",
       "    .dataframe thead th {\n",
       "        text-align: right;\n",
       "    }\n",
       "</style>\n",
       "<table border=\"1\" class=\"dataframe\">\n",
       "  <thead>\n",
       "    <tr style=\"text-align: right;\">\n",
       "      <th></th>\n",
       "      <th>fips</th>\n",
       "      <th>area_name</th>\n",
       "      <th>state_abbreviation</th>\n",
       "      <th>PST045214</th>\n",
       "      <th>PST040210</th>\n",
       "      <th>PST120214</th>\n",
       "      <th>POP010210</th>\n",
       "      <th>AGE135214</th>\n",
       "      <th>AGE295214</th>\n",
       "      <th>AGE775214</th>\n",
       "      <th>...</th>\n",
       "      <th>SBO015207</th>\n",
       "      <th>MAN450207</th>\n",
       "      <th>WTN220207</th>\n",
       "      <th>RTN130207</th>\n",
       "      <th>RTN131207</th>\n",
       "      <th>AFN120207</th>\n",
       "      <th>BPS030214</th>\n",
       "      <th>LND110210</th>\n",
       "      <th>POP060210</th>\n",
       "      <th>Cluster</th>\n",
       "    </tr>\n",
       "  </thead>\n",
       "  <tbody>\n",
       "    <tr>\n",
       "      <th>0</th>\n",
       "      <td>0</td>\n",
       "      <td>United States</td>\n",
       "      <td>NaN</td>\n",
       "      <td>318857056</td>\n",
       "      <td>308758105</td>\n",
       "      <td>3.3</td>\n",
       "      <td>308745538</td>\n",
       "      <td>6.2</td>\n",
       "      <td>23.100000</td>\n",
       "      <td>14.500000</td>\n",
       "      <td>...</td>\n",
       "      <td>28.799999</td>\n",
       "      <td>5319456312</td>\n",
       "      <td>4174286516</td>\n",
       "      <td>3917663456</td>\n",
       "      <td>12990</td>\n",
       "      <td>613795732</td>\n",
       "      <td>1046363</td>\n",
       "      <td>3.531906e+06</td>\n",
       "      <td>87.400002</td>\n",
       "      <td>Cluster 3</td>\n",
       "    </tr>\n",
       "    <tr>\n",
       "      <th>1</th>\n",
       "      <td>1000</td>\n",
       "      <td>Alabama</td>\n",
       "      <td>NaN</td>\n",
       "      <td>4849377</td>\n",
       "      <td>4780127</td>\n",
       "      <td>1.4</td>\n",
       "      <td>4779736</td>\n",
       "      <td>6.1</td>\n",
       "      <td>22.799999</td>\n",
       "      <td>15.300000</td>\n",
       "      <td>...</td>\n",
       "      <td>28.100000</td>\n",
       "      <td>112858843</td>\n",
       "      <td>52252752</td>\n",
       "      <td>57344851</td>\n",
       "      <td>12364</td>\n",
       "      <td>6426342</td>\n",
       "      <td>13369</td>\n",
       "      <td>5.064533e+04</td>\n",
       "      <td>94.400002</td>\n",
       "      <td>Cluster 0</td>\n",
       "    </tr>\n",
       "    <tr>\n",
       "      <th>2</th>\n",
       "      <td>1001</td>\n",
       "      <td>Autauga County</td>\n",
       "      <td>AL</td>\n",
       "      <td>55395</td>\n",
       "      <td>54571</td>\n",
       "      <td>1.5</td>\n",
       "      <td>54571</td>\n",
       "      <td>6.0</td>\n",
       "      <td>25.200001</td>\n",
       "      <td>13.800000</td>\n",
       "      <td>...</td>\n",
       "      <td>31.700001</td>\n",
       "      <td>0</td>\n",
       "      <td>0</td>\n",
       "      <td>598175</td>\n",
       "      <td>12003</td>\n",
       "      <td>88157</td>\n",
       "      <td>131</td>\n",
       "      <td>5.944400e+02</td>\n",
       "      <td>91.800003</td>\n",
       "      <td>Cluster 2</td>\n",
       "    </tr>\n",
       "    <tr>\n",
       "      <th>3</th>\n",
       "      <td>1003</td>\n",
       "      <td>Baldwin County</td>\n",
       "      <td>AL</td>\n",
       "      <td>200111</td>\n",
       "      <td>182265</td>\n",
       "      <td>9.8</td>\n",
       "      <td>182265</td>\n",
       "      <td>5.6</td>\n",
       "      <td>22.200001</td>\n",
       "      <td>18.700001</td>\n",
       "      <td>...</td>\n",
       "      <td>27.299999</td>\n",
       "      <td>1410273</td>\n",
       "      <td>0</td>\n",
       "      <td>2966489</td>\n",
       "      <td>17166</td>\n",
       "      <td>436955</td>\n",
       "      <td>1384</td>\n",
       "      <td>1.589780e+03</td>\n",
       "      <td>114.599998</td>\n",
       "      <td>Cluster 2</td>\n",
       "    </tr>\n",
       "    <tr>\n",
       "      <th>4</th>\n",
       "      <td>1005</td>\n",
       "      <td>Barbour County</td>\n",
       "      <td>AL</td>\n",
       "      <td>26887</td>\n",
       "      <td>27457</td>\n",
       "      <td>-2.1</td>\n",
       "      <td>27457</td>\n",
       "      <td>5.7</td>\n",
       "      <td>21.200001</td>\n",
       "      <td>16.500000</td>\n",
       "      <td>...</td>\n",
       "      <td>27.000000</td>\n",
       "      <td>0</td>\n",
       "      <td>0</td>\n",
       "      <td>188337</td>\n",
       "      <td>6334</td>\n",
       "      <td>0</td>\n",
       "      <td>8</td>\n",
       "      <td>8.848800e+02</td>\n",
       "      <td>31.000000</td>\n",
       "      <td>Cluster 2</td>\n",
       "    </tr>\n",
       "    <tr>\n",
       "      <th>...</th>\n",
       "      <td>...</td>\n",
       "      <td>...</td>\n",
       "      <td>...</td>\n",
       "      <td>...</td>\n",
       "      <td>...</td>\n",
       "      <td>...</td>\n",
       "      <td>...</td>\n",
       "      <td>...</td>\n",
       "      <td>...</td>\n",
       "      <td>...</td>\n",
       "      <td>...</td>\n",
       "      <td>...</td>\n",
       "      <td>...</td>\n",
       "      <td>...</td>\n",
       "      <td>...</td>\n",
       "      <td>...</td>\n",
       "      <td>...</td>\n",
       "      <td>...</td>\n",
       "      <td>...</td>\n",
       "      <td>...</td>\n",
       "      <td>...</td>\n",
       "    </tr>\n",
       "    <tr>\n",
       "      <th>3190</th>\n",
       "      <td>56037</td>\n",
       "      <td>Sweetwater County</td>\n",
       "      <td>WY</td>\n",
       "      <td>45010</td>\n",
       "      <td>43806</td>\n",
       "      <td>2.7</td>\n",
       "      <td>43806</td>\n",
       "      <td>7.3</td>\n",
       "      <td>27.000000</td>\n",
       "      <td>9.500000</td>\n",
       "      <td>...</td>\n",
       "      <td>27.200001</td>\n",
       "      <td>0</td>\n",
       "      <td>437493</td>\n",
       "      <td>898189</td>\n",
       "      <td>22843</td>\n",
       "      <td>150439</td>\n",
       "      <td>227</td>\n",
       "      <td>1.042665e+04</td>\n",
       "      <td>4.200000</td>\n",
       "      <td>Cluster 2</td>\n",
       "    </tr>\n",
       "    <tr>\n",
       "      <th>3191</th>\n",
       "      <td>56039</td>\n",
       "      <td>Teton County</td>\n",
       "      <td>WY</td>\n",
       "      <td>22930</td>\n",
       "      <td>21294</td>\n",
       "      <td>7.7</td>\n",
       "      <td>21294</td>\n",
       "      <td>5.7</td>\n",
       "      <td>19.100000</td>\n",
       "      <td>12.200000</td>\n",
       "      <td>...</td>\n",
       "      <td>25.299999</td>\n",
       "      <td>0</td>\n",
       "      <td>0</td>\n",
       "      <td>515644</td>\n",
       "      <td>25688</td>\n",
       "      <td>327363</td>\n",
       "      <td>145</td>\n",
       "      <td>3.995380e+03</td>\n",
       "      <td>5.300000</td>\n",
       "      <td>Cluster 2</td>\n",
       "    </tr>\n",
       "    <tr>\n",
       "      <th>3192</th>\n",
       "      <td>56041</td>\n",
       "      <td>Uinta County</td>\n",
       "      <td>WY</td>\n",
       "      <td>20904</td>\n",
       "      <td>21118</td>\n",
       "      <td>-1.0</td>\n",
       "      <td>21118</td>\n",
       "      <td>7.6</td>\n",
       "      <td>29.799999</td>\n",
       "      <td>11.000000</td>\n",
       "      <td>...</td>\n",
       "      <td>15.900000</td>\n",
       "      <td>0</td>\n",
       "      <td>159375</td>\n",
       "      <td>413983</td>\n",
       "      <td>20626</td>\n",
       "      <td>35497</td>\n",
       "      <td>40</td>\n",
       "      <td>2.081260e+03</td>\n",
       "      <td>10.100000</td>\n",
       "      <td>Cluster 2</td>\n",
       "    </tr>\n",
       "    <tr>\n",
       "      <th>3193</th>\n",
       "      <td>56043</td>\n",
       "      <td>Washakie County</td>\n",
       "      <td>WY</td>\n",
       "      <td>8322</td>\n",
       "      <td>8533</td>\n",
       "      <td>-2.5</td>\n",
       "      <td>8533</td>\n",
       "      <td>5.5</td>\n",
       "      <td>23.900000</td>\n",
       "      <td>20.100000</td>\n",
       "      <td>...</td>\n",
       "      <td>26.900000</td>\n",
       "      <td>0</td>\n",
       "      <td>12128</td>\n",
       "      <td>98308</td>\n",
       "      <td>12596</td>\n",
       "      <td>10175</td>\n",
       "      <td>4</td>\n",
       "      <td>2.238550e+03</td>\n",
       "      <td>3.800000</td>\n",
       "      <td>Cluster 2</td>\n",
       "    </tr>\n",
       "    <tr>\n",
       "      <th>3194</th>\n",
       "      <td>56045</td>\n",
       "      <td>Weston County</td>\n",
       "      <td>WY</td>\n",
       "      <td>7201</td>\n",
       "      <td>7208</td>\n",
       "      <td>-0.1</td>\n",
       "      <td>7208</td>\n",
       "      <td>6.5</td>\n",
       "      <td>21.600000</td>\n",
       "      <td>18.100000</td>\n",
       "      <td>...</td>\n",
       "      <td>29.299999</td>\n",
       "      <td>0</td>\n",
       "      <td>11540</td>\n",
       "      <td>64312</td>\n",
       "      <td>9395</td>\n",
       "      <td>7520</td>\n",
       "      <td>1</td>\n",
       "      <td>2.398090e+03</td>\n",
       "      <td>3.000000</td>\n",
       "      <td>Cluster 2</td>\n",
       "    </tr>\n",
       "  </tbody>\n",
       "</table>\n",
       "<p>3195 rows × 55 columns</p>\n",
       "</div>"
      ],
      "text/plain": [
       "       fips          area_name state_abbreviation  PST045214  PST040210  \\\n",
       "0         0      United States                NaN  318857056  308758105   \n",
       "1      1000            Alabama                NaN    4849377    4780127   \n",
       "2      1001     Autauga County                 AL      55395      54571   \n",
       "3      1003     Baldwin County                 AL     200111     182265   \n",
       "4      1005     Barbour County                 AL      26887      27457   \n",
       "...     ...                ...                ...        ...        ...   \n",
       "3190  56037  Sweetwater County                 WY      45010      43806   \n",
       "3191  56039       Teton County                 WY      22930      21294   \n",
       "3192  56041       Uinta County                 WY      20904      21118   \n",
       "3193  56043    Washakie County                 WY       8322       8533   \n",
       "3194  56045      Weston County                 WY       7201       7208   \n",
       "\n",
       "      PST120214  POP010210  AGE135214  AGE295214  AGE775214  ...  SBO015207  \\\n",
       "0           3.3  308745538        6.2  23.100000  14.500000  ...  28.799999   \n",
       "1           1.4    4779736        6.1  22.799999  15.300000  ...  28.100000   \n",
       "2           1.5      54571        6.0  25.200001  13.800000  ...  31.700001   \n",
       "3           9.8     182265        5.6  22.200001  18.700001  ...  27.299999   \n",
       "4          -2.1      27457        5.7  21.200001  16.500000  ...  27.000000   \n",
       "...         ...        ...        ...        ...        ...  ...        ...   \n",
       "3190        2.7      43806        7.3  27.000000   9.500000  ...  27.200001   \n",
       "3191        7.7      21294        5.7  19.100000  12.200000  ...  25.299999   \n",
       "3192       -1.0      21118        7.6  29.799999  11.000000  ...  15.900000   \n",
       "3193       -2.5       8533        5.5  23.900000  20.100000  ...  26.900000   \n",
       "3194       -0.1       7208        6.5  21.600000  18.100000  ...  29.299999   \n",
       "\n",
       "       MAN450207   WTN220207   RTN130207  RTN131207  AFN120207  BPS030214  \\\n",
       "0     5319456312  4174286516  3917663456      12990  613795732    1046363   \n",
       "1      112858843    52252752    57344851      12364    6426342      13369   \n",
       "2              0           0      598175      12003      88157        131   \n",
       "3        1410273           0     2966489      17166     436955       1384   \n",
       "4              0           0      188337       6334          0          8   \n",
       "...          ...         ...         ...        ...        ...        ...   \n",
       "3190           0      437493      898189      22843     150439        227   \n",
       "3191           0           0      515644      25688     327363        145   \n",
       "3192           0      159375      413983      20626      35497         40   \n",
       "3193           0       12128       98308      12596      10175          4   \n",
       "3194           0       11540       64312       9395       7520          1   \n",
       "\n",
       "         LND110210   POP060210    Cluster  \n",
       "0     3.531906e+06   87.400002  Cluster 3  \n",
       "1     5.064533e+04   94.400002  Cluster 0  \n",
       "2     5.944400e+02   91.800003  Cluster 2  \n",
       "3     1.589780e+03  114.599998  Cluster 2  \n",
       "4     8.848800e+02   31.000000  Cluster 2  \n",
       "...            ...         ...        ...  \n",
       "3190  1.042665e+04    4.200000  Cluster 2  \n",
       "3191  3.995380e+03    5.300000  Cluster 2  \n",
       "3192  2.081260e+03   10.100000  Cluster 2  \n",
       "3193  2.238550e+03    3.800000  Cluster 2  \n",
       "3194  2.398090e+03    3.000000  Cluster 2  \n",
       "\n",
       "[3195 rows x 55 columns]"
      ]
     },
     "execution_count": 13,
     "metadata": {},
     "output_type": "execute_result"
    }
   ],
   "source": [
    "\n",
    "birchPrediction = assign_model(birchClusteringModel)\n",
    "birchPrediction"
   ]
  },
  {
   "cell_type": "code",
   "execution_count": 14,
   "id": "a4c12481",
   "metadata": {},
   "outputs": [
    {
     "data": {
      "text/html": [],
      "text/plain": [
       "<IPython.core.display.HTML object>"
      ]
     },
     "metadata": {},
     "output_type": "display_data"
    },
    {
     "data": {
      "text/html": [
       "<style type=\"text/css\">\n",
       "</style>\n",
       "<table id=\"T_6e56a\">\n",
       "  <thead>\n",
       "    <tr>\n",
       "      <th class=\"blank level0\" >&nbsp;</th>\n",
       "      <th id=\"T_6e56a_level0_col0\" class=\"col_heading level0 col0\" >Silhouette</th>\n",
       "      <th id=\"T_6e56a_level0_col1\" class=\"col_heading level0 col1\" >Calinski-Harabasz</th>\n",
       "      <th id=\"T_6e56a_level0_col2\" class=\"col_heading level0 col2\" >Davies-Bouldin</th>\n",
       "      <th id=\"T_6e56a_level0_col3\" class=\"col_heading level0 col3\" >Homogeneity</th>\n",
       "      <th id=\"T_6e56a_level0_col4\" class=\"col_heading level0 col4\" >Rand Index</th>\n",
       "      <th id=\"T_6e56a_level0_col5\" class=\"col_heading level0 col5\" >Completeness</th>\n",
       "    </tr>\n",
       "  </thead>\n",
       "  <tbody>\n",
       "    <tr>\n",
       "      <th id=\"T_6e56a_level0_row0\" class=\"row_heading level0 row0\" >0</th>\n",
       "      <td id=\"T_6e56a_row0_col0\" class=\"data row0 col0\" >0.9622</td>\n",
       "      <td id=\"T_6e56a_row0_col1\" class=\"data row0 col1\" >97971.5580</td>\n",
       "      <td id=\"T_6e56a_row0_col2\" class=\"data row0 col2\" >0.3984</td>\n",
       "      <td id=\"T_6e56a_row0_col3\" class=\"data row0 col3\" >0</td>\n",
       "      <td id=\"T_6e56a_row0_col4\" class=\"data row0 col4\" >0</td>\n",
       "      <td id=\"T_6e56a_row0_col5\" class=\"data row0 col5\" >0</td>\n",
       "    </tr>\n",
       "  </tbody>\n",
       "</table>\n"
      ],
      "text/plain": [
       "<pandas.io.formats.style.Styler at 0x2b0c844e510>"
      ]
     },
     "metadata": {},
     "output_type": "display_data"
    },
    {
     "data": {
      "text/html": [],
      "text/plain": [
       "<IPython.core.display.HTML object>"
      ]
     },
     "metadata": {},
     "output_type": "display_data"
    }
   ],
   "source": [
    "hierarchicalClusteringParameters = setup(data, verbose=False)\n",
    "hierarchicalClusteringModel = create_model('hclust', linkage='ward', affinity='euclidean')\n"
   ]
  },
  {
   "cell_type": "code",
   "execution_count": 15,
   "id": "35cc167b",
   "metadata": {},
   "outputs": [
    {
     "data": {
      "text/html": [
       "<div>\n",
       "<style scoped>\n",
       "    .dataframe tbody tr th:only-of-type {\n",
       "        vertical-align: middle;\n",
       "    }\n",
       "\n",
       "    .dataframe tbody tr th {\n",
       "        vertical-align: top;\n",
       "    }\n",
       "\n",
       "    .dataframe thead th {\n",
       "        text-align: right;\n",
       "    }\n",
       "</style>\n",
       "<table border=\"1\" class=\"dataframe\">\n",
       "  <thead>\n",
       "    <tr style=\"text-align: right;\">\n",
       "      <th></th>\n",
       "      <th>fips</th>\n",
       "      <th>area_name</th>\n",
       "      <th>state_abbreviation</th>\n",
       "      <th>PST045214</th>\n",
       "      <th>PST040210</th>\n",
       "      <th>PST120214</th>\n",
       "      <th>POP010210</th>\n",
       "      <th>AGE135214</th>\n",
       "      <th>AGE295214</th>\n",
       "      <th>AGE775214</th>\n",
       "      <th>...</th>\n",
       "      <th>SBO015207</th>\n",
       "      <th>MAN450207</th>\n",
       "      <th>WTN220207</th>\n",
       "      <th>RTN130207</th>\n",
       "      <th>RTN131207</th>\n",
       "      <th>AFN120207</th>\n",
       "      <th>BPS030214</th>\n",
       "      <th>LND110210</th>\n",
       "      <th>POP060210</th>\n",
       "      <th>Cluster</th>\n",
       "    </tr>\n",
       "  </thead>\n",
       "  <tbody>\n",
       "    <tr>\n",
       "      <th>0</th>\n",
       "      <td>0</td>\n",
       "      <td>United States</td>\n",
       "      <td>NaN</td>\n",
       "      <td>318857056</td>\n",
       "      <td>308758105</td>\n",
       "      <td>3.3</td>\n",
       "      <td>308745538</td>\n",
       "      <td>6.2</td>\n",
       "      <td>23.100000</td>\n",
       "      <td>14.500000</td>\n",
       "      <td>...</td>\n",
       "      <td>28.799999</td>\n",
       "      <td>5319456312</td>\n",
       "      <td>4174286516</td>\n",
       "      <td>3917663456</td>\n",
       "      <td>12990</td>\n",
       "      <td>613795732</td>\n",
       "      <td>1046363</td>\n",
       "      <td>3.531906e+06</td>\n",
       "      <td>87.400002</td>\n",
       "      <td>Cluster 3</td>\n",
       "    </tr>\n",
       "    <tr>\n",
       "      <th>1</th>\n",
       "      <td>1000</td>\n",
       "      <td>Alabama</td>\n",
       "      <td>NaN</td>\n",
       "      <td>4849377</td>\n",
       "      <td>4780127</td>\n",
       "      <td>1.4</td>\n",
       "      <td>4779736</td>\n",
       "      <td>6.1</td>\n",
       "      <td>22.799999</td>\n",
       "      <td>15.300000</td>\n",
       "      <td>...</td>\n",
       "      <td>28.100000</td>\n",
       "      <td>112858843</td>\n",
       "      <td>52252752</td>\n",
       "      <td>57344851</td>\n",
       "      <td>12364</td>\n",
       "      <td>6426342</td>\n",
       "      <td>13369</td>\n",
       "      <td>5.064533e+04</td>\n",
       "      <td>94.400002</td>\n",
       "      <td>Cluster 0</td>\n",
       "    </tr>\n",
       "    <tr>\n",
       "      <th>2</th>\n",
       "      <td>1001</td>\n",
       "      <td>Autauga County</td>\n",
       "      <td>AL</td>\n",
       "      <td>55395</td>\n",
       "      <td>54571</td>\n",
       "      <td>1.5</td>\n",
       "      <td>54571</td>\n",
       "      <td>6.0</td>\n",
       "      <td>25.200001</td>\n",
       "      <td>13.800000</td>\n",
       "      <td>...</td>\n",
       "      <td>31.700001</td>\n",
       "      <td>0</td>\n",
       "      <td>0</td>\n",
       "      <td>598175</td>\n",
       "      <td>12003</td>\n",
       "      <td>88157</td>\n",
       "      <td>131</td>\n",
       "      <td>5.944400e+02</td>\n",
       "      <td>91.800003</td>\n",
       "      <td>Cluster 2</td>\n",
       "    </tr>\n",
       "    <tr>\n",
       "      <th>3</th>\n",
       "      <td>1003</td>\n",
       "      <td>Baldwin County</td>\n",
       "      <td>AL</td>\n",
       "      <td>200111</td>\n",
       "      <td>182265</td>\n",
       "      <td>9.8</td>\n",
       "      <td>182265</td>\n",
       "      <td>5.6</td>\n",
       "      <td>22.200001</td>\n",
       "      <td>18.700001</td>\n",
       "      <td>...</td>\n",
       "      <td>27.299999</td>\n",
       "      <td>1410273</td>\n",
       "      <td>0</td>\n",
       "      <td>2966489</td>\n",
       "      <td>17166</td>\n",
       "      <td>436955</td>\n",
       "      <td>1384</td>\n",
       "      <td>1.589780e+03</td>\n",
       "      <td>114.599998</td>\n",
       "      <td>Cluster 2</td>\n",
       "    </tr>\n",
       "    <tr>\n",
       "      <th>4</th>\n",
       "      <td>1005</td>\n",
       "      <td>Barbour County</td>\n",
       "      <td>AL</td>\n",
       "      <td>26887</td>\n",
       "      <td>27457</td>\n",
       "      <td>-2.1</td>\n",
       "      <td>27457</td>\n",
       "      <td>5.7</td>\n",
       "      <td>21.200001</td>\n",
       "      <td>16.500000</td>\n",
       "      <td>...</td>\n",
       "      <td>27.000000</td>\n",
       "      <td>0</td>\n",
       "      <td>0</td>\n",
       "      <td>188337</td>\n",
       "      <td>6334</td>\n",
       "      <td>0</td>\n",
       "      <td>8</td>\n",
       "      <td>8.848800e+02</td>\n",
       "      <td>31.000000</td>\n",
       "      <td>Cluster 2</td>\n",
       "    </tr>\n",
       "    <tr>\n",
       "      <th>...</th>\n",
       "      <td>...</td>\n",
       "      <td>...</td>\n",
       "      <td>...</td>\n",
       "      <td>...</td>\n",
       "      <td>...</td>\n",
       "      <td>...</td>\n",
       "      <td>...</td>\n",
       "      <td>...</td>\n",
       "      <td>...</td>\n",
       "      <td>...</td>\n",
       "      <td>...</td>\n",
       "      <td>...</td>\n",
       "      <td>...</td>\n",
       "      <td>...</td>\n",
       "      <td>...</td>\n",
       "      <td>...</td>\n",
       "      <td>...</td>\n",
       "      <td>...</td>\n",
       "      <td>...</td>\n",
       "      <td>...</td>\n",
       "      <td>...</td>\n",
       "    </tr>\n",
       "    <tr>\n",
       "      <th>3190</th>\n",
       "      <td>56037</td>\n",
       "      <td>Sweetwater County</td>\n",
       "      <td>WY</td>\n",
       "      <td>45010</td>\n",
       "      <td>43806</td>\n",
       "      <td>2.7</td>\n",
       "      <td>43806</td>\n",
       "      <td>7.3</td>\n",
       "      <td>27.000000</td>\n",
       "      <td>9.500000</td>\n",
       "      <td>...</td>\n",
       "      <td>27.200001</td>\n",
       "      <td>0</td>\n",
       "      <td>437493</td>\n",
       "      <td>898189</td>\n",
       "      <td>22843</td>\n",
       "      <td>150439</td>\n",
       "      <td>227</td>\n",
       "      <td>1.042665e+04</td>\n",
       "      <td>4.200000</td>\n",
       "      <td>Cluster 2</td>\n",
       "    </tr>\n",
       "    <tr>\n",
       "      <th>3191</th>\n",
       "      <td>56039</td>\n",
       "      <td>Teton County</td>\n",
       "      <td>WY</td>\n",
       "      <td>22930</td>\n",
       "      <td>21294</td>\n",
       "      <td>7.7</td>\n",
       "      <td>21294</td>\n",
       "      <td>5.7</td>\n",
       "      <td>19.100000</td>\n",
       "      <td>12.200000</td>\n",
       "      <td>...</td>\n",
       "      <td>25.299999</td>\n",
       "      <td>0</td>\n",
       "      <td>0</td>\n",
       "      <td>515644</td>\n",
       "      <td>25688</td>\n",
       "      <td>327363</td>\n",
       "      <td>145</td>\n",
       "      <td>3.995380e+03</td>\n",
       "      <td>5.300000</td>\n",
       "      <td>Cluster 2</td>\n",
       "    </tr>\n",
       "    <tr>\n",
       "      <th>3192</th>\n",
       "      <td>56041</td>\n",
       "      <td>Uinta County</td>\n",
       "      <td>WY</td>\n",
       "      <td>20904</td>\n",
       "      <td>21118</td>\n",
       "      <td>-1.0</td>\n",
       "      <td>21118</td>\n",
       "      <td>7.6</td>\n",
       "      <td>29.799999</td>\n",
       "      <td>11.000000</td>\n",
       "      <td>...</td>\n",
       "      <td>15.900000</td>\n",
       "      <td>0</td>\n",
       "      <td>159375</td>\n",
       "      <td>413983</td>\n",
       "      <td>20626</td>\n",
       "      <td>35497</td>\n",
       "      <td>40</td>\n",
       "      <td>2.081260e+03</td>\n",
       "      <td>10.100000</td>\n",
       "      <td>Cluster 2</td>\n",
       "    </tr>\n",
       "    <tr>\n",
       "      <th>3193</th>\n",
       "      <td>56043</td>\n",
       "      <td>Washakie County</td>\n",
       "      <td>WY</td>\n",
       "      <td>8322</td>\n",
       "      <td>8533</td>\n",
       "      <td>-2.5</td>\n",
       "      <td>8533</td>\n",
       "      <td>5.5</td>\n",
       "      <td>23.900000</td>\n",
       "      <td>20.100000</td>\n",
       "      <td>...</td>\n",
       "      <td>26.900000</td>\n",
       "      <td>0</td>\n",
       "      <td>12128</td>\n",
       "      <td>98308</td>\n",
       "      <td>12596</td>\n",
       "      <td>10175</td>\n",
       "      <td>4</td>\n",
       "      <td>2.238550e+03</td>\n",
       "      <td>3.800000</td>\n",
       "      <td>Cluster 2</td>\n",
       "    </tr>\n",
       "    <tr>\n",
       "      <th>3194</th>\n",
       "      <td>56045</td>\n",
       "      <td>Weston County</td>\n",
       "      <td>WY</td>\n",
       "      <td>7201</td>\n",
       "      <td>7208</td>\n",
       "      <td>-0.1</td>\n",
       "      <td>7208</td>\n",
       "      <td>6.5</td>\n",
       "      <td>21.600000</td>\n",
       "      <td>18.100000</td>\n",
       "      <td>...</td>\n",
       "      <td>29.299999</td>\n",
       "      <td>0</td>\n",
       "      <td>11540</td>\n",
       "      <td>64312</td>\n",
       "      <td>9395</td>\n",
       "      <td>7520</td>\n",
       "      <td>1</td>\n",
       "      <td>2.398090e+03</td>\n",
       "      <td>3.000000</td>\n",
       "      <td>Cluster 2</td>\n",
       "    </tr>\n",
       "  </tbody>\n",
       "</table>\n",
       "<p>3195 rows × 55 columns</p>\n",
       "</div>"
      ],
      "text/plain": [
       "       fips          area_name state_abbreviation  PST045214  PST040210  \\\n",
       "0         0      United States                NaN  318857056  308758105   \n",
       "1      1000            Alabama                NaN    4849377    4780127   \n",
       "2      1001     Autauga County                 AL      55395      54571   \n",
       "3      1003     Baldwin County                 AL     200111     182265   \n",
       "4      1005     Barbour County                 AL      26887      27457   \n",
       "...     ...                ...                ...        ...        ...   \n",
       "3190  56037  Sweetwater County                 WY      45010      43806   \n",
       "3191  56039       Teton County                 WY      22930      21294   \n",
       "3192  56041       Uinta County                 WY      20904      21118   \n",
       "3193  56043    Washakie County                 WY       8322       8533   \n",
       "3194  56045      Weston County                 WY       7201       7208   \n",
       "\n",
       "      PST120214  POP010210  AGE135214  AGE295214  AGE775214  ...  SBO015207  \\\n",
       "0           3.3  308745538        6.2  23.100000  14.500000  ...  28.799999   \n",
       "1           1.4    4779736        6.1  22.799999  15.300000  ...  28.100000   \n",
       "2           1.5      54571        6.0  25.200001  13.800000  ...  31.700001   \n",
       "3           9.8     182265        5.6  22.200001  18.700001  ...  27.299999   \n",
       "4          -2.1      27457        5.7  21.200001  16.500000  ...  27.000000   \n",
       "...         ...        ...        ...        ...        ...  ...        ...   \n",
       "3190        2.7      43806        7.3  27.000000   9.500000  ...  27.200001   \n",
       "3191        7.7      21294        5.7  19.100000  12.200000  ...  25.299999   \n",
       "3192       -1.0      21118        7.6  29.799999  11.000000  ...  15.900000   \n",
       "3193       -2.5       8533        5.5  23.900000  20.100000  ...  26.900000   \n",
       "3194       -0.1       7208        6.5  21.600000  18.100000  ...  29.299999   \n",
       "\n",
       "       MAN450207   WTN220207   RTN130207  RTN131207  AFN120207  BPS030214  \\\n",
       "0     5319456312  4174286516  3917663456      12990  613795732    1046363   \n",
       "1      112858843    52252752    57344851      12364    6426342      13369   \n",
       "2              0           0      598175      12003      88157        131   \n",
       "3        1410273           0     2966489      17166     436955       1384   \n",
       "4              0           0      188337       6334          0          8   \n",
       "...          ...         ...         ...        ...        ...        ...   \n",
       "3190           0      437493      898189      22843     150439        227   \n",
       "3191           0           0      515644      25688     327363        145   \n",
       "3192           0      159375      413983      20626      35497         40   \n",
       "3193           0       12128       98308      12596      10175          4   \n",
       "3194           0       11540       64312       9395       7520          1   \n",
       "\n",
       "         LND110210   POP060210    Cluster  \n",
       "0     3.531906e+06   87.400002  Cluster 3  \n",
       "1     5.064533e+04   94.400002  Cluster 0  \n",
       "2     5.944400e+02   91.800003  Cluster 2  \n",
       "3     1.589780e+03  114.599998  Cluster 2  \n",
       "4     8.848800e+02   31.000000  Cluster 2  \n",
       "...            ...         ...        ...  \n",
       "3190  1.042665e+04    4.200000  Cluster 2  \n",
       "3191  3.995380e+03    5.300000  Cluster 2  \n",
       "3192  2.081260e+03   10.100000  Cluster 2  \n",
       "3193  2.238550e+03    3.800000  Cluster 2  \n",
       "3194  2.398090e+03    3.000000  Cluster 2  \n",
       "\n",
       "[3195 rows x 55 columns]"
      ]
     },
     "execution_count": 15,
     "metadata": {},
     "output_type": "execute_result"
    }
   ],
   "source": [
    "hierarchicalPrediction = assign_model(hierarchicalClusteringModel)\n",
    "hierarchicalPrediction"
   ]
  },
  {
   "cell_type": "code",
   "execution_count": 16,
   "id": "83c57ac6",
   "metadata": {},
   "outputs": [
    {
     "name": "stdout",
     "output_type": "stream",
     "text": [
      "Transformation Pipeline and Model Successfully Saved\n"
     ]
    }
   ],
   "source": [
    "X = save_model(KMeanClusteringModel, 'kMeanClusteringModelFile')"
   ]
  },
  {
   "cell_type": "code",
   "execution_count": 17,
   "id": "969e1c5e",
   "metadata": {},
   "outputs": [
    {
     "name": "stdout",
     "output_type": "stream",
     "text": [
      "Transformation Pipeline and Model Successfully Saved\n"
     ]
    }
   ],
   "source": [
    "y=save_model(hierarchicalClusteringModel, 'hierarchicalClusteringModelfile')"
   ]
  },
  {
   "cell_type": "code",
   "execution_count": 18,
   "id": "4e090464",
   "metadata": {},
   "outputs": [
    {
     "name": "stdout",
     "output_type": "stream",
     "text": [
      "Transformation Pipeline and Model Successfully Saved\n"
     ]
    }
   ],
   "source": [
    "z=save_model(birchClusteringModel, 'birchClusteringModelfile')"
   ]
  },
  {
   "cell_type": "code",
   "execution_count": 19,
   "id": "525325d9",
   "metadata": {},
   "outputs": [
    {
     "name": "stdout",
     "output_type": "stream",
     "text": [
      "For Cluster = 3\n"
     ]
    },
    {
     "data": {
      "text/html": [],
      "text/plain": [
       "<IPython.core.display.HTML object>"
      ]
     },
     "metadata": {},
     "output_type": "display_data"
    },
    {
     "data": {
      "text/html": [
       "<style type=\"text/css\">\n",
       "</style>\n",
       "<table id=\"T_3c2f5\">\n",
       "  <thead>\n",
       "    <tr>\n",
       "      <th class=\"blank level0\" >&nbsp;</th>\n",
       "      <th id=\"T_3c2f5_level0_col0\" class=\"col_heading level0 col0\" >Silhouette</th>\n",
       "      <th id=\"T_3c2f5_level0_col1\" class=\"col_heading level0 col1\" >Calinski-Harabasz</th>\n",
       "      <th id=\"T_3c2f5_level0_col2\" class=\"col_heading level0 col2\" >Davies-Bouldin</th>\n",
       "      <th id=\"T_3c2f5_level0_col3\" class=\"col_heading level0 col3\" >Homogeneity</th>\n",
       "      <th id=\"T_3c2f5_level0_col4\" class=\"col_heading level0 col4\" >Rand Index</th>\n",
       "      <th id=\"T_3c2f5_level0_col5\" class=\"col_heading level0 col5\" >Completeness</th>\n",
       "    </tr>\n",
       "  </thead>\n",
       "  <tbody>\n",
       "    <tr>\n",
       "      <th id=\"T_3c2f5_level0_row0\" class=\"row_heading level0 row0\" >0</th>\n",
       "      <td id=\"T_3c2f5_row0_col0\" class=\"data row0 col0\" >0.9785</td>\n",
       "      <td id=\"T_3c2f5_row0_col1\" class=\"data row0 col1\" >81056.9046</td>\n",
       "      <td id=\"T_3c2f5_row0_col2\" class=\"data row0 col2\" >0.3493</td>\n",
       "      <td id=\"T_3c2f5_row0_col3\" class=\"data row0 col3\" >0</td>\n",
       "      <td id=\"T_3c2f5_row0_col4\" class=\"data row0 col4\" >0</td>\n",
       "      <td id=\"T_3c2f5_row0_col5\" class=\"data row0 col5\" >0</td>\n",
       "    </tr>\n",
       "  </tbody>\n",
       "</table>\n"
      ],
      "text/plain": [
       "<pandas.io.formats.style.Styler at 0x2b08ab51510>"
      ]
     },
     "metadata": {},
     "output_type": "display_data"
    },
    {
     "data": {
      "text/html": [],
      "text/plain": [
       "<IPython.core.display.HTML object>"
      ]
     },
     "metadata": {},
     "output_type": "display_data"
    },
    {
     "name": "stdout",
     "output_type": "stream",
     "text": [
      "For Cluster = 4\n"
     ]
    },
    {
     "data": {
      "text/html": [],
      "text/plain": [
       "<IPython.core.display.HTML object>"
      ]
     },
     "metadata": {},
     "output_type": "display_data"
    },
    {
     "data": {
      "text/html": [
       "<style type=\"text/css\">\n",
       "</style>\n",
       "<table id=\"T_e5114\">\n",
       "  <thead>\n",
       "    <tr>\n",
       "      <th class=\"blank level0\" >&nbsp;</th>\n",
       "      <th id=\"T_e5114_level0_col0\" class=\"col_heading level0 col0\" >Silhouette</th>\n",
       "      <th id=\"T_e5114_level0_col1\" class=\"col_heading level0 col1\" >Calinski-Harabasz</th>\n",
       "      <th id=\"T_e5114_level0_col2\" class=\"col_heading level0 col2\" >Davies-Bouldin</th>\n",
       "      <th id=\"T_e5114_level0_col3\" class=\"col_heading level0 col3\" >Homogeneity</th>\n",
       "      <th id=\"T_e5114_level0_col4\" class=\"col_heading level0 col4\" >Rand Index</th>\n",
       "      <th id=\"T_e5114_level0_col5\" class=\"col_heading level0 col5\" >Completeness</th>\n",
       "    </tr>\n",
       "  </thead>\n",
       "  <tbody>\n",
       "    <tr>\n",
       "      <th id=\"T_e5114_level0_row0\" class=\"row_heading level0 row0\" >0</th>\n",
       "      <td id=\"T_e5114_row0_col0\" class=\"data row0 col0\" >0.9712</td>\n",
       "      <td id=\"T_e5114_row0_col1\" class=\"data row0 col1\" >117319.6444</td>\n",
       "      <td id=\"T_e5114_row0_col2\" class=\"data row0 col2\" >0.3388</td>\n",
       "      <td id=\"T_e5114_row0_col3\" class=\"data row0 col3\" >0</td>\n",
       "      <td id=\"T_e5114_row0_col4\" class=\"data row0 col4\" >0</td>\n",
       "      <td id=\"T_e5114_row0_col5\" class=\"data row0 col5\" >0</td>\n",
       "    </tr>\n",
       "  </tbody>\n",
       "</table>\n"
      ],
      "text/plain": [
       "<pandas.io.formats.style.Styler at 0x2b08aaf8f90>"
      ]
     },
     "metadata": {},
     "output_type": "display_data"
    },
    {
     "data": {
      "text/html": [],
      "text/plain": [
       "<IPython.core.display.HTML object>"
      ]
     },
     "metadata": {},
     "output_type": "display_data"
    },
    {
     "name": "stdout",
     "output_type": "stream",
     "text": [
      "For Cluster = 5\n"
     ]
    },
    {
     "data": {
      "text/html": [],
      "text/plain": [
       "<IPython.core.display.HTML object>"
      ]
     },
     "metadata": {},
     "output_type": "display_data"
    },
    {
     "data": {
      "text/html": [
       "<style type=\"text/css\">\n",
       "</style>\n",
       "<table id=\"T_f4ece\">\n",
       "  <thead>\n",
       "    <tr>\n",
       "      <th class=\"blank level0\" >&nbsp;</th>\n",
       "      <th id=\"T_f4ece_level0_col0\" class=\"col_heading level0 col0\" >Silhouette</th>\n",
       "      <th id=\"T_f4ece_level0_col1\" class=\"col_heading level0 col1\" >Calinski-Harabasz</th>\n",
       "      <th id=\"T_f4ece_level0_col2\" class=\"col_heading level0 col2\" >Davies-Bouldin</th>\n",
       "      <th id=\"T_f4ece_level0_col3\" class=\"col_heading level0 col3\" >Homogeneity</th>\n",
       "      <th id=\"T_f4ece_level0_col4\" class=\"col_heading level0 col4\" >Rand Index</th>\n",
       "      <th id=\"T_f4ece_level0_col5\" class=\"col_heading level0 col5\" >Completeness</th>\n",
       "    </tr>\n",
       "  </thead>\n",
       "  <tbody>\n",
       "    <tr>\n",
       "      <th id=\"T_f4ece_level0_row0\" class=\"row_heading level0 row0\" >0</th>\n",
       "      <td id=\"T_f4ece_row0_col0\" class=\"data row0 col0\" >0.9548</td>\n",
       "      <td id=\"T_f4ece_row0_col1\" class=\"data row0 col1\" >139821.0982</td>\n",
       "      <td id=\"T_f4ece_row0_col2\" class=\"data row0 col2\" >0.5008</td>\n",
       "      <td id=\"T_f4ece_row0_col3\" class=\"data row0 col3\" >0</td>\n",
       "      <td id=\"T_f4ece_row0_col4\" class=\"data row0 col4\" >0</td>\n",
       "      <td id=\"T_f4ece_row0_col5\" class=\"data row0 col5\" >0</td>\n",
       "    </tr>\n",
       "  </tbody>\n",
       "</table>\n"
      ],
      "text/plain": [
       "<pandas.io.formats.style.Styler at 0x2b0c34572d0>"
      ]
     },
     "metadata": {},
     "output_type": "display_data"
    },
    {
     "data": {
      "text/html": [],
      "text/plain": [
       "<IPython.core.display.HTML object>"
      ]
     },
     "metadata": {},
     "output_type": "display_data"
    },
    {
     "name": "stdout",
     "output_type": "stream",
     "text": [
      "For Cluster = 6\n"
     ]
    },
    {
     "data": {
      "text/html": [],
      "text/plain": [
       "<IPython.core.display.HTML object>"
      ]
     },
     "metadata": {},
     "output_type": "display_data"
    },
    {
     "data": {
      "text/html": [
       "<style type=\"text/css\">\n",
       "</style>\n",
       "<table id=\"T_8d1b2\">\n",
       "  <thead>\n",
       "    <tr>\n",
       "      <th class=\"blank level0\" >&nbsp;</th>\n",
       "      <th id=\"T_8d1b2_level0_col0\" class=\"col_heading level0 col0\" >Silhouette</th>\n",
       "      <th id=\"T_8d1b2_level0_col1\" class=\"col_heading level0 col1\" >Calinski-Harabasz</th>\n",
       "      <th id=\"T_8d1b2_level0_col2\" class=\"col_heading level0 col2\" >Davies-Bouldin</th>\n",
       "      <th id=\"T_8d1b2_level0_col3\" class=\"col_heading level0 col3\" >Homogeneity</th>\n",
       "      <th id=\"T_8d1b2_level0_col4\" class=\"col_heading level0 col4\" >Rand Index</th>\n",
       "      <th id=\"T_8d1b2_level0_col5\" class=\"col_heading level0 col5\" >Completeness</th>\n",
       "    </tr>\n",
       "  </thead>\n",
       "  <tbody>\n",
       "    <tr>\n",
       "      <th id=\"T_8d1b2_level0_row0\" class=\"row_heading level0 row0\" >0</th>\n",
       "      <td id=\"T_8d1b2_row0_col0\" class=\"data row0 col0\" >0.9513</td>\n",
       "      <td id=\"T_8d1b2_row0_col1\" class=\"data row0 col1\" >141949.0340</td>\n",
       "      <td id=\"T_8d1b2_row0_col2\" class=\"data row0 col2\" >0.5936</td>\n",
       "      <td id=\"T_8d1b2_row0_col3\" class=\"data row0 col3\" >0</td>\n",
       "      <td id=\"T_8d1b2_row0_col4\" class=\"data row0 col4\" >0</td>\n",
       "      <td id=\"T_8d1b2_row0_col5\" class=\"data row0 col5\" >0</td>\n",
       "    </tr>\n",
       "  </tbody>\n",
       "</table>\n"
      ],
      "text/plain": [
       "<pandas.io.formats.style.Styler at 0x2b08ab64a10>"
      ]
     },
     "metadata": {},
     "output_type": "display_data"
    },
    {
     "data": {
      "text/html": [],
      "text/plain": [
       "<IPython.core.display.HTML object>"
      ]
     },
     "metadata": {},
     "output_type": "display_data"
    }
   ],
   "source": [
    "print(\"For Cluster = 3\")\n",
    "x = create_model('kmeans', num_clusters = 3)\n",
    "\n",
    "print(\"For Cluster = 4\")\n",
    "x = create_model('kmeans', num_clusters = 4)\n",
    "\n",
    "print(\"For Cluster = 5\")\n",
    "x = create_model('kmeans', num_clusters = 5)\n",
    "\n",
    "print(\"For Cluster = 6\")\n",
    "x = create_model('kmeans', num_clusters = 6)"
   ]
  },
  {
   "cell_type": "code",
   "execution_count": 20,
   "id": "72d3eb92",
   "metadata": {},
   "outputs": [
    {
     "name": "stdout",
     "output_type": "stream",
     "text": [
      "For Cluster = 3\n"
     ]
    },
    {
     "data": {
      "text/html": [],
      "text/plain": [
       "<IPython.core.display.HTML object>"
      ]
     },
     "metadata": {},
     "output_type": "display_data"
    },
    {
     "data": {
      "text/html": [
       "<style type=\"text/css\">\n",
       "</style>\n",
       "<table id=\"T_2a448\">\n",
       "  <thead>\n",
       "    <tr>\n",
       "      <th class=\"blank level0\" >&nbsp;</th>\n",
       "      <th id=\"T_2a448_level0_col0\" class=\"col_heading level0 col0\" >Silhouette</th>\n",
       "      <th id=\"T_2a448_level0_col1\" class=\"col_heading level0 col1\" >Calinski-Harabasz</th>\n",
       "      <th id=\"T_2a448_level0_col2\" class=\"col_heading level0 col2\" >Davies-Bouldin</th>\n",
       "      <th id=\"T_2a448_level0_col3\" class=\"col_heading level0 col3\" >Homogeneity</th>\n",
       "      <th id=\"T_2a448_level0_col4\" class=\"col_heading level0 col4\" >Rand Index</th>\n",
       "      <th id=\"T_2a448_level0_col5\" class=\"col_heading level0 col5\" >Completeness</th>\n",
       "    </tr>\n",
       "  </thead>\n",
       "  <tbody>\n",
       "    <tr>\n",
       "      <th id=\"T_2a448_level0_row0\" class=\"row_heading level0 row0\" >0</th>\n",
       "      <td id=\"T_2a448_row0_col0\" class=\"data row0 col0\" >0.9635</td>\n",
       "      <td id=\"T_2a448_row0_col1\" class=\"data row0 col1\" >62673.9037</td>\n",
       "      <td id=\"T_2a448_row0_col2\" class=\"data row0 col2\" >0.4819</td>\n",
       "      <td id=\"T_2a448_row0_col3\" class=\"data row0 col3\" >0</td>\n",
       "      <td id=\"T_2a448_row0_col4\" class=\"data row0 col4\" >0</td>\n",
       "      <td id=\"T_2a448_row0_col5\" class=\"data row0 col5\" >0</td>\n",
       "    </tr>\n",
       "  </tbody>\n",
       "</table>\n"
      ],
      "text/plain": [
       "<pandas.io.formats.style.Styler at 0x2b08aaf2ed0>"
      ]
     },
     "metadata": {},
     "output_type": "display_data"
    },
    {
     "data": {
      "text/html": [],
      "text/plain": [
       "<IPython.core.display.HTML object>"
      ]
     },
     "metadata": {},
     "output_type": "display_data"
    },
    {
     "name": "stdout",
     "output_type": "stream",
     "text": [
      "For Cluster = 4\n"
     ]
    },
    {
     "data": {
      "text/html": [],
      "text/plain": [
       "<IPython.core.display.HTML object>"
      ]
     },
     "metadata": {},
     "output_type": "display_data"
    },
    {
     "data": {
      "text/html": [
       "<style type=\"text/css\">\n",
       "</style>\n",
       "<table id=\"T_64a3c\">\n",
       "  <thead>\n",
       "    <tr>\n",
       "      <th class=\"blank level0\" >&nbsp;</th>\n",
       "      <th id=\"T_64a3c_level0_col0\" class=\"col_heading level0 col0\" >Silhouette</th>\n",
       "      <th id=\"T_64a3c_level0_col1\" class=\"col_heading level0 col1\" >Calinski-Harabasz</th>\n",
       "      <th id=\"T_64a3c_level0_col2\" class=\"col_heading level0 col2\" >Davies-Bouldin</th>\n",
       "      <th id=\"T_64a3c_level0_col3\" class=\"col_heading level0 col3\" >Homogeneity</th>\n",
       "      <th id=\"T_64a3c_level0_col4\" class=\"col_heading level0 col4\" >Rand Index</th>\n",
       "      <th id=\"T_64a3c_level0_col5\" class=\"col_heading level0 col5\" >Completeness</th>\n",
       "    </tr>\n",
       "  </thead>\n",
       "  <tbody>\n",
       "    <tr>\n",
       "      <th id=\"T_64a3c_level0_row0\" class=\"row_heading level0 row0\" >0</th>\n",
       "      <td id=\"T_64a3c_row0_col0\" class=\"data row0 col0\" >0.9622</td>\n",
       "      <td id=\"T_64a3c_row0_col1\" class=\"data row0 col1\" >97971.5580</td>\n",
       "      <td id=\"T_64a3c_row0_col2\" class=\"data row0 col2\" >0.3984</td>\n",
       "      <td id=\"T_64a3c_row0_col3\" class=\"data row0 col3\" >0</td>\n",
       "      <td id=\"T_64a3c_row0_col4\" class=\"data row0 col4\" >0</td>\n",
       "      <td id=\"T_64a3c_row0_col5\" class=\"data row0 col5\" >0</td>\n",
       "    </tr>\n",
       "  </tbody>\n",
       "</table>\n"
      ],
      "text/plain": [
       "<pandas.io.formats.style.Styler at 0x2b08ab0fa50>"
      ]
     },
     "metadata": {},
     "output_type": "display_data"
    },
    {
     "data": {
      "text/html": [],
      "text/plain": [
       "<IPython.core.display.HTML object>"
      ]
     },
     "metadata": {},
     "output_type": "display_data"
    },
    {
     "name": "stdout",
     "output_type": "stream",
     "text": [
      "For Cluster = 5\n"
     ]
    },
    {
     "data": {
      "text/html": [],
      "text/plain": [
       "<IPython.core.display.HTML object>"
      ]
     },
     "metadata": {},
     "output_type": "display_data"
    },
    {
     "data": {
      "text/html": [
       "<style type=\"text/css\">\n",
       "</style>\n",
       "<table id=\"T_b17d3\">\n",
       "  <thead>\n",
       "    <tr>\n",
       "      <th class=\"blank level0\" >&nbsp;</th>\n",
       "      <th id=\"T_b17d3_level0_col0\" class=\"col_heading level0 col0\" >Silhouette</th>\n",
       "      <th id=\"T_b17d3_level0_col1\" class=\"col_heading level0 col1\" >Calinski-Harabasz</th>\n",
       "      <th id=\"T_b17d3_level0_col2\" class=\"col_heading level0 col2\" >Davies-Bouldin</th>\n",
       "      <th id=\"T_b17d3_level0_col3\" class=\"col_heading level0 col3\" >Homogeneity</th>\n",
       "      <th id=\"T_b17d3_level0_col4\" class=\"col_heading level0 col4\" >Rand Index</th>\n",
       "      <th id=\"T_b17d3_level0_col5\" class=\"col_heading level0 col5\" >Completeness</th>\n",
       "    </tr>\n",
       "  </thead>\n",
       "  <tbody>\n",
       "    <tr>\n",
       "      <th id=\"T_b17d3_level0_row0\" class=\"row_heading level0 row0\" >0</th>\n",
       "      <td id=\"T_b17d3_row0_col0\" class=\"data row0 col0\" >0.9531</td>\n",
       "      <td id=\"T_b17d3_row0_col1\" class=\"data row0 col1\" >138960.6446</td>\n",
       "      <td id=\"T_b17d3_row0_col2\" class=\"data row0 col2\" >0.5044</td>\n",
       "      <td id=\"T_b17d3_row0_col3\" class=\"data row0 col3\" >0</td>\n",
       "      <td id=\"T_b17d3_row0_col4\" class=\"data row0 col4\" >0</td>\n",
       "      <td id=\"T_b17d3_row0_col5\" class=\"data row0 col5\" >0</td>\n",
       "    </tr>\n",
       "  </tbody>\n",
       "</table>\n"
      ],
      "text/plain": [
       "<pandas.io.formats.style.Styler at 0x2b0c842fa50>"
      ]
     },
     "metadata": {},
     "output_type": "display_data"
    },
    {
     "data": {
      "text/html": [],
      "text/plain": [
       "<IPython.core.display.HTML object>"
      ]
     },
     "metadata": {},
     "output_type": "display_data"
    },
    {
     "name": "stdout",
     "output_type": "stream",
     "text": [
      "For Cluster = 6\n"
     ]
    },
    {
     "data": {
      "text/html": [],
      "text/plain": [
       "<IPython.core.display.HTML object>"
      ]
     },
     "metadata": {},
     "output_type": "display_data"
    },
    {
     "data": {
      "text/html": [
       "<style type=\"text/css\">\n",
       "</style>\n",
       "<table id=\"T_026b2\">\n",
       "  <thead>\n",
       "    <tr>\n",
       "      <th class=\"blank level0\" >&nbsp;</th>\n",
       "      <th id=\"T_026b2_level0_col0\" class=\"col_heading level0 col0\" >Silhouette</th>\n",
       "      <th id=\"T_026b2_level0_col1\" class=\"col_heading level0 col1\" >Calinski-Harabasz</th>\n",
       "      <th id=\"T_026b2_level0_col2\" class=\"col_heading level0 col2\" >Davies-Bouldin</th>\n",
       "      <th id=\"T_026b2_level0_col3\" class=\"col_heading level0 col3\" >Homogeneity</th>\n",
       "      <th id=\"T_026b2_level0_col4\" class=\"col_heading level0 col4\" >Rand Index</th>\n",
       "      <th id=\"T_026b2_level0_col5\" class=\"col_heading level0 col5\" >Completeness</th>\n",
       "    </tr>\n",
       "  </thead>\n",
       "  <tbody>\n",
       "    <tr>\n",
       "      <th id=\"T_026b2_level0_row0\" class=\"row_heading level0 row0\" >0</th>\n",
       "      <td id=\"T_026b2_row0_col0\" class=\"data row0 col0\" >0.9531</td>\n",
       "      <td id=\"T_026b2_row0_col1\" class=\"data row0 col1\" >135290.7822</td>\n",
       "      <td id=\"T_026b2_row0_col2\" class=\"data row0 col2\" >0.6129</td>\n",
       "      <td id=\"T_026b2_row0_col3\" class=\"data row0 col3\" >0</td>\n",
       "      <td id=\"T_026b2_row0_col4\" class=\"data row0 col4\" >0</td>\n",
       "      <td id=\"T_026b2_row0_col5\" class=\"data row0 col5\" >0</td>\n",
       "    </tr>\n",
       "  </tbody>\n",
       "</table>\n"
      ],
      "text/plain": [
       "<pandas.io.formats.style.Styler at 0x2b08ab66210>"
      ]
     },
     "metadata": {},
     "output_type": "display_data"
    },
    {
     "data": {
      "text/html": [],
      "text/plain": [
       "<IPython.core.display.HTML object>"
      ]
     },
     "metadata": {},
     "output_type": "display_data"
    }
   ],
   "source": [
    "print(\"For Cluster = 3\")\n",
    "x = create_model('hclust', num_clusters = 3)\n",
    "\n",
    "print(\"For Cluster = 4\")\n",
    "x = create_model('hclust', num_clusters = 4)\n",
    "\n",
    "print(\"For Cluster = 5\")\n",
    "x = create_model('hclust', num_clusters = 5)\n",
    "\n",
    "print(\"For Cluster = 6\")\n",
    "x = create_model('hclust', num_clusters = 6)"
   ]
  },
  {
   "cell_type": "code",
   "execution_count": 21,
   "id": "fb0f1a97",
   "metadata": {},
   "outputs": [
    {
     "name": "stdout",
     "output_type": "stream",
     "text": [
      "For Cluster = 3\n"
     ]
    },
    {
     "data": {
      "text/html": [],
      "text/plain": [
       "<IPython.core.display.HTML object>"
      ]
     },
     "metadata": {},
     "output_type": "display_data"
    },
    {
     "data": {
      "text/html": [
       "<style type=\"text/css\">\n",
       "</style>\n",
       "<table id=\"T_c08b0\">\n",
       "  <thead>\n",
       "    <tr>\n",
       "      <th class=\"blank level0\" >&nbsp;</th>\n",
       "      <th id=\"T_c08b0_level0_col0\" class=\"col_heading level0 col0\" >Silhouette</th>\n",
       "      <th id=\"T_c08b0_level0_col1\" class=\"col_heading level0 col1\" >Calinski-Harabasz</th>\n",
       "      <th id=\"T_c08b0_level0_col2\" class=\"col_heading level0 col2\" >Davies-Bouldin</th>\n",
       "      <th id=\"T_c08b0_level0_col3\" class=\"col_heading level0 col3\" >Homogeneity</th>\n",
       "      <th id=\"T_c08b0_level0_col4\" class=\"col_heading level0 col4\" >Rand Index</th>\n",
       "      <th id=\"T_c08b0_level0_col5\" class=\"col_heading level0 col5\" >Completeness</th>\n",
       "    </tr>\n",
       "  </thead>\n",
       "  <tbody>\n",
       "    <tr>\n",
       "      <th id=\"T_c08b0_level0_row0\" class=\"row_heading level0 row0\" >0</th>\n",
       "      <td id=\"T_c08b0_row0_col0\" class=\"data row0 col0\" >0.9635</td>\n",
       "      <td id=\"T_c08b0_row0_col1\" class=\"data row0 col1\" >62673.9037</td>\n",
       "      <td id=\"T_c08b0_row0_col2\" class=\"data row0 col2\" >0.4819</td>\n",
       "      <td id=\"T_c08b0_row0_col3\" class=\"data row0 col3\" >0</td>\n",
       "      <td id=\"T_c08b0_row0_col4\" class=\"data row0 col4\" >0</td>\n",
       "      <td id=\"T_c08b0_row0_col5\" class=\"data row0 col5\" >0</td>\n",
       "    </tr>\n",
       "  </tbody>\n",
       "</table>\n"
      ],
      "text/plain": [
       "<pandas.io.formats.style.Styler at 0x2b08ab4d810>"
      ]
     },
     "metadata": {},
     "output_type": "display_data"
    },
    {
     "data": {
      "text/html": [],
      "text/plain": [
       "<IPython.core.display.HTML object>"
      ]
     },
     "metadata": {},
     "output_type": "display_data"
    },
    {
     "name": "stdout",
     "output_type": "stream",
     "text": [
      "For Cluster = 4\n"
     ]
    },
    {
     "data": {
      "text/html": [],
      "text/plain": [
       "<IPython.core.display.HTML object>"
      ]
     },
     "metadata": {},
     "output_type": "display_data"
    },
    {
     "data": {
      "text/html": [
       "<style type=\"text/css\">\n",
       "</style>\n",
       "<table id=\"T_0dad5\">\n",
       "  <thead>\n",
       "    <tr>\n",
       "      <th class=\"blank level0\" >&nbsp;</th>\n",
       "      <th id=\"T_0dad5_level0_col0\" class=\"col_heading level0 col0\" >Silhouette</th>\n",
       "      <th id=\"T_0dad5_level0_col1\" class=\"col_heading level0 col1\" >Calinski-Harabasz</th>\n",
       "      <th id=\"T_0dad5_level0_col2\" class=\"col_heading level0 col2\" >Davies-Bouldin</th>\n",
       "      <th id=\"T_0dad5_level0_col3\" class=\"col_heading level0 col3\" >Homogeneity</th>\n",
       "      <th id=\"T_0dad5_level0_col4\" class=\"col_heading level0 col4\" >Rand Index</th>\n",
       "      <th id=\"T_0dad5_level0_col5\" class=\"col_heading level0 col5\" >Completeness</th>\n",
       "    </tr>\n",
       "  </thead>\n",
       "  <tbody>\n",
       "    <tr>\n",
       "      <th id=\"T_0dad5_level0_row0\" class=\"row_heading level0 row0\" >0</th>\n",
       "      <td id=\"T_0dad5_row0_col0\" class=\"data row0 col0\" >0.9622</td>\n",
       "      <td id=\"T_0dad5_row0_col1\" class=\"data row0 col1\" >97971.5580</td>\n",
       "      <td id=\"T_0dad5_row0_col2\" class=\"data row0 col2\" >0.3984</td>\n",
       "      <td id=\"T_0dad5_row0_col3\" class=\"data row0 col3\" >0</td>\n",
       "      <td id=\"T_0dad5_row0_col4\" class=\"data row0 col4\" >0</td>\n",
       "      <td id=\"T_0dad5_row0_col5\" class=\"data row0 col5\" >0</td>\n",
       "    </tr>\n",
       "  </tbody>\n",
       "</table>\n"
      ],
      "text/plain": [
       "<pandas.io.formats.style.Styler at 0x2b08aab5050>"
      ]
     },
     "metadata": {},
     "output_type": "display_data"
    },
    {
     "data": {
      "text/html": [],
      "text/plain": [
       "<IPython.core.display.HTML object>"
      ]
     },
     "metadata": {},
     "output_type": "display_data"
    },
    {
     "name": "stdout",
     "output_type": "stream",
     "text": [
      "For Cluster = 5\n"
     ]
    },
    {
     "data": {
      "text/html": [],
      "text/plain": [
       "<IPython.core.display.HTML object>"
      ]
     },
     "metadata": {},
     "output_type": "display_data"
    },
    {
     "data": {
      "text/html": [
       "<style type=\"text/css\">\n",
       "</style>\n",
       "<table id=\"T_9f500\">\n",
       "  <thead>\n",
       "    <tr>\n",
       "      <th class=\"blank level0\" >&nbsp;</th>\n",
       "      <th id=\"T_9f500_level0_col0\" class=\"col_heading level0 col0\" >Silhouette</th>\n",
       "      <th id=\"T_9f500_level0_col1\" class=\"col_heading level0 col1\" >Calinski-Harabasz</th>\n",
       "      <th id=\"T_9f500_level0_col2\" class=\"col_heading level0 col2\" >Davies-Bouldin</th>\n",
       "      <th id=\"T_9f500_level0_col3\" class=\"col_heading level0 col3\" >Homogeneity</th>\n",
       "      <th id=\"T_9f500_level0_col4\" class=\"col_heading level0 col4\" >Rand Index</th>\n",
       "      <th id=\"T_9f500_level0_col5\" class=\"col_heading level0 col5\" >Completeness</th>\n",
       "    </tr>\n",
       "  </thead>\n",
       "  <tbody>\n",
       "    <tr>\n",
       "      <th id=\"T_9f500_level0_row0\" class=\"row_heading level0 row0\" >0</th>\n",
       "      <td id=\"T_9f500_row0_col0\" class=\"data row0 col0\" >0.9531</td>\n",
       "      <td id=\"T_9f500_row0_col1\" class=\"data row0 col1\" >138960.6446</td>\n",
       "      <td id=\"T_9f500_row0_col2\" class=\"data row0 col2\" >0.5044</td>\n",
       "      <td id=\"T_9f500_row0_col3\" class=\"data row0 col3\" >0</td>\n",
       "      <td id=\"T_9f500_row0_col4\" class=\"data row0 col4\" >0</td>\n",
       "      <td id=\"T_9f500_row0_col5\" class=\"data row0 col5\" >0</td>\n",
       "    </tr>\n",
       "  </tbody>\n",
       "</table>\n"
      ],
      "text/plain": [
       "<pandas.io.formats.style.Styler at 0x2b08aac0e10>"
      ]
     },
     "metadata": {},
     "output_type": "display_data"
    },
    {
     "data": {
      "text/html": [],
      "text/plain": [
       "<IPython.core.display.HTML object>"
      ]
     },
     "metadata": {},
     "output_type": "display_data"
    },
    {
     "name": "stdout",
     "output_type": "stream",
     "text": [
      "For Cluster = 6\n"
     ]
    },
    {
     "data": {
      "text/html": [],
      "text/plain": [
       "<IPython.core.display.HTML object>"
      ]
     },
     "metadata": {},
     "output_type": "display_data"
    },
    {
     "data": {
      "text/html": [
       "<style type=\"text/css\">\n",
       "</style>\n",
       "<table id=\"T_7b9ab\">\n",
       "  <thead>\n",
       "    <tr>\n",
       "      <th class=\"blank level0\" >&nbsp;</th>\n",
       "      <th id=\"T_7b9ab_level0_col0\" class=\"col_heading level0 col0\" >Silhouette</th>\n",
       "      <th id=\"T_7b9ab_level0_col1\" class=\"col_heading level0 col1\" >Calinski-Harabasz</th>\n",
       "      <th id=\"T_7b9ab_level0_col2\" class=\"col_heading level0 col2\" >Davies-Bouldin</th>\n",
       "      <th id=\"T_7b9ab_level0_col3\" class=\"col_heading level0 col3\" >Homogeneity</th>\n",
       "      <th id=\"T_7b9ab_level0_col4\" class=\"col_heading level0 col4\" >Rand Index</th>\n",
       "      <th id=\"T_7b9ab_level0_col5\" class=\"col_heading level0 col5\" >Completeness</th>\n",
       "    </tr>\n",
       "  </thead>\n",
       "  <tbody>\n",
       "    <tr>\n",
       "      <th id=\"T_7b9ab_level0_row0\" class=\"row_heading level0 row0\" >0</th>\n",
       "      <td id=\"T_7b9ab_row0_col0\" class=\"data row0 col0\" >0.9531</td>\n",
       "      <td id=\"T_7b9ab_row0_col1\" class=\"data row0 col1\" >135290.7822</td>\n",
       "      <td id=\"T_7b9ab_row0_col2\" class=\"data row0 col2\" >0.6129</td>\n",
       "      <td id=\"T_7b9ab_row0_col3\" class=\"data row0 col3\" >0</td>\n",
       "      <td id=\"T_7b9ab_row0_col4\" class=\"data row0 col4\" >0</td>\n",
       "      <td id=\"T_7b9ab_row0_col5\" class=\"data row0 col5\" >0</td>\n",
       "    </tr>\n",
       "  </tbody>\n",
       "</table>\n"
      ],
      "text/plain": [
       "<pandas.io.formats.style.Styler at 0x2b08a9c1250>"
      ]
     },
     "metadata": {},
     "output_type": "display_data"
    },
    {
     "data": {
      "text/html": [],
      "text/plain": [
       "<IPython.core.display.HTML object>"
      ]
     },
     "metadata": {},
     "output_type": "display_data"
    }
   ],
   "source": [
    "print(\"For Cluster = 3\")\n",
    "x = create_model('birch', num_clusters = 3)\n",
    "\n",
    "print(\"For Cluster = 4\")\n",
    "x = create_model('birch', num_clusters = 4)\n",
    "\n",
    "print(\"For Cluster = 5\")\n",
    "x = create_model('birch', num_clusters = 5)\n",
    "\n",
    "print(\"For Cluster = 6\")\n",
    "x = create_model('birch', num_clusters = 6)"
   ]
  },
  {
   "cell_type": "markdown",
   "id": "60999cd1",
   "metadata": {},
   "source": [
    "## Data Preprocessing"
   ]
  },
  {
   "cell_type": "markdown",
   "id": "ce446682",
   "metadata": {},
   "source": [
    "#### Normalization"
   ]
  },
  {
   "cell_type": "code",
   "execution_count": 22,
   "id": "9400acd8",
   "metadata": {},
   "outputs": [
    {
     "data": {
      "text/html": [],
      "text/plain": [
       "<IPython.core.display.HTML object>"
      ]
     },
     "metadata": {},
     "output_type": "display_data"
    },
    {
     "data": {
      "text/html": [
       "<style type=\"text/css\">\n",
       "</style>\n",
       "<table id=\"T_026b2\">\n",
       "  <thead>\n",
       "    <tr>\n",
       "      <th class=\"blank level0\" >&nbsp;</th>\n",
       "      <th id=\"T_026b2_level0_col0\" class=\"col_heading level0 col0\" >Silhouette</th>\n",
       "      <th id=\"T_026b2_level0_col1\" class=\"col_heading level0 col1\" >Calinski-Harabasz</th>\n",
       "      <th id=\"T_026b2_level0_col2\" class=\"col_heading level0 col2\" >Davies-Bouldin</th>\n",
       "      <th id=\"T_026b2_level0_col3\" class=\"col_heading level0 col3\" >Homogeneity</th>\n",
       "      <th id=\"T_026b2_level0_col4\" class=\"col_heading level0 col4\" >Rand Index</th>\n",
       "      <th id=\"T_026b2_level0_col5\" class=\"col_heading level0 col5\" >Completeness</th>\n",
       "    </tr>\n",
       "  </thead>\n",
       "  <tbody>\n",
       "    <tr>\n",
       "      <th id=\"T_026b2_level0_row0\" class=\"row_heading level0 row0\" >0</th>\n",
       "      <td id=\"T_026b2_row0_col0\" class=\"data row0 col0\" >-0.2408</td>\n",
       "      <td id=\"T_026b2_row0_col1\" class=\"data row0 col1\" >9.6718</td>\n",
       "      <td id=\"T_026b2_row0_col2\" class=\"data row0 col2\" >1.4228</td>\n",
       "      <td id=\"T_026b2_row0_col3\" class=\"data row0 col3\" >0</td>\n",
       "      <td id=\"T_026b2_row0_col4\" class=\"data row0 col4\" >0</td>\n",
       "      <td id=\"T_026b2_row0_col5\" class=\"data row0 col5\" >0</td>\n",
       "    </tr>\n",
       "  </tbody>\n",
       "</table>\n"
      ],
      "text/plain": [
       "<pandas.io.formats.style.Styler at 0x2b08a9eda50>"
      ]
     },
     "metadata": {},
     "output_type": "display_data"
    },
    {
     "data": {
      "text/html": [],
      "text/plain": [
       "<IPython.core.display.HTML object>"
      ]
     },
     "metadata": {},
     "output_type": "display_data"
    },
    {
     "data": {
      "text/html": [],
      "text/plain": [
       "<IPython.core.display.HTML object>"
      ]
     },
     "metadata": {},
     "output_type": "display_data"
    },
    {
     "data": {
      "image/png": "[encoded data removed]",
      "text/plain": [
       "<Figure size 800x550 with 1 Axes>"
      ]
     },
     "metadata": {},
     "output_type": "display_data"
    }
   ],
   "source": [
    "setup(data = data, normalize = True, normalize_method = 'zscore', verbose=False)\n",
    "x = create_model('kmeans')\n",
    "plot_model(x, plot = 'elbow')"
   ]
  },
  {
   "cell_type": "code",
   "execution_count": 23,
   "id": "adbfc5aa",
   "metadata": {},
   "outputs": [
    {
     "name": "stdout",
     "output_type": "stream",
     "text": [
      "For Cluster = 3\n"
     ]
    },
    {
     "data": {
      "text/html": [],
      "text/plain": [
       "<IPython.core.display.HTML object>"
      ]
     },
     "metadata": {},
     "output_type": "display_data"
    },
    {
     "data": {
      "text/html": [
       "<style type=\"text/css\">\n",
       "</style>\n",
       "<table id=\"T_1f19f\">\n",
       "  <thead>\n",
       "    <tr>\n",
       "      <th class=\"blank level0\" >&nbsp;</th>\n",
       "      <th id=\"T_1f19f_level0_col0\" class=\"col_heading level0 col0\" >Silhouette</th>\n",
       "      <th id=\"T_1f19f_level0_col1\" class=\"col_heading level0 col1\" >Calinski-Harabasz</th>\n",
       "      <th id=\"T_1f19f_level0_col2\" class=\"col_heading level0 col2\" >Davies-Bouldin</th>\n",
       "      <th id=\"T_1f19f_level0_col3\" class=\"col_heading level0 col3\" >Homogeneity</th>\n",
       "      <th id=\"T_1f19f_level0_col4\" class=\"col_heading level0 col4\" >Rand Index</th>\n",
       "      <th id=\"T_1f19f_level0_col5\" class=\"col_heading level0 col5\" >Completeness</th>\n",
       "    </tr>\n",
       "  </thead>\n",
       "  <tbody>\n",
       "    <tr>\n",
       "      <th id=\"T_1f19f_level0_row0\" class=\"row_heading level0 row0\" >0</th>\n",
       "      <td id=\"T_1f19f_row0_col0\" class=\"data row0 col0\" >-0.1170</td>\n",
       "      <td id=\"T_1f19f_row0_col1\" class=\"data row0 col1\" >2.1284</td>\n",
       "      <td id=\"T_1f19f_row0_col2\" class=\"data row0 col2\" >1.1555</td>\n",
       "      <td id=\"T_1f19f_row0_col3\" class=\"data row0 col3\" >0</td>\n",
       "      <td id=\"T_1f19f_row0_col4\" class=\"data row0 col4\" >0</td>\n",
       "      <td id=\"T_1f19f_row0_col5\" class=\"data row0 col5\" >0</td>\n",
       "    </tr>\n",
       "  </tbody>\n",
       "</table>\n"
      ],
      "text/plain": [
       "<pandas.io.formats.style.Styler at 0x2b08a669ad0>"
      ]
     },
     "metadata": {},
     "output_type": "display_data"
    },
    {
     "data": {
      "text/html": [],
      "text/plain": [
       "<IPython.core.display.HTML object>"
      ]
     },
     "metadata": {},
     "output_type": "display_data"
    },
    {
     "name": "stdout",
     "output_type": "stream",
     "text": [
      "For Cluster = 4\n"
     ]
    },
    {
     "data": {
      "text/html": [],
      "text/plain": [
       "<IPython.core.display.HTML object>"
      ]
     },
     "metadata": {},
     "output_type": "display_data"
    },
    {
     "data": {
      "text/html": [
       "<style type=\"text/css\">\n",
       "</style>\n",
       "<table id=\"T_d8567\">\n",
       "  <thead>\n",
       "    <tr>\n",
       "      <th class=\"blank level0\" >&nbsp;</th>\n",
       "      <th id=\"T_d8567_level0_col0\" class=\"col_heading level0 col0\" >Silhouette</th>\n",
       "      <th id=\"T_d8567_level0_col1\" class=\"col_heading level0 col1\" >Calinski-Harabasz</th>\n",
       "      <th id=\"T_d8567_level0_col2\" class=\"col_heading level0 col2\" >Davies-Bouldin</th>\n",
       "      <th id=\"T_d8567_level0_col3\" class=\"col_heading level0 col3\" >Homogeneity</th>\n",
       "      <th id=\"T_d8567_level0_col4\" class=\"col_heading level0 col4\" >Rand Index</th>\n",
       "      <th id=\"T_d8567_level0_col5\" class=\"col_heading level0 col5\" >Completeness</th>\n",
       "    </tr>\n",
       "  </thead>\n",
       "  <tbody>\n",
       "    <tr>\n",
       "      <th id=\"T_d8567_level0_row0\" class=\"row_heading level0 row0\" >0</th>\n",
       "      <td id=\"T_d8567_row0_col0\" class=\"data row0 col0\" >-0.2408</td>\n",
       "      <td id=\"T_d8567_row0_col1\" class=\"data row0 col1\" >9.6718</td>\n",
       "      <td id=\"T_d8567_row0_col2\" class=\"data row0 col2\" >1.4228</td>\n",
       "      <td id=\"T_d8567_row0_col3\" class=\"data row0 col3\" >0</td>\n",
       "      <td id=\"T_d8567_row0_col4\" class=\"data row0 col4\" >0</td>\n",
       "      <td id=\"T_d8567_row0_col5\" class=\"data row0 col5\" >0</td>\n",
       "    </tr>\n",
       "  </tbody>\n",
       "</table>\n"
      ],
      "text/plain": [
       "<pandas.io.formats.style.Styler at 0x2b08a660e10>"
      ]
     },
     "metadata": {},
     "output_type": "display_data"
    },
    {
     "data": {
      "text/html": [],
      "text/plain": [
       "<IPython.core.display.HTML object>"
      ]
     },
     "metadata": {},
     "output_type": "display_data"
    },
    {
     "name": "stdout",
     "output_type": "stream",
     "text": [
      "For Cluster = 5\n"
     ]
    },
    {
     "data": {
      "text/html": [],
      "text/plain": [
       "<IPython.core.display.HTML object>"
      ]
     },
     "metadata": {},
     "output_type": "display_data"
    },
    {
     "data": {
      "text/html": [
       "<style type=\"text/css\">\n",
       "</style>\n",
       "<table id=\"T_0969e\">\n",
       "  <thead>\n",
       "    <tr>\n",
       "      <th class=\"blank level0\" >&nbsp;</th>\n",
       "      <th id=\"T_0969e_level0_col0\" class=\"col_heading level0 col0\" >Silhouette</th>\n",
       "      <th id=\"T_0969e_level0_col1\" class=\"col_heading level0 col1\" >Calinski-Harabasz</th>\n",
       "      <th id=\"T_0969e_level0_col2\" class=\"col_heading level0 col2\" >Davies-Bouldin</th>\n",
       "      <th id=\"T_0969e_level0_col3\" class=\"col_heading level0 col3\" >Homogeneity</th>\n",
       "      <th id=\"T_0969e_level0_col4\" class=\"col_heading level0 col4\" >Rand Index</th>\n",
       "      <th id=\"T_0969e_level0_col5\" class=\"col_heading level0 col5\" >Completeness</th>\n",
       "    </tr>\n",
       "  </thead>\n",
       "  <tbody>\n",
       "    <tr>\n",
       "      <th id=\"T_0969e_level0_row0\" class=\"row_heading level0 row0\" >0</th>\n",
       "      <td id=\"T_0969e_row0_col0\" class=\"data row0 col0\" >-0.0103</td>\n",
       "      <td id=\"T_0969e_row0_col1\" class=\"data row0 col1\" >4.3703</td>\n",
       "      <td id=\"T_0969e_row0_col2\" class=\"data row0 col2\" >11.0926</td>\n",
       "      <td id=\"T_0969e_row0_col3\" class=\"data row0 col3\" >0</td>\n",
       "      <td id=\"T_0969e_row0_col4\" class=\"data row0 col4\" >0</td>\n",
       "      <td id=\"T_0969e_row0_col5\" class=\"data row0 col5\" >0</td>\n",
       "    </tr>\n",
       "  </tbody>\n",
       "</table>\n"
      ],
      "text/plain": [
       "<pandas.io.formats.style.Styler at 0x2b08a718ed0>"
      ]
     },
     "metadata": {},
     "output_type": "display_data"
    },
    {
     "data": {
      "text/html": [],
      "text/plain": [
       "<IPython.core.display.HTML object>"
      ]
     },
     "metadata": {},
     "output_type": "display_data"
    },
    {
     "name": "stdout",
     "output_type": "stream",
     "text": [
      "For Cluster = 6\n"
     ]
    },
    {
     "data": {
      "text/html": [],
      "text/plain": [
       "<IPython.core.display.HTML object>"
      ]
     },
     "metadata": {},
     "output_type": "display_data"
    },
    {
     "data": {
      "text/html": [
       "<style type=\"text/css\">\n",
       "</style>\n",
       "<table id=\"T_ddb64\">\n",
       "  <thead>\n",
       "    <tr>\n",
       "      <th class=\"blank level0\" >&nbsp;</th>\n",
       "      <th id=\"T_ddb64_level0_col0\" class=\"col_heading level0 col0\" >Silhouette</th>\n",
       "      <th id=\"T_ddb64_level0_col1\" class=\"col_heading level0 col1\" >Calinski-Harabasz</th>\n",
       "      <th id=\"T_ddb64_level0_col2\" class=\"col_heading level0 col2\" >Davies-Bouldin</th>\n",
       "      <th id=\"T_ddb64_level0_col3\" class=\"col_heading level0 col3\" >Homogeneity</th>\n",
       "      <th id=\"T_ddb64_level0_col4\" class=\"col_heading level0 col4\" >Rand Index</th>\n",
       "      <th id=\"T_ddb64_level0_col5\" class=\"col_heading level0 col5\" >Completeness</th>\n",
       "    </tr>\n",
       "  </thead>\n",
       "  <tbody>\n",
       "    <tr>\n",
       "      <th id=\"T_ddb64_level0_row0\" class=\"row_heading level0 row0\" >0</th>\n",
       "      <td id=\"T_ddb64_row0_col0\" class=\"data row0 col0\" >-0.1843</td>\n",
       "      <td id=\"T_ddb64_row0_col1\" class=\"data row0 col1\" >6.4862</td>\n",
       "      <td id=\"T_ddb64_row0_col2\" class=\"data row0 col2\" >2.3624</td>\n",
       "      <td id=\"T_ddb64_row0_col3\" class=\"data row0 col3\" >0</td>\n",
       "      <td id=\"T_ddb64_row0_col4\" class=\"data row0 col4\" >0</td>\n",
       "      <td id=\"T_ddb64_row0_col5\" class=\"data row0 col5\" >0</td>\n",
       "    </tr>\n",
       "  </tbody>\n",
       "</table>\n"
      ],
      "text/plain": [
       "<pandas.io.formats.style.Styler at 0x2b08a717a50>"
      ]
     },
     "metadata": {},
     "output_type": "display_data"
    },
    {
     "data": {
      "text/html": [],
      "text/plain": [
       "<IPython.core.display.HTML object>"
      ]
     },
     "metadata": {},
     "output_type": "display_data"
    }
   ],
   "source": [
    "print(\"For Cluster = 3\")\n",
    "x = create_model('kmeans', num_clusters = 3)\n",
    "\n",
    "print(\"For Cluster = 4\")\n",
    "x = create_model('kmeans', num_clusters = 4)\n",
    "\n",
    "print(\"For Cluster = 5\")\n",
    "x = create_model('kmeans', num_clusters = 5)\n",
    "\n",
    "print(\"For Cluster = 6\")\n",
    "x = create_model('kmeans', num_clusters = 6)"
   ]
  },
  {
   "cell_type": "code",
   "execution_count": null,
   "id": "f4646085",
   "metadata": {},
   "outputs": [],
   "source": []
  },
  {
   "cell_type": "code",
   "execution_count": 24,
   "id": "209cd942",
   "metadata": {},
   "outputs": [
    {
     "name": "stdout",
     "output_type": "stream",
     "text": [
      "For Cluster = 3\n"
     ]
    },
    {
     "data": {
      "text/html": [],
      "text/plain": [
       "<IPython.core.display.HTML object>"
      ]
     },
     "metadata": {},
     "output_type": "display_data"
    },
    {
     "data": {
      "text/html": [
       "<style type=\"text/css\">\n",
       "</style>\n",
       "<table id=\"T_6bdfe\">\n",
       "  <thead>\n",
       "    <tr>\n",
       "      <th class=\"blank level0\" >&nbsp;</th>\n",
       "      <th id=\"T_6bdfe_level0_col0\" class=\"col_heading level0 col0\" >Silhouette</th>\n",
       "      <th id=\"T_6bdfe_level0_col1\" class=\"col_heading level0 col1\" >Calinski-Harabasz</th>\n",
       "      <th id=\"T_6bdfe_level0_col2\" class=\"col_heading level0 col2\" >Davies-Bouldin</th>\n",
       "      <th id=\"T_6bdfe_level0_col3\" class=\"col_heading level0 col3\" >Homogeneity</th>\n",
       "      <th id=\"T_6bdfe_level0_col4\" class=\"col_heading level0 col4\" >Rand Index</th>\n",
       "      <th id=\"T_6bdfe_level0_col5\" class=\"col_heading level0 col5\" >Completeness</th>\n",
       "    </tr>\n",
       "  </thead>\n",
       "  <tbody>\n",
       "    <tr>\n",
       "      <th id=\"T_6bdfe_level0_row0\" class=\"row_heading level0 row0\" >0</th>\n",
       "      <td id=\"T_6bdfe_row0_col0\" class=\"data row0 col0\" >0.2869</td>\n",
       "      <td id=\"T_6bdfe_row0_col1\" class=\"data row0 col1\" >16.1799</td>\n",
       "      <td id=\"T_6bdfe_row0_col2\" class=\"data row0 col2\" >1.4695</td>\n",
       "      <td id=\"T_6bdfe_row0_col3\" class=\"data row0 col3\" >0</td>\n",
       "      <td id=\"T_6bdfe_row0_col4\" class=\"data row0 col4\" >0</td>\n",
       "      <td id=\"T_6bdfe_row0_col5\" class=\"data row0 col5\" >0</td>\n",
       "    </tr>\n",
       "  </tbody>\n",
       "</table>\n"
      ],
      "text/plain": [
       "<pandas.io.formats.style.Styler at 0x2b08ab146d0>"
      ]
     },
     "metadata": {},
     "output_type": "display_data"
    },
    {
     "data": {
      "text/html": [],
      "text/plain": [
       "<IPython.core.display.HTML object>"
      ]
     },
     "metadata": {},
     "output_type": "display_data"
    },
    {
     "name": "stdout",
     "output_type": "stream",
     "text": [
      "For Cluster = 4\n"
     ]
    },
    {
     "data": {
      "text/html": [],
      "text/plain": [
       "<IPython.core.display.HTML object>"
      ]
     },
     "metadata": {},
     "output_type": "display_data"
    },
    {
     "data": {
      "text/html": [
       "<style type=\"text/css\">\n",
       "</style>\n",
       "<table id=\"T_71327\">\n",
       "  <thead>\n",
       "    <tr>\n",
       "      <th class=\"blank level0\" >&nbsp;</th>\n",
       "      <th id=\"T_71327_level0_col0\" class=\"col_heading level0 col0\" >Silhouette</th>\n",
       "      <th id=\"T_71327_level0_col1\" class=\"col_heading level0 col1\" >Calinski-Harabasz</th>\n",
       "      <th id=\"T_71327_level0_col2\" class=\"col_heading level0 col2\" >Davies-Bouldin</th>\n",
       "      <th id=\"T_71327_level0_col3\" class=\"col_heading level0 col3\" >Homogeneity</th>\n",
       "      <th id=\"T_71327_level0_col4\" class=\"col_heading level0 col4\" >Rand Index</th>\n",
       "      <th id=\"T_71327_level0_col5\" class=\"col_heading level0 col5\" >Completeness</th>\n",
       "    </tr>\n",
       "  </thead>\n",
       "  <tbody>\n",
       "    <tr>\n",
       "      <th id=\"T_71327_level0_row0\" class=\"row_heading level0 row0\" >0</th>\n",
       "      <td id=\"T_71327_row0_col0\" class=\"data row0 col0\" >0.1096</td>\n",
       "      <td id=\"T_71327_row0_col1\" class=\"data row0 col1\" >12.5720</td>\n",
       "      <td id=\"T_71327_row0_col2\" class=\"data row0 col2\" >11.0097</td>\n",
       "      <td id=\"T_71327_row0_col3\" class=\"data row0 col3\" >0</td>\n",
       "      <td id=\"T_71327_row0_col4\" class=\"data row0 col4\" >0</td>\n",
       "      <td id=\"T_71327_row0_col5\" class=\"data row0 col5\" >0</td>\n",
       "    </tr>\n",
       "  </tbody>\n",
       "</table>\n"
      ],
      "text/plain": [
       "<pandas.io.formats.style.Styler at 0x2b08a8a3510>"
      ]
     },
     "metadata": {},
     "output_type": "display_data"
    },
    {
     "data": {
      "text/html": [],
      "text/plain": [
       "<IPython.core.display.HTML object>"
      ]
     },
     "metadata": {},
     "output_type": "display_data"
    },
    {
     "name": "stdout",
     "output_type": "stream",
     "text": [
      "For Cluster = 5\n"
     ]
    },
    {
     "data": {
      "text/html": [],
      "text/plain": [
       "<IPython.core.display.HTML object>"
      ]
     },
     "metadata": {},
     "output_type": "display_data"
    },
    {
     "data": {
      "text/html": [
       "<style type=\"text/css\">\n",
       "</style>\n",
       "<table id=\"T_5653c\">\n",
       "  <thead>\n",
       "    <tr>\n",
       "      <th class=\"blank level0\" >&nbsp;</th>\n",
       "      <th id=\"T_5653c_level0_col0\" class=\"col_heading level0 col0\" >Silhouette</th>\n",
       "      <th id=\"T_5653c_level0_col1\" class=\"col_heading level0 col1\" >Calinski-Harabasz</th>\n",
       "      <th id=\"T_5653c_level0_col2\" class=\"col_heading level0 col2\" >Davies-Bouldin</th>\n",
       "      <th id=\"T_5653c_level0_col3\" class=\"col_heading level0 col3\" >Homogeneity</th>\n",
       "      <th id=\"T_5653c_level0_col4\" class=\"col_heading level0 col4\" >Rand Index</th>\n",
       "      <th id=\"T_5653c_level0_col5\" class=\"col_heading level0 col5\" >Completeness</th>\n",
       "    </tr>\n",
       "  </thead>\n",
       "  <tbody>\n",
       "    <tr>\n",
       "      <th id=\"T_5653c_level0_row0\" class=\"row_heading level0 row0\" >0</th>\n",
       "      <td id=\"T_5653c_row0_col0\" class=\"data row0 col0\" >0.1085</td>\n",
       "      <td id=\"T_5653c_row0_col1\" class=\"data row0 col1\" >10.4919</td>\n",
       "      <td id=\"T_5653c_row0_col2\" class=\"data row0 col2\" >10.4258</td>\n",
       "      <td id=\"T_5653c_row0_col3\" class=\"data row0 col3\" >0</td>\n",
       "      <td id=\"T_5653c_row0_col4\" class=\"data row0 col4\" >0</td>\n",
       "      <td id=\"T_5653c_row0_col5\" class=\"data row0 col5\" >0</td>\n",
       "    </tr>\n",
       "  </tbody>\n",
       "</table>\n"
      ],
      "text/plain": [
       "<pandas.io.formats.style.Styler at 0x2b08a8b1bd0>"
      ]
     },
     "metadata": {},
     "output_type": "display_data"
    },
    {
     "data": {
      "text/html": [],
      "text/plain": [
       "<IPython.core.display.HTML object>"
      ]
     },
     "metadata": {},
     "output_type": "display_data"
    },
    {
     "name": "stdout",
     "output_type": "stream",
     "text": [
      "For Cluster = 6\n"
     ]
    },
    {
     "data": {
      "text/html": [],
      "text/plain": [
       "<IPython.core.display.HTML object>"
      ]
     },
     "metadata": {},
     "output_type": "display_data"
    },
    {
     "data": {
      "text/html": [
       "<style type=\"text/css\">\n",
       "</style>\n",
       "<table id=\"T_81c93\">\n",
       "  <thead>\n",
       "    <tr>\n",
       "      <th class=\"blank level0\" >&nbsp;</th>\n",
       "      <th id=\"T_81c93_level0_col0\" class=\"col_heading level0 col0\" >Silhouette</th>\n",
       "      <th id=\"T_81c93_level0_col1\" class=\"col_heading level0 col1\" >Calinski-Harabasz</th>\n",
       "      <th id=\"T_81c93_level0_col2\" class=\"col_heading level0 col2\" >Davies-Bouldin</th>\n",
       "      <th id=\"T_81c93_level0_col3\" class=\"col_heading level0 col3\" >Homogeneity</th>\n",
       "      <th id=\"T_81c93_level0_col4\" class=\"col_heading level0 col4\" >Rand Index</th>\n",
       "      <th id=\"T_81c93_level0_col5\" class=\"col_heading level0 col5\" >Completeness</th>\n",
       "    </tr>\n",
       "  </thead>\n",
       "  <tbody>\n",
       "    <tr>\n",
       "      <th id=\"T_81c93_level0_row0\" class=\"row_heading level0 row0\" >0</th>\n",
       "      <td id=\"T_81c93_row0_col0\" class=\"data row0 col0\" >0.1025</td>\n",
       "      <td id=\"T_81c93_row0_col1\" class=\"data row0 col1\" >9.2033</td>\n",
       "      <td id=\"T_81c93_row0_col2\" class=\"data row0 col2\" >9.9554</td>\n",
       "      <td id=\"T_81c93_row0_col3\" class=\"data row0 col3\" >0</td>\n",
       "      <td id=\"T_81c93_row0_col4\" class=\"data row0 col4\" >0</td>\n",
       "      <td id=\"T_81c93_row0_col5\" class=\"data row0 col5\" >0</td>\n",
       "    </tr>\n",
       "  </tbody>\n",
       "</table>\n"
      ],
      "text/plain": [
       "<pandas.io.formats.style.Styler at 0x2b08a6efa50>"
      ]
     },
     "metadata": {},
     "output_type": "display_data"
    },
    {
     "data": {
      "text/html": [],
      "text/plain": [
       "<IPython.core.display.HTML object>"
      ]
     },
     "metadata": {},
     "output_type": "display_data"
    }
   ],
   "source": [
    "print(\"For Cluster = 3\")\n",
    "x = create_model('birch', num_clusters = 3)\n",
    "\n",
    "print(\"For Cluster = 4\")\n",
    "x = create_model('birch', num_clusters = 4)\n",
    "\n",
    "print(\"For Cluster = 5\")\n",
    "x = create_model('birch', num_clusters = 5)\n",
    "\n",
    "print(\"For Cluster = 6\")\n",
    "x = create_model('birch', num_clusters = 6)"
   ]
  },
  {
   "cell_type": "code",
   "execution_count": 25,
   "id": "cedb12c9",
   "metadata": {
    "scrolled": false
   },
   "outputs": [
    {
     "name": "stdout",
     "output_type": "stream",
     "text": [
      "For Cluster = 3\n"
     ]
    },
    {
     "data": {
      "text/html": [],
      "text/plain": [
       "<IPython.core.display.HTML object>"
      ]
     },
     "metadata": {},
     "output_type": "display_data"
    },
    {
     "data": {
      "text/html": [
       "<style type=\"text/css\">\n",
       "</style>\n",
       "<table id=\"T_11122\">\n",
       "  <thead>\n",
       "    <tr>\n",
       "      <th class=\"blank level0\" >&nbsp;</th>\n",
       "      <th id=\"T_11122_level0_col0\" class=\"col_heading level0 col0\" >Silhouette</th>\n",
       "      <th id=\"T_11122_level0_col1\" class=\"col_heading level0 col1\" >Calinski-Harabasz</th>\n",
       "      <th id=\"T_11122_level0_col2\" class=\"col_heading level0 col2\" >Davies-Bouldin</th>\n",
       "      <th id=\"T_11122_level0_col3\" class=\"col_heading level0 col3\" >Homogeneity</th>\n",
       "      <th id=\"T_11122_level0_col4\" class=\"col_heading level0 col4\" >Rand Index</th>\n",
       "      <th id=\"T_11122_level0_col5\" class=\"col_heading level0 col5\" >Completeness</th>\n",
       "    </tr>\n",
       "  </thead>\n",
       "  <tbody>\n",
       "    <tr>\n",
       "      <th id=\"T_11122_level0_row0\" class=\"row_heading level0 row0\" >0</th>\n",
       "      <td id=\"T_11122_row0_col0\" class=\"data row0 col0\" >0.2869</td>\n",
       "      <td id=\"T_11122_row0_col1\" class=\"data row0 col1\" >16.1799</td>\n",
       "      <td id=\"T_11122_row0_col2\" class=\"data row0 col2\" >1.4695</td>\n",
       "      <td id=\"T_11122_row0_col3\" class=\"data row0 col3\" >0</td>\n",
       "      <td id=\"T_11122_row0_col4\" class=\"data row0 col4\" >0</td>\n",
       "      <td id=\"T_11122_row0_col5\" class=\"data row0 col5\" >0</td>\n",
       "    </tr>\n",
       "  </tbody>\n",
       "</table>\n"
      ],
      "text/plain": [
       "<pandas.io.formats.style.Styler at 0x2b08a6ca650>"
      ]
     },
     "metadata": {},
     "output_type": "display_data"
    },
    {
     "data": {
      "text/html": [],
      "text/plain": [
       "<IPython.core.display.HTML object>"
      ]
     },
     "metadata": {},
     "output_type": "display_data"
    },
    {
     "name": "stdout",
     "output_type": "stream",
     "text": [
      "For Cluster = 4\n"
     ]
    },
    {
     "data": {
      "text/html": [],
      "text/plain": [
       "<IPython.core.display.HTML object>"
      ]
     },
     "metadata": {},
     "output_type": "display_data"
    },
    {
     "data": {
      "text/html": [
       "<style type=\"text/css\">\n",
       "</style>\n",
       "<table id=\"T_4f6d9\">\n",
       "  <thead>\n",
       "    <tr>\n",
       "      <th class=\"blank level0\" >&nbsp;</th>\n",
       "      <th id=\"T_4f6d9_level0_col0\" class=\"col_heading level0 col0\" >Silhouette</th>\n",
       "      <th id=\"T_4f6d9_level0_col1\" class=\"col_heading level0 col1\" >Calinski-Harabasz</th>\n",
       "      <th id=\"T_4f6d9_level0_col2\" class=\"col_heading level0 col2\" >Davies-Bouldin</th>\n",
       "      <th id=\"T_4f6d9_level0_col3\" class=\"col_heading level0 col3\" >Homogeneity</th>\n",
       "      <th id=\"T_4f6d9_level0_col4\" class=\"col_heading level0 col4\" >Rand Index</th>\n",
       "      <th id=\"T_4f6d9_level0_col5\" class=\"col_heading level0 col5\" >Completeness</th>\n",
       "    </tr>\n",
       "  </thead>\n",
       "  <tbody>\n",
       "    <tr>\n",
       "      <th id=\"T_4f6d9_level0_row0\" class=\"row_heading level0 row0\" >0</th>\n",
       "      <td id=\"T_4f6d9_row0_col0\" class=\"data row0 col0\" >0.1096</td>\n",
       "      <td id=\"T_4f6d9_row0_col1\" class=\"data row0 col1\" >12.5720</td>\n",
       "      <td id=\"T_4f6d9_row0_col2\" class=\"data row0 col2\" >11.0097</td>\n",
       "      <td id=\"T_4f6d9_row0_col3\" class=\"data row0 col3\" >0</td>\n",
       "      <td id=\"T_4f6d9_row0_col4\" class=\"data row0 col4\" >0</td>\n",
       "      <td id=\"T_4f6d9_row0_col5\" class=\"data row0 col5\" >0</td>\n",
       "    </tr>\n",
       "  </tbody>\n",
       "</table>\n"
      ],
      "text/plain": [
       "<pandas.io.formats.style.Styler at 0x2b08338b6d0>"
      ]
     },
     "metadata": {},
     "output_type": "display_data"
    },
    {
     "data": {
      "text/html": [],
      "text/plain": [
       "<IPython.core.display.HTML object>"
      ]
     },
     "metadata": {},
     "output_type": "display_data"
    },
    {
     "name": "stdout",
     "output_type": "stream",
     "text": [
      "For Cluster = 5\n"
     ]
    },
    {
     "data": {
      "text/html": [],
      "text/plain": [
       "<IPython.core.display.HTML object>"
      ]
     },
     "metadata": {},
     "output_type": "display_data"
    },
    {
     "data": {
      "text/html": [
       "<style type=\"text/css\">\n",
       "</style>\n",
       "<table id=\"T_1e258\">\n",
       "  <thead>\n",
       "    <tr>\n",
       "      <th class=\"blank level0\" >&nbsp;</th>\n",
       "      <th id=\"T_1e258_level0_col0\" class=\"col_heading level0 col0\" >Silhouette</th>\n",
       "      <th id=\"T_1e258_level0_col1\" class=\"col_heading level0 col1\" >Calinski-Harabasz</th>\n",
       "      <th id=\"T_1e258_level0_col2\" class=\"col_heading level0 col2\" >Davies-Bouldin</th>\n",
       "      <th id=\"T_1e258_level0_col3\" class=\"col_heading level0 col3\" >Homogeneity</th>\n",
       "      <th id=\"T_1e258_level0_col4\" class=\"col_heading level0 col4\" >Rand Index</th>\n",
       "      <th id=\"T_1e258_level0_col5\" class=\"col_heading level0 col5\" >Completeness</th>\n",
       "    </tr>\n",
       "  </thead>\n",
       "  <tbody>\n",
       "    <tr>\n",
       "      <th id=\"T_1e258_level0_row0\" class=\"row_heading level0 row0\" >0</th>\n",
       "      <td id=\"T_1e258_row0_col0\" class=\"data row0 col0\" >0.1085</td>\n",
       "      <td id=\"T_1e258_row0_col1\" class=\"data row0 col1\" >10.4919</td>\n",
       "      <td id=\"T_1e258_row0_col2\" class=\"data row0 col2\" >10.4258</td>\n",
       "      <td id=\"T_1e258_row0_col3\" class=\"data row0 col3\" >0</td>\n",
       "      <td id=\"T_1e258_row0_col4\" class=\"data row0 col4\" >0</td>\n",
       "      <td id=\"T_1e258_row0_col5\" class=\"data row0 col5\" >0</td>\n",
       "    </tr>\n",
       "  </tbody>\n",
       "</table>\n"
      ],
      "text/plain": [
       "<pandas.io.formats.style.Styler at 0x2b08a6e0d50>"
      ]
     },
     "metadata": {},
     "output_type": "display_data"
    },
    {
     "data": {
      "text/html": [],
      "text/plain": [
       "<IPython.core.display.HTML object>"
      ]
     },
     "metadata": {},
     "output_type": "display_data"
    },
    {
     "name": "stdout",
     "output_type": "stream",
     "text": [
      "For Cluster = 6\n"
     ]
    },
    {
     "data": {
      "text/html": [],
      "text/plain": [
       "<IPython.core.display.HTML object>"
      ]
     },
     "metadata": {},
     "output_type": "display_data"
    },
    {
     "data": {
      "text/html": [
       "<style type=\"text/css\">\n",
       "</style>\n",
       "<table id=\"T_47426\">\n",
       "  <thead>\n",
       "    <tr>\n",
       "      <th class=\"blank level0\" >&nbsp;</th>\n",
       "      <th id=\"T_47426_level0_col0\" class=\"col_heading level0 col0\" >Silhouette</th>\n",
       "      <th id=\"T_47426_level0_col1\" class=\"col_heading level0 col1\" >Calinski-Harabasz</th>\n",
       "      <th id=\"T_47426_level0_col2\" class=\"col_heading level0 col2\" >Davies-Bouldin</th>\n",
       "      <th id=\"T_47426_level0_col3\" class=\"col_heading level0 col3\" >Homogeneity</th>\n",
       "      <th id=\"T_47426_level0_col4\" class=\"col_heading level0 col4\" >Rand Index</th>\n",
       "      <th id=\"T_47426_level0_col5\" class=\"col_heading level0 col5\" >Completeness</th>\n",
       "    </tr>\n",
       "  </thead>\n",
       "  <tbody>\n",
       "    <tr>\n",
       "      <th id=\"T_47426_level0_row0\" class=\"row_heading level0 row0\" >0</th>\n",
       "      <td id=\"T_47426_row0_col0\" class=\"data row0 col0\" >0.1025</td>\n",
       "      <td id=\"T_47426_row0_col1\" class=\"data row0 col1\" >9.2033</td>\n",
       "      <td id=\"T_47426_row0_col2\" class=\"data row0 col2\" >9.9554</td>\n",
       "      <td id=\"T_47426_row0_col3\" class=\"data row0 col3\" >0</td>\n",
       "      <td id=\"T_47426_row0_col4\" class=\"data row0 col4\" >0</td>\n",
       "      <td id=\"T_47426_row0_col5\" class=\"data row0 col5\" >0</td>\n",
       "    </tr>\n",
       "  </tbody>\n",
       "</table>\n"
      ],
      "text/plain": [
       "<pandas.io.formats.style.Styler at 0x2b08a6efa50>"
      ]
     },
     "metadata": {},
     "output_type": "display_data"
    },
    {
     "data": {
      "text/html": [],
      "text/plain": [
       "<IPython.core.display.HTML object>"
      ]
     },
     "metadata": {},
     "output_type": "display_data"
    }
   ],
   "source": [
    "print(\"For Cluster = 3\")\n",
    "x = create_model('hclust', num_clusters = 3)\n",
    "\n",
    "print(\"For Cluster = 4\")\n",
    "x = create_model('hclust', num_clusters = 4)\n",
    "\n",
    "print(\"For Cluster = 5\")\n",
    "x = create_model('hclust', num_clusters = 5)\n",
    "\n",
    "print(\"For Cluster = 6\")\n",
    "x = create_model('hclust', num_clusters = 6)"
   ]
  },
  {
   "cell_type": "markdown",
   "id": "0eb5e50e",
   "metadata": {},
   "source": [
    "#### Transformation"
   ]
  },
  {
   "cell_type": "code",
   "execution_count": 26,
   "id": "2574a20f",
   "metadata": {},
   "outputs": [
    {
     "data": {
      "text/html": [],
      "text/plain": [
       "<IPython.core.display.HTML object>"
      ]
     },
     "metadata": {},
     "output_type": "display_data"
    },
    {
     "data": {
      "text/html": [
       "<style type=\"text/css\">\n",
       "</style>\n",
       "<table id=\"T_b2dfa\">\n",
       "  <thead>\n",
       "    <tr>\n",
       "      <th class=\"blank level0\" >&nbsp;</th>\n",
       "      <th id=\"T_b2dfa_level0_col0\" class=\"col_heading level0 col0\" >Silhouette</th>\n",
       "      <th id=\"T_b2dfa_level0_col1\" class=\"col_heading level0 col1\" >Calinski-Harabasz</th>\n",
       "      <th id=\"T_b2dfa_level0_col2\" class=\"col_heading level0 col2\" >Davies-Bouldin</th>\n",
       "      <th id=\"T_b2dfa_level0_col3\" class=\"col_heading level0 col3\" >Homogeneity</th>\n",
       "      <th id=\"T_b2dfa_level0_col4\" class=\"col_heading level0 col4\" >Rand Index</th>\n",
       "      <th id=\"T_b2dfa_level0_col5\" class=\"col_heading level0 col5\" >Completeness</th>\n",
       "    </tr>\n",
       "  </thead>\n",
       "  <tbody>\n",
       "    <tr>\n",
       "      <th id=\"T_b2dfa_level0_row0\" class=\"row_heading level0 row0\" >0</th>\n",
       "      <td id=\"T_b2dfa_row0_col0\" class=\"data row0 col0\" >0.5228</td>\n",
       "      <td id=\"T_b2dfa_row0_col1\" class=\"data row0 col1\" >5317.5932</td>\n",
       "      <td id=\"T_b2dfa_row0_col2\" class=\"data row0 col2\" >0.5639</td>\n",
       "      <td id=\"T_b2dfa_row0_col3\" class=\"data row0 col3\" >0</td>\n",
       "      <td id=\"T_b2dfa_row0_col4\" class=\"data row0 col4\" >0</td>\n",
       "      <td id=\"T_b2dfa_row0_col5\" class=\"data row0 col5\" >0</td>\n",
       "    </tr>\n",
       "  </tbody>\n",
       "</table>\n"
      ],
      "text/plain": [
       "<pandas.io.formats.style.Styler at 0x2b08a64b290>"
      ]
     },
     "metadata": {},
     "output_type": "display_data"
    },
    {
     "data": {
      "text/html": [],
      "text/plain": [
       "<IPython.core.display.HTML object>"
      ]
     },
     "metadata": {},
     "output_type": "display_data"
    },
    {
     "data": {
      "text/html": [],
      "text/plain": [
       "<IPython.core.display.HTML object>"
      ]
     },
     "metadata": {},
     "output_type": "display_data"
    },
    {
     "data": {
      "image/png": "[encoded data removed]",
      "text/plain": [
       "<Figure size 800x550 with 1 Axes>"
      ]
     },
     "metadata": {},
     "output_type": "display_data"
    }
   ],
   "source": [
    "setup(data = data, transformation = True, transformation_method = 'yeo-johnson', verbose=False)\n",
    "x = create_model('kmeans')\n",
    "plot_model(x, plot = 'elbow')"
   ]
  },
  {
   "cell_type": "code",
   "execution_count": 27,
   "id": "75e4a59e",
   "metadata": {},
   "outputs": [
    {
     "name": "stdout",
     "output_type": "stream",
     "text": [
      "For Cluster = 3\n"
     ]
    },
    {
     "data": {
      "text/html": [],
      "text/plain": [
       "<IPython.core.display.HTML object>"
      ]
     },
     "metadata": {},
     "output_type": "display_data"
    },
    {
     "data": {
      "text/html": [
       "<style type=\"text/css\">\n",
       "</style>\n",
       "<table id=\"T_30ffb\">\n",
       "  <thead>\n",
       "    <tr>\n",
       "      <th class=\"blank level0\" >&nbsp;</th>\n",
       "      <th id=\"T_30ffb_level0_col0\" class=\"col_heading level0 col0\" >Silhouette</th>\n",
       "      <th id=\"T_30ffb_level0_col1\" class=\"col_heading level0 col1\" >Calinski-Harabasz</th>\n",
       "      <th id=\"T_30ffb_level0_col2\" class=\"col_heading level0 col2\" >Davies-Bouldin</th>\n",
       "      <th id=\"T_30ffb_level0_col3\" class=\"col_heading level0 col3\" >Homogeneity</th>\n",
       "      <th id=\"T_30ffb_level0_col4\" class=\"col_heading level0 col4\" >Rand Index</th>\n",
       "      <th id=\"T_30ffb_level0_col5\" class=\"col_heading level0 col5\" >Completeness</th>\n",
       "    </tr>\n",
       "  </thead>\n",
       "  <tbody>\n",
       "    <tr>\n",
       "      <th id=\"T_30ffb_level0_row0\" class=\"row_heading level0 row0\" >0</th>\n",
       "      <td id=\"T_30ffb_row0_col0\" class=\"data row0 col0\" >0.5412</td>\n",
       "      <td id=\"T_30ffb_row0_col1\" class=\"data row0 col1\" >4559.6976</td>\n",
       "      <td id=\"T_30ffb_row0_col2\" class=\"data row0 col2\" >0.5918</td>\n",
       "      <td id=\"T_30ffb_row0_col3\" class=\"data row0 col3\" >0</td>\n",
       "      <td id=\"T_30ffb_row0_col4\" class=\"data row0 col4\" >0</td>\n",
       "      <td id=\"T_30ffb_row0_col5\" class=\"data row0 col5\" >0</td>\n",
       "    </tr>\n",
       "  </tbody>\n",
       "</table>\n"
      ],
      "text/plain": [
       "<pandas.io.formats.style.Styler at 0x2b08a917a50>"
      ]
     },
     "metadata": {},
     "output_type": "display_data"
    },
    {
     "data": {
      "text/html": [],
      "text/plain": [
       "<IPython.core.display.HTML object>"
      ]
     },
     "metadata": {},
     "output_type": "display_data"
    },
    {
     "name": "stdout",
     "output_type": "stream",
     "text": [
      "For Cluster = 4\n"
     ]
    },
    {
     "data": {
      "text/html": [],
      "text/plain": [
       "<IPython.core.display.HTML object>"
      ]
     },
     "metadata": {},
     "output_type": "display_data"
    },
    {
     "data": {
      "text/html": [
       "<style type=\"text/css\">\n",
       "</style>\n",
       "<table id=\"T_6a538\">\n",
       "  <thead>\n",
       "    <tr>\n",
       "      <th class=\"blank level0\" >&nbsp;</th>\n",
       "      <th id=\"T_6a538_level0_col0\" class=\"col_heading level0 col0\" >Silhouette</th>\n",
       "      <th id=\"T_6a538_level0_col1\" class=\"col_heading level0 col1\" >Calinski-Harabasz</th>\n",
       "      <th id=\"T_6a538_level0_col2\" class=\"col_heading level0 col2\" >Davies-Bouldin</th>\n",
       "      <th id=\"T_6a538_level0_col3\" class=\"col_heading level0 col3\" >Homogeneity</th>\n",
       "      <th id=\"T_6a538_level0_col4\" class=\"col_heading level0 col4\" >Rand Index</th>\n",
       "      <th id=\"T_6a538_level0_col5\" class=\"col_heading level0 col5\" >Completeness</th>\n",
       "    </tr>\n",
       "  </thead>\n",
       "  <tbody>\n",
       "    <tr>\n",
       "      <th id=\"T_6a538_level0_row0\" class=\"row_heading level0 row0\" >0</th>\n",
       "      <td id=\"T_6a538_row0_col0\" class=\"data row0 col0\" >0.5230</td>\n",
       "      <td id=\"T_6a538_row0_col1\" class=\"data row0 col1\" >5312.1798</td>\n",
       "      <td id=\"T_6a538_row0_col2\" class=\"data row0 col2\" >0.5617</td>\n",
       "      <td id=\"T_6a538_row0_col3\" class=\"data row0 col3\" >0</td>\n",
       "      <td id=\"T_6a538_row0_col4\" class=\"data row0 col4\" >0</td>\n",
       "      <td id=\"T_6a538_row0_col5\" class=\"data row0 col5\" >0</td>\n",
       "    </tr>\n",
       "  </tbody>\n",
       "</table>\n"
      ],
      "text/plain": [
       "<pandas.io.formats.style.Styler at 0x2b0ca133dd0>"
      ]
     },
     "metadata": {},
     "output_type": "display_data"
    },
    {
     "data": {
      "text/html": [],
      "text/plain": [
       "<IPython.core.display.HTML object>"
      ]
     },
     "metadata": {},
     "output_type": "display_data"
    },
    {
     "name": "stdout",
     "output_type": "stream",
     "text": [
      "For Cluster = 5\n"
     ]
    },
    {
     "data": {
      "text/html": [],
      "text/plain": [
       "<IPython.core.display.HTML object>"
      ]
     },
     "metadata": {},
     "output_type": "display_data"
    },
    {
     "data": {
      "text/html": [
       "<style type=\"text/css\">\n",
       "</style>\n",
       "<table id=\"T_36104\">\n",
       "  <thead>\n",
       "    <tr>\n",
       "      <th class=\"blank level0\" >&nbsp;</th>\n",
       "      <th id=\"T_36104_level0_col0\" class=\"col_heading level0 col0\" >Silhouette</th>\n",
       "      <th id=\"T_36104_level0_col1\" class=\"col_heading level0 col1\" >Calinski-Harabasz</th>\n",
       "      <th id=\"T_36104_level0_col2\" class=\"col_heading level0 col2\" >Davies-Bouldin</th>\n",
       "      <th id=\"T_36104_level0_col3\" class=\"col_heading level0 col3\" >Homogeneity</th>\n",
       "      <th id=\"T_36104_level0_col4\" class=\"col_heading level0 col4\" >Rand Index</th>\n",
       "      <th id=\"T_36104_level0_col5\" class=\"col_heading level0 col5\" >Completeness</th>\n",
       "    </tr>\n",
       "  </thead>\n",
       "  <tbody>\n",
       "    <tr>\n",
       "      <th id=\"T_36104_level0_row0\" class=\"row_heading level0 row0\" >0</th>\n",
       "      <td id=\"T_36104_row0_col0\" class=\"data row0 col0\" >0.5307</td>\n",
       "      <td id=\"T_36104_row0_col1\" class=\"data row0 col1\" >6128.0886</td>\n",
       "      <td id=\"T_36104_row0_col2\" class=\"data row0 col2\" >0.5462</td>\n",
       "      <td id=\"T_36104_row0_col3\" class=\"data row0 col3\" >0</td>\n",
       "      <td id=\"T_36104_row0_col4\" class=\"data row0 col4\" >0</td>\n",
       "      <td id=\"T_36104_row0_col5\" class=\"data row0 col5\" >0</td>\n",
       "    </tr>\n",
       "  </tbody>\n",
       "</table>\n"
      ],
      "text/plain": [
       "<pandas.io.formats.style.Styler at 0x2b0ca0d32d0>"
      ]
     },
     "metadata": {},
     "output_type": "display_data"
    },
    {
     "data": {
      "text/html": [],
      "text/plain": [
       "<IPython.core.display.HTML object>"
      ]
     },
     "metadata": {},
     "output_type": "display_data"
    },
    {
     "name": "stdout",
     "output_type": "stream",
     "text": [
      "For Cluster = 6\n"
     ]
    },
    {
     "data": {
      "text/html": [],
      "text/plain": [
       "<IPython.core.display.HTML object>"
      ]
     },
     "metadata": {},
     "output_type": "display_data"
    },
    {
     "data": {
      "text/html": [
       "<style type=\"text/css\">\n",
       "</style>\n",
       "<table id=\"T_57738\">\n",
       "  <thead>\n",
       "    <tr>\n",
       "      <th class=\"blank level0\" >&nbsp;</th>\n",
       "      <th id=\"T_57738_level0_col0\" class=\"col_heading level0 col0\" >Silhouette</th>\n",
       "      <th id=\"T_57738_level0_col1\" class=\"col_heading level0 col1\" >Calinski-Harabasz</th>\n",
       "      <th id=\"T_57738_level0_col2\" class=\"col_heading level0 col2\" >Davies-Bouldin</th>\n",
       "      <th id=\"T_57738_level0_col3\" class=\"col_heading level0 col3\" >Homogeneity</th>\n",
       "      <th id=\"T_57738_level0_col4\" class=\"col_heading level0 col4\" >Rand Index</th>\n",
       "      <th id=\"T_57738_level0_col5\" class=\"col_heading level0 col5\" >Completeness</th>\n",
       "    </tr>\n",
       "  </thead>\n",
       "  <tbody>\n",
       "    <tr>\n",
       "      <th id=\"T_57738_level0_row0\" class=\"row_heading level0 row0\" >0</th>\n",
       "      <td id=\"T_57738_row0_col0\" class=\"data row0 col0\" >0.5220</td>\n",
       "      <td id=\"T_57738_row0_col1\" class=\"data row0 col1\" >6780.6577</td>\n",
       "      <td id=\"T_57738_row0_col2\" class=\"data row0 col2\" >0.5383</td>\n",
       "      <td id=\"T_57738_row0_col3\" class=\"data row0 col3\" >0</td>\n",
       "      <td id=\"T_57738_row0_col4\" class=\"data row0 col4\" >0</td>\n",
       "      <td id=\"T_57738_row0_col5\" class=\"data row0 col5\" >0</td>\n",
       "    </tr>\n",
       "  </tbody>\n",
       "</table>\n"
      ],
      "text/plain": [
       "<pandas.io.formats.style.Styler at 0x2b08a6c4a50>"
      ]
     },
     "metadata": {},
     "output_type": "display_data"
    },
    {
     "data": {
      "text/html": [],
      "text/plain": [
       "<IPython.core.display.HTML object>"
      ]
     },
     "metadata": {},
     "output_type": "display_data"
    }
   ],
   "source": [
    "setup(data = data, transformation = True, transformation_method = 'yeo-johnson', verbose=False)\n",
    "\n",
    "print(\"For Cluster = 3\")\n",
    "x = create_model('kmeans', num_clusters = 3)\n",
    "\n",
    "print(\"For Cluster = 4\")\n",
    "x = create_model('kmeans', num_clusters = 4)\n",
    "\n",
    "print(\"For Cluster = 5\")\n",
    "x = create_model('kmeans', num_clusters = 5)\n",
    "\n",
    "print(\"For Cluster = 6\")\n",
    "x = create_model('kmeans', num_clusters = 6)"
   ]
  },
  {
   "cell_type": "code",
   "execution_count": 28,
   "id": "045a4a2a",
   "metadata": {},
   "outputs": [
    {
     "name": "stdout",
     "output_type": "stream",
     "text": [
      "For Cluster = 3\n"
     ]
    },
    {
     "data": {
      "text/html": [],
      "text/plain": [
       "<IPython.core.display.HTML object>"
      ]
     },
     "metadata": {},
     "output_type": "display_data"
    },
    {
     "data": {
      "text/html": [
       "<style type=\"text/css\">\n",
       "</style>\n",
       "<table id=\"T_51249\">\n",
       "  <thead>\n",
       "    <tr>\n",
       "      <th class=\"blank level0\" >&nbsp;</th>\n",
       "      <th id=\"T_51249_level0_col0\" class=\"col_heading level0 col0\" >Silhouette</th>\n",
       "      <th id=\"T_51249_level0_col1\" class=\"col_heading level0 col1\" >Calinski-Harabasz</th>\n",
       "      <th id=\"T_51249_level0_col2\" class=\"col_heading level0 col2\" >Davies-Bouldin</th>\n",
       "      <th id=\"T_51249_level0_col3\" class=\"col_heading level0 col3\" >Homogeneity</th>\n",
       "      <th id=\"T_51249_level0_col4\" class=\"col_heading level0 col4\" >Rand Index</th>\n",
       "      <th id=\"T_51249_level0_col5\" class=\"col_heading level0 col5\" >Completeness</th>\n",
       "    </tr>\n",
       "  </thead>\n",
       "  <tbody>\n",
       "    <tr>\n",
       "      <th id=\"T_51249_level0_row0\" class=\"row_heading level0 row0\" >0</th>\n",
       "      <td id=\"T_51249_row0_col0\" class=\"data row0 col0\" >0.5406</td>\n",
       "      <td id=\"T_51249_row0_col1\" class=\"data row0 col1\" >4519.4029</td>\n",
       "      <td id=\"T_51249_row0_col2\" class=\"data row0 col2\" >0.5861</td>\n",
       "      <td id=\"T_51249_row0_col3\" class=\"data row0 col3\" >0</td>\n",
       "      <td id=\"T_51249_row0_col4\" class=\"data row0 col4\" >0</td>\n",
       "      <td id=\"T_51249_row0_col5\" class=\"data row0 col5\" >0</td>\n",
       "    </tr>\n",
       "  </tbody>\n",
       "</table>\n"
      ],
      "text/plain": [
       "<pandas.io.formats.style.Styler at 0x2b0ca0cb750>"
      ]
     },
     "metadata": {},
     "output_type": "display_data"
    },
    {
     "data": {
      "text/html": [],
      "text/plain": [
       "<IPython.core.display.HTML object>"
      ]
     },
     "metadata": {},
     "output_type": "display_data"
    },
    {
     "name": "stdout",
     "output_type": "stream",
     "text": [
      "For Cluster = 4\n"
     ]
    },
    {
     "data": {
      "text/html": [],
      "text/plain": [
       "<IPython.core.display.HTML object>"
      ]
     },
     "metadata": {},
     "output_type": "display_data"
    },
    {
     "data": {
      "text/html": [
       "<style type=\"text/css\">\n",
       "</style>\n",
       "<table id=\"T_bde2f\">\n",
       "  <thead>\n",
       "    <tr>\n",
       "      <th class=\"blank level0\" >&nbsp;</th>\n",
       "      <th id=\"T_bde2f_level0_col0\" class=\"col_heading level0 col0\" >Silhouette</th>\n",
       "      <th id=\"T_bde2f_level0_col1\" class=\"col_heading level0 col1\" >Calinski-Harabasz</th>\n",
       "      <th id=\"T_bde2f_level0_col2\" class=\"col_heading level0 col2\" >Davies-Bouldin</th>\n",
       "      <th id=\"T_bde2f_level0_col3\" class=\"col_heading level0 col3\" >Homogeneity</th>\n",
       "      <th id=\"T_bde2f_level0_col4\" class=\"col_heading level0 col4\" >Rand Index</th>\n",
       "      <th id=\"T_bde2f_level0_col5\" class=\"col_heading level0 col5\" >Completeness</th>\n",
       "    </tr>\n",
       "  </thead>\n",
       "  <tbody>\n",
       "    <tr>\n",
       "      <th id=\"T_bde2f_level0_row0\" class=\"row_heading level0 row0\" >0</th>\n",
       "      <td id=\"T_bde2f_row0_col0\" class=\"data row0 col0\" >0.5263</td>\n",
       "      <td id=\"T_bde2f_row0_col1\" class=\"data row0 col1\" >4397.4232</td>\n",
       "      <td id=\"T_bde2f_row0_col2\" class=\"data row0 col2\" >0.5365</td>\n",
       "      <td id=\"T_bde2f_row0_col3\" class=\"data row0 col3\" >0</td>\n",
       "      <td id=\"T_bde2f_row0_col4\" class=\"data row0 col4\" >0</td>\n",
       "      <td id=\"T_bde2f_row0_col5\" class=\"data row0 col5\" >0</td>\n",
       "    </tr>\n",
       "  </tbody>\n",
       "</table>\n"
      ],
      "text/plain": [
       "<pandas.io.formats.style.Styler at 0x2b0ca08fa50>"
      ]
     },
     "metadata": {},
     "output_type": "display_data"
    },
    {
     "data": {
      "text/html": [],
      "text/plain": [
       "<IPython.core.display.HTML object>"
      ]
     },
     "metadata": {},
     "output_type": "display_data"
    },
    {
     "name": "stdout",
     "output_type": "stream",
     "text": [
      "For Cluster = 5\n"
     ]
    },
    {
     "data": {
      "text/html": [],
      "text/plain": [
       "<IPython.core.display.HTML object>"
      ]
     },
     "metadata": {},
     "output_type": "display_data"
    },
    {
     "data": {
      "text/html": [
       "<style type=\"text/css\">\n",
       "</style>\n",
       "<table id=\"T_94655\">\n",
       "  <thead>\n",
       "    <tr>\n",
       "      <th class=\"blank level0\" >&nbsp;</th>\n",
       "      <th id=\"T_94655_level0_col0\" class=\"col_heading level0 col0\" >Silhouette</th>\n",
       "      <th id=\"T_94655_level0_col1\" class=\"col_heading level0 col1\" >Calinski-Harabasz</th>\n",
       "      <th id=\"T_94655_level0_col2\" class=\"col_heading level0 col2\" >Davies-Bouldin</th>\n",
       "      <th id=\"T_94655_level0_col3\" class=\"col_heading level0 col3\" >Homogeneity</th>\n",
       "      <th id=\"T_94655_level0_col4\" class=\"col_heading level0 col4\" >Rand Index</th>\n",
       "      <th id=\"T_94655_level0_col5\" class=\"col_heading level0 col5\" >Completeness</th>\n",
       "    </tr>\n",
       "  </thead>\n",
       "  <tbody>\n",
       "    <tr>\n",
       "      <th id=\"T_94655_level0_row0\" class=\"row_heading level0 row0\" >0</th>\n",
       "      <td id=\"T_94655_row0_col0\" class=\"data row0 col0\" >0.4932</td>\n",
       "      <td id=\"T_94655_row0_col1\" class=\"data row0 col1\" >5384.4656</td>\n",
       "      <td id=\"T_94655_row0_col2\" class=\"data row0 col2\" >0.5499</td>\n",
       "      <td id=\"T_94655_row0_col3\" class=\"data row0 col3\" >0</td>\n",
       "      <td id=\"T_94655_row0_col4\" class=\"data row0 col4\" >0</td>\n",
       "      <td id=\"T_94655_row0_col5\" class=\"data row0 col5\" >0</td>\n",
       "    </tr>\n",
       "  </tbody>\n",
       "</table>\n"
      ],
      "text/plain": [
       "<pandas.io.formats.style.Styler at 0x2b0ca0e7a50>"
      ]
     },
     "metadata": {},
     "output_type": "display_data"
    },
    {
     "data": {
      "text/html": [],
      "text/plain": [
       "<IPython.core.display.HTML object>"
      ]
     },
     "metadata": {},
     "output_type": "display_data"
    },
    {
     "name": "stdout",
     "output_type": "stream",
     "text": [
      "For Cluster = 6\n"
     ]
    },
    {
     "data": {
      "text/html": [],
      "text/plain": [
       "<IPython.core.display.HTML object>"
      ]
     },
     "metadata": {},
     "output_type": "display_data"
    },
    {
     "data": {
      "text/html": [
       "<style type=\"text/css\">\n",
       "</style>\n",
       "<table id=\"T_e85c2\">\n",
       "  <thead>\n",
       "    <tr>\n",
       "      <th class=\"blank level0\" >&nbsp;</th>\n",
       "      <th id=\"T_e85c2_level0_col0\" class=\"col_heading level0 col0\" >Silhouette</th>\n",
       "      <th id=\"T_e85c2_level0_col1\" class=\"col_heading level0 col1\" >Calinski-Harabasz</th>\n",
       "      <th id=\"T_e85c2_level0_col2\" class=\"col_heading level0 col2\" >Davies-Bouldin</th>\n",
       "      <th id=\"T_e85c2_level0_col3\" class=\"col_heading level0 col3\" >Homogeneity</th>\n",
       "      <th id=\"T_e85c2_level0_col4\" class=\"col_heading level0 col4\" >Rand Index</th>\n",
       "      <th id=\"T_e85c2_level0_col5\" class=\"col_heading level0 col5\" >Completeness</th>\n",
       "    </tr>\n",
       "  </thead>\n",
       "  <tbody>\n",
       "    <tr>\n",
       "      <th id=\"T_e85c2_level0_row0\" class=\"row_heading level0 row0\" >0</th>\n",
       "      <td id=\"T_e85c2_row0_col0\" class=\"data row0 col0\" >0.4892</td>\n",
       "      <td id=\"T_e85c2_row0_col1\" class=\"data row0 col1\" >6121.8288</td>\n",
       "      <td id=\"T_e85c2_row0_col2\" class=\"data row0 col2\" >0.5403</td>\n",
       "      <td id=\"T_e85c2_row0_col3\" class=\"data row0 col3\" >0</td>\n",
       "      <td id=\"T_e85c2_row0_col4\" class=\"data row0 col4\" >0</td>\n",
       "      <td id=\"T_e85c2_row0_col5\" class=\"data row0 col5\" >0</td>\n",
       "    </tr>\n",
       "  </tbody>\n",
       "</table>\n"
      ],
      "text/plain": [
       "<pandas.io.formats.style.Styler at 0x2b0ca0ffa50>"
      ]
     },
     "metadata": {},
     "output_type": "display_data"
    },
    {
     "data": {
      "text/html": [],
      "text/plain": [
       "<IPython.core.display.HTML object>"
      ]
     },
     "metadata": {},
     "output_type": "display_data"
    }
   ],
   "source": [
    "setup(data = data, transformation = True, transformation_method = 'yeo-johnson', verbose=False)\n",
    "print(\"For Cluster = 3\")\n",
    "x = create_model('birch', num_clusters = 3)\n",
    "\n",
    "print(\"For Cluster = 4\")\n",
    "x = create_model('birch', num_clusters = 4)\n",
    "\n",
    "print(\"For Cluster = 5\")\n",
    "x = create_model('birch', num_clusters = 5)\n",
    "\n",
    "print(\"For Cluster = 6\")\n",
    "x = create_model('birch', num_clusters = 6)"
   ]
  },
  {
   "cell_type": "code",
   "execution_count": 33,
   "id": "c785e9d1",
   "metadata": {},
   "outputs": [
    {
     "name": "stdout",
     "output_type": "stream",
     "text": [
      "For Cluster = 3\n"
     ]
    },
    {
     "data": {
      "text/html": [],
      "text/plain": [
       "<IPython.core.display.HTML object>"
      ]
     },
     "metadata": {},
     "output_type": "display_data"
    },
    {
     "data": {
      "text/html": [
       "<style type=\"text/css\">\n",
       "</style>\n",
       "<table id=\"T_6ec31\">\n",
       "  <thead>\n",
       "    <tr>\n",
       "      <th class=\"blank level0\" >&nbsp;</th>\n",
       "      <th id=\"T_6ec31_level0_col0\" class=\"col_heading level0 col0\" >Silhouette</th>\n",
       "      <th id=\"T_6ec31_level0_col1\" class=\"col_heading level0 col1\" >Calinski-Harabasz</th>\n",
       "      <th id=\"T_6ec31_level0_col2\" class=\"col_heading level0 col2\" >Davies-Bouldin</th>\n",
       "      <th id=\"T_6ec31_level0_col3\" class=\"col_heading level0 col3\" >Homogeneity</th>\n",
       "      <th id=\"T_6ec31_level0_col4\" class=\"col_heading level0 col4\" >Rand Index</th>\n",
       "      <th id=\"T_6ec31_level0_col5\" class=\"col_heading level0 col5\" >Completeness</th>\n",
       "    </tr>\n",
       "  </thead>\n",
       "  <tbody>\n",
       "    <tr>\n",
       "      <th id=\"T_6ec31_level0_row0\" class=\"row_heading level0 row0\" >0</th>\n",
       "      <td id=\"T_6ec31_row0_col0\" class=\"data row0 col0\" >0.5335</td>\n",
       "      <td id=\"T_6ec31_row0_col1\" class=\"data row0 col1\" >4526.4352</td>\n",
       "      <td id=\"T_6ec31_row0_col2\" class=\"data row0 col2\" >0.5996</td>\n",
       "      <td id=\"T_6ec31_row0_col3\" class=\"data row0 col3\" >0</td>\n",
       "      <td id=\"T_6ec31_row0_col4\" class=\"data row0 col4\" >0</td>\n",
       "      <td id=\"T_6ec31_row0_col5\" class=\"data row0 col5\" >0</td>\n",
       "    </tr>\n",
       "  </tbody>\n",
       "</table>\n"
      ],
      "text/plain": [
       "<pandas.io.formats.style.Styler at 0x2b08a694350>"
      ]
     },
     "metadata": {},
     "output_type": "display_data"
    },
    {
     "data": {
      "text/html": [],
      "text/plain": [
       "<IPython.core.display.HTML object>"
      ]
     },
     "metadata": {},
     "output_type": "display_data"
    },
    {
     "name": "stdout",
     "output_type": "stream",
     "text": [
      "For Cluster = 4\n"
     ]
    },
    {
     "data": {
      "text/html": [],
      "text/plain": [
       "<IPython.core.display.HTML object>"
      ]
     },
     "metadata": {},
     "output_type": "display_data"
    },
    {
     "data": {
      "text/html": [
       "<style type=\"text/css\">\n",
       "</style>\n",
       "<table id=\"T_45b67\">\n",
       "  <thead>\n",
       "    <tr>\n",
       "      <th class=\"blank level0\" >&nbsp;</th>\n",
       "      <th id=\"T_45b67_level0_col0\" class=\"col_heading level0 col0\" >Silhouette</th>\n",
       "      <th id=\"T_45b67_level0_col1\" class=\"col_heading level0 col1\" >Calinski-Harabasz</th>\n",
       "      <th id=\"T_45b67_level0_col2\" class=\"col_heading level0 col2\" >Davies-Bouldin</th>\n",
       "      <th id=\"T_45b67_level0_col3\" class=\"col_heading level0 col3\" >Homogeneity</th>\n",
       "      <th id=\"T_45b67_level0_col4\" class=\"col_heading level0 col4\" >Rand Index</th>\n",
       "      <th id=\"T_45b67_level0_col5\" class=\"col_heading level0 col5\" >Completeness</th>\n",
       "    </tr>\n",
       "  </thead>\n",
       "  <tbody>\n",
       "    <tr>\n",
       "      <th id=\"T_45b67_level0_row0\" class=\"row_heading level0 row0\" >0</th>\n",
       "      <td id=\"T_45b67_row0_col0\" class=\"data row0 col0\" >0.5081</td>\n",
       "      <td id=\"T_45b67_row0_col1\" class=\"data row0 col1\" >4807.4125</td>\n",
       "      <td id=\"T_45b67_row0_col2\" class=\"data row0 col2\" >0.5656</td>\n",
       "      <td id=\"T_45b67_row0_col3\" class=\"data row0 col3\" >0</td>\n",
       "      <td id=\"T_45b67_row0_col4\" class=\"data row0 col4\" >0</td>\n",
       "      <td id=\"T_45b67_row0_col5\" class=\"data row0 col5\" >0</td>\n",
       "    </tr>\n",
       "  </tbody>\n",
       "</table>\n"
      ],
      "text/plain": [
       "<pandas.io.formats.style.Styler at 0x2b0cfb130d0>"
      ]
     },
     "metadata": {},
     "output_type": "display_data"
    },
    {
     "data": {
      "text/html": [],
      "text/plain": [
       "<IPython.core.display.HTML object>"
      ]
     },
     "metadata": {},
     "output_type": "display_data"
    },
    {
     "name": "stdout",
     "output_type": "stream",
     "text": [
      "For Cluster = 5\n"
     ]
    },
    {
     "data": {
      "text/html": [],
      "text/plain": [
       "<IPython.core.display.HTML object>"
      ]
     },
     "metadata": {},
     "output_type": "display_data"
    },
    {
     "data": {
      "text/html": [
       "<style type=\"text/css\">\n",
       "</style>\n",
       "<table id=\"T_fdc5e\">\n",
       "  <thead>\n",
       "    <tr>\n",
       "      <th class=\"blank level0\" >&nbsp;</th>\n",
       "      <th id=\"T_fdc5e_level0_col0\" class=\"col_heading level0 col0\" >Silhouette</th>\n",
       "      <th id=\"T_fdc5e_level0_col1\" class=\"col_heading level0 col1\" >Calinski-Harabasz</th>\n",
       "      <th id=\"T_fdc5e_level0_col2\" class=\"col_heading level0 col2\" >Davies-Bouldin</th>\n",
       "      <th id=\"T_fdc5e_level0_col3\" class=\"col_heading level0 col3\" >Homogeneity</th>\n",
       "      <th id=\"T_fdc5e_level0_col4\" class=\"col_heading level0 col4\" >Rand Index</th>\n",
       "      <th id=\"T_fdc5e_level0_col5\" class=\"col_heading level0 col5\" >Completeness</th>\n",
       "    </tr>\n",
       "  </thead>\n",
       "  <tbody>\n",
       "    <tr>\n",
       "      <th id=\"T_fdc5e_level0_row0\" class=\"row_heading level0 row0\" >0</th>\n",
       "      <td id=\"T_fdc5e_row0_col0\" class=\"data row0 col0\" >0.5130</td>\n",
       "      <td id=\"T_fdc5e_row0_col1\" class=\"data row0 col1\" >5372.9547</td>\n",
       "      <td id=\"T_fdc5e_row0_col2\" class=\"data row0 col2\" >0.5660</td>\n",
       "      <td id=\"T_fdc5e_row0_col3\" class=\"data row0 col3\" >0</td>\n",
       "      <td id=\"T_fdc5e_row0_col4\" class=\"data row0 col4\" >0</td>\n",
       "      <td id=\"T_fdc5e_row0_col5\" class=\"data row0 col5\" >0</td>\n",
       "    </tr>\n",
       "  </tbody>\n",
       "</table>\n"
      ],
      "text/plain": [
       "<pandas.io.formats.style.Styler at 0x2b0cfb37b10>"
      ]
     },
     "metadata": {},
     "output_type": "display_data"
    },
    {
     "data": {
      "text/html": [],
      "text/plain": [
       "<IPython.core.display.HTML object>"
      ]
     },
     "metadata": {},
     "output_type": "display_data"
    },
    {
     "name": "stdout",
     "output_type": "stream",
     "text": [
      "For Cluster = 6\n"
     ]
    },
    {
     "data": {
      "text/html": [],
      "text/plain": [
       "<IPython.core.display.HTML object>"
      ]
     },
     "metadata": {},
     "output_type": "display_data"
    },
    {
     "data": {
      "text/html": [
       "<style type=\"text/css\">\n",
       "</style>\n",
       "<table id=\"T_0f870\">\n",
       "  <thead>\n",
       "    <tr>\n",
       "      <th class=\"blank level0\" >&nbsp;</th>\n",
       "      <th id=\"T_0f870_level0_col0\" class=\"col_heading level0 col0\" >Silhouette</th>\n",
       "      <th id=\"T_0f870_level0_col1\" class=\"col_heading level0 col1\" >Calinski-Harabasz</th>\n",
       "      <th id=\"T_0f870_level0_col2\" class=\"col_heading level0 col2\" >Davies-Bouldin</th>\n",
       "      <th id=\"T_0f870_level0_col3\" class=\"col_heading level0 col3\" >Homogeneity</th>\n",
       "      <th id=\"T_0f870_level0_col4\" class=\"col_heading level0 col4\" >Rand Index</th>\n",
       "      <th id=\"T_0f870_level0_col5\" class=\"col_heading level0 col5\" >Completeness</th>\n",
       "    </tr>\n",
       "  </thead>\n",
       "  <tbody>\n",
       "    <tr>\n",
       "      <th id=\"T_0f870_level0_row0\" class=\"row_heading level0 row0\" >0</th>\n",
       "      <td id=\"T_0f870_row0_col0\" class=\"data row0 col0\" >0.5213</td>\n",
       "      <td id=\"T_0f870_row0_col1\" class=\"data row0 col1\" >6125.8730</td>\n",
       "      <td id=\"T_0f870_row0_col2\" class=\"data row0 col2\" >0.5386</td>\n",
       "      <td id=\"T_0f870_row0_col3\" class=\"data row0 col3\" >0</td>\n",
       "      <td id=\"T_0f870_row0_col4\" class=\"data row0 col4\" >0</td>\n",
       "      <td id=\"T_0f870_row0_col5\" class=\"data row0 col5\" >0</td>\n",
       "    </tr>\n",
       "  </tbody>\n",
       "</table>\n"
      ],
      "text/plain": [
       "<pandas.io.formats.style.Styler at 0x2b0c979da90>"
      ]
     },
     "metadata": {},
     "output_type": "display_data"
    },
    {
     "data": {
      "text/html": [],
      "text/plain": [
       "<IPython.core.display.HTML object>"
      ]
     },
     "metadata": {},
     "output_type": "display_data"
    }
   ],
   "source": [
    "setup(data = data, transformation = True, transformation_method = 'yeo-johnson', verbose=False)\n",
    "print(\"For Cluster = 3\")\n",
    "x = create_model('hclust', num_clusters = 3)\n",
    "\n",
    "print(\"For Cluster = 4\")\n",
    "x = create_model('hclust', num_clusters = 4)\n",
    "\n",
    "print(\"For Cluster = 5\")\n",
    "x = create_model('hclust', num_clusters = 5)\n",
    "\n",
    "print(\"For Cluster = 6\")\n",
    "x = create_model('hclust', num_clusters = 6)"
   ]
  },
  {
   "cell_type": "markdown",
   "id": "19a2e1ef",
   "metadata": {},
   "source": [
    "#### PCA"
   ]
  },
  {
   "cell_type": "code",
   "execution_count": 34,
   "id": "6e42f02e",
   "metadata": {},
   "outputs": [
    {
     "data": {
      "text/html": [],
      "text/plain": [
       "<IPython.core.display.HTML object>"
      ]
     },
     "metadata": {},
     "output_type": "display_data"
    },
    {
     "data": {
      "text/html": [
       "<style type=\"text/css\">\n",
       "</style>\n",
       "<table id=\"T_c7705\">\n",
       "  <thead>\n",
       "    <tr>\n",
       "      <th class=\"blank level0\" >&nbsp;</th>\n",
       "      <th id=\"T_c7705_level0_col0\" class=\"col_heading level0 col0\" >Silhouette</th>\n",
       "      <th id=\"T_c7705_level0_col1\" class=\"col_heading level0 col1\" >Calinski-Harabasz</th>\n",
       "      <th id=\"T_c7705_level0_col2\" class=\"col_heading level0 col2\" >Davies-Bouldin</th>\n",
       "      <th id=\"T_c7705_level0_col3\" class=\"col_heading level0 col3\" >Homogeneity</th>\n",
       "      <th id=\"T_c7705_level0_col4\" class=\"col_heading level0 col4\" >Rand Index</th>\n",
       "      <th id=\"T_c7705_level0_col5\" class=\"col_heading level0 col5\" >Completeness</th>\n",
       "    </tr>\n",
       "  </thead>\n",
       "  <tbody>\n",
       "    <tr>\n",
       "      <th id=\"T_c7705_level0_row0\" class=\"row_heading level0 row0\" >0</th>\n",
       "      <td id=\"T_c7705_row0_col0\" class=\"data row0 col0\" >0.9712</td>\n",
       "      <td id=\"T_c7705_row0_col1\" class=\"data row0 col1\" >117319.6444</td>\n",
       "      <td id=\"T_c7705_row0_col2\" class=\"data row0 col2\" >0.3388</td>\n",
       "      <td id=\"T_c7705_row0_col3\" class=\"data row0 col3\" >0</td>\n",
       "      <td id=\"T_c7705_row0_col4\" class=\"data row0 col4\" >0</td>\n",
       "      <td id=\"T_c7705_row0_col5\" class=\"data row0 col5\" >0</td>\n",
       "    </tr>\n",
       "  </tbody>\n",
       "</table>\n"
      ],
      "text/plain": [
       "<pandas.io.formats.style.Styler at 0x2b0cfa45590>"
      ]
     },
     "metadata": {},
     "output_type": "display_data"
    },
    {
     "data": {
      "text/html": [],
      "text/plain": [
       "<IPython.core.display.HTML object>"
      ]
     },
     "metadata": {},
     "output_type": "display_data"
    },
    {
     "data": {
      "text/html": [],
      "text/plain": [
       "<IPython.core.display.HTML object>"
      ]
     },
     "metadata": {},
     "output_type": "display_data"
    },
    {
     "data": {
      "image/png": "[encoded data removed]",
      "text/plain": [
       "<Figure size 800x550 with 1 Axes>"
      ]
     },
     "metadata": {},
     "output_type": "display_data"
    }
   ],
   "source": [
    "setup(data = data, pca = True, pca_method = 'linear', verbose=False)\n",
    "x = create_model('kmeans')\n",
    "plot_model(x, plot = 'elbow')"
   ]
  },
  {
   "cell_type": "code",
   "execution_count": 35,
   "id": "740929a8",
   "metadata": {},
   "outputs": [
    {
     "name": "stdout",
     "output_type": "stream",
     "text": [
      "For Cluster = 3\n"
     ]
    },
    {
     "data": {
      "text/html": [],
      "text/plain": [
       "<IPython.core.display.HTML object>"
      ]
     },
     "metadata": {},
     "output_type": "display_data"
    },
    {
     "data": {
      "text/html": [
       "<style type=\"text/css\">\n",
       "</style>\n",
       "<table id=\"T_a4795\">\n",
       "  <thead>\n",
       "    <tr>\n",
       "      <th class=\"blank level0\" >&nbsp;</th>\n",
       "      <th id=\"T_a4795_level0_col0\" class=\"col_heading level0 col0\" >Silhouette</th>\n",
       "      <th id=\"T_a4795_level0_col1\" class=\"col_heading level0 col1\" >Calinski-Harabasz</th>\n",
       "      <th id=\"T_a4795_level0_col2\" class=\"col_heading level0 col2\" >Davies-Bouldin</th>\n",
       "      <th id=\"T_a4795_level0_col3\" class=\"col_heading level0 col3\" >Homogeneity</th>\n",
       "      <th id=\"T_a4795_level0_col4\" class=\"col_heading level0 col4\" >Rand Index</th>\n",
       "      <th id=\"T_a4795_level0_col5\" class=\"col_heading level0 col5\" >Completeness</th>\n",
       "    </tr>\n",
       "  </thead>\n",
       "  <tbody>\n",
       "    <tr>\n",
       "      <th id=\"T_a4795_level0_row0\" class=\"row_heading level0 row0\" >0</th>\n",
       "      <td id=\"T_a4795_row0_col0\" class=\"data row0 col0\" >0.9785</td>\n",
       "      <td id=\"T_a4795_row0_col1\" class=\"data row0 col1\" >81056.9046</td>\n",
       "      <td id=\"T_a4795_row0_col2\" class=\"data row0 col2\" >0.3493</td>\n",
       "      <td id=\"T_a4795_row0_col3\" class=\"data row0 col3\" >0</td>\n",
       "      <td id=\"T_a4795_row0_col4\" class=\"data row0 col4\" >0</td>\n",
       "      <td id=\"T_a4795_row0_col5\" class=\"data row0 col5\" >0</td>\n",
       "    </tr>\n",
       "  </tbody>\n",
       "</table>\n"
      ],
      "text/plain": [
       "<pandas.io.formats.style.Styler at 0x2b0cfafbb90>"
      ]
     },
     "metadata": {},
     "output_type": "display_data"
    },
    {
     "data": {
      "text/html": [],
      "text/plain": [
       "<IPython.core.display.HTML object>"
      ]
     },
     "metadata": {},
     "output_type": "display_data"
    },
    {
     "name": "stdout",
     "output_type": "stream",
     "text": [
      "For Cluster = 4\n"
     ]
    },
    {
     "data": {
      "text/html": [],
      "text/plain": [
       "<IPython.core.display.HTML object>"
      ]
     },
     "metadata": {},
     "output_type": "display_data"
    },
    {
     "data": {
      "text/html": [
       "<style type=\"text/css\">\n",
       "</style>\n",
       "<table id=\"T_b2d9f\">\n",
       "  <thead>\n",
       "    <tr>\n",
       "      <th class=\"blank level0\" >&nbsp;</th>\n",
       "      <th id=\"T_b2d9f_level0_col0\" class=\"col_heading level0 col0\" >Silhouette</th>\n",
       "      <th id=\"T_b2d9f_level0_col1\" class=\"col_heading level0 col1\" >Calinski-Harabasz</th>\n",
       "      <th id=\"T_b2d9f_level0_col2\" class=\"col_heading level0 col2\" >Davies-Bouldin</th>\n",
       "      <th id=\"T_b2d9f_level0_col3\" class=\"col_heading level0 col3\" >Homogeneity</th>\n",
       "      <th id=\"T_b2d9f_level0_col4\" class=\"col_heading level0 col4\" >Rand Index</th>\n",
       "      <th id=\"T_b2d9f_level0_col5\" class=\"col_heading level0 col5\" >Completeness</th>\n",
       "    </tr>\n",
       "  </thead>\n",
       "  <tbody>\n",
       "    <tr>\n",
       "      <th id=\"T_b2d9f_level0_row0\" class=\"row_heading level0 row0\" >0</th>\n",
       "      <td id=\"T_b2d9f_row0_col0\" class=\"data row0 col0\" >0.9712</td>\n",
       "      <td id=\"T_b2d9f_row0_col1\" class=\"data row0 col1\" >117319.6444</td>\n",
       "      <td id=\"T_b2d9f_row0_col2\" class=\"data row0 col2\" >0.3388</td>\n",
       "      <td id=\"T_b2d9f_row0_col3\" class=\"data row0 col3\" >0</td>\n",
       "      <td id=\"T_b2d9f_row0_col4\" class=\"data row0 col4\" >0</td>\n",
       "      <td id=\"T_b2d9f_row0_col5\" class=\"data row0 col5\" >0</td>\n",
       "    </tr>\n",
       "  </tbody>\n",
       "</table>\n"
      ],
      "text/plain": [
       "<pandas.io.formats.style.Styler at 0x2b0cfaf7a50>"
      ]
     },
     "metadata": {},
     "output_type": "display_data"
    },
    {
     "data": {
      "text/html": [],
      "text/plain": [
       "<IPython.core.display.HTML object>"
      ]
     },
     "metadata": {},
     "output_type": "display_data"
    },
    {
     "name": "stdout",
     "output_type": "stream",
     "text": [
      "For Cluster = 5\n"
     ]
    },
    {
     "data": {
      "text/html": [],
      "text/plain": [
       "<IPython.core.display.HTML object>"
      ]
     },
     "metadata": {},
     "output_type": "display_data"
    },
    {
     "data": {
      "text/html": [
       "<style type=\"text/css\">\n",
       "</style>\n",
       "<table id=\"T_1c1a0\">\n",
       "  <thead>\n",
       "    <tr>\n",
       "      <th class=\"blank level0\" >&nbsp;</th>\n",
       "      <th id=\"T_1c1a0_level0_col0\" class=\"col_heading level0 col0\" >Silhouette</th>\n",
       "      <th id=\"T_1c1a0_level0_col1\" class=\"col_heading level0 col1\" >Calinski-Harabasz</th>\n",
       "      <th id=\"T_1c1a0_level0_col2\" class=\"col_heading level0 col2\" >Davies-Bouldin</th>\n",
       "      <th id=\"T_1c1a0_level0_col3\" class=\"col_heading level0 col3\" >Homogeneity</th>\n",
       "      <th id=\"T_1c1a0_level0_col4\" class=\"col_heading level0 col4\" >Rand Index</th>\n",
       "      <th id=\"T_1c1a0_level0_col5\" class=\"col_heading level0 col5\" >Completeness</th>\n",
       "    </tr>\n",
       "  </thead>\n",
       "  <tbody>\n",
       "    <tr>\n",
       "      <th id=\"T_1c1a0_level0_row0\" class=\"row_heading level0 row0\" >0</th>\n",
       "      <td id=\"T_1c1a0_row0_col0\" class=\"data row0 col0\" >0.9548</td>\n",
       "      <td id=\"T_1c1a0_row0_col1\" class=\"data row0 col1\" >139821.0982</td>\n",
       "      <td id=\"T_1c1a0_row0_col2\" class=\"data row0 col2\" >0.5008</td>\n",
       "      <td id=\"T_1c1a0_row0_col3\" class=\"data row0 col3\" >0</td>\n",
       "      <td id=\"T_1c1a0_row0_col4\" class=\"data row0 col4\" >0</td>\n",
       "      <td id=\"T_1c1a0_row0_col5\" class=\"data row0 col5\" >0</td>\n",
       "    </tr>\n",
       "  </tbody>\n",
       "</table>\n"
      ],
      "text/plain": [
       "<pandas.io.formats.style.Styler at 0x2b0ca117a50>"
      ]
     },
     "metadata": {},
     "output_type": "display_data"
    },
    {
     "data": {
      "text/html": [],
      "text/plain": [
       "<IPython.core.display.HTML object>"
      ]
     },
     "metadata": {},
     "output_type": "display_data"
    },
    {
     "name": "stdout",
     "output_type": "stream",
     "text": [
      "For Cluster = 6\n"
     ]
    },
    {
     "data": {
      "text/html": [],
      "text/plain": [
       "<IPython.core.display.HTML object>"
      ]
     },
     "metadata": {},
     "output_type": "display_data"
    },
    {
     "data": {
      "text/html": [
       "<style type=\"text/css\">\n",
       "</style>\n",
       "<table id=\"T_3400e\">\n",
       "  <thead>\n",
       "    <tr>\n",
       "      <th class=\"blank level0\" >&nbsp;</th>\n",
       "      <th id=\"T_3400e_level0_col0\" class=\"col_heading level0 col0\" >Silhouette</th>\n",
       "      <th id=\"T_3400e_level0_col1\" class=\"col_heading level0 col1\" >Calinski-Harabasz</th>\n",
       "      <th id=\"T_3400e_level0_col2\" class=\"col_heading level0 col2\" >Davies-Bouldin</th>\n",
       "      <th id=\"T_3400e_level0_col3\" class=\"col_heading level0 col3\" >Homogeneity</th>\n",
       "      <th id=\"T_3400e_level0_col4\" class=\"col_heading level0 col4\" >Rand Index</th>\n",
       "      <th id=\"T_3400e_level0_col5\" class=\"col_heading level0 col5\" >Completeness</th>\n",
       "    </tr>\n",
       "  </thead>\n",
       "  <tbody>\n",
       "    <tr>\n",
       "      <th id=\"T_3400e_level0_row0\" class=\"row_heading level0 row0\" >0</th>\n",
       "      <td id=\"T_3400e_row0_col0\" class=\"data row0 col0\" >0.9513</td>\n",
       "      <td id=\"T_3400e_row0_col1\" class=\"data row0 col1\" >141949.0340</td>\n",
       "      <td id=\"T_3400e_row0_col2\" class=\"data row0 col2\" >0.5936</td>\n",
       "      <td id=\"T_3400e_row0_col3\" class=\"data row0 col3\" >0</td>\n",
       "      <td id=\"T_3400e_row0_col4\" class=\"data row0 col4\" >0</td>\n",
       "      <td id=\"T_3400e_row0_col5\" class=\"data row0 col5\" >0</td>\n",
       "    </tr>\n",
       "  </tbody>\n",
       "</table>\n"
      ],
      "text/plain": [
       "<pandas.io.formats.style.Styler at 0x2b0ca117a50>"
      ]
     },
     "metadata": {},
     "output_type": "display_data"
    },
    {
     "data": {
      "text/html": [],
      "text/plain": [
       "<IPython.core.display.HTML object>"
      ]
     },
     "metadata": {},
     "output_type": "display_data"
    }
   ],
   "source": [
    "setup(data = data, pca = True, pca_method = 'linear', verbose=False)\n",
    "\n",
    "print(\"For Cluster = 3\")\n",
    "x = create_model('kmeans', num_clusters = 3)\n",
    "\n",
    "print(\"For Cluster = 4\")\n",
    "x = create_model('kmeans', num_clusters = 4)\n",
    "\n",
    "print(\"For Cluster = 5\")\n",
    "x = create_model('kmeans', num_clusters = 5)\n",
    "\n",
    "print(\"For Cluster = 6\")\n",
    "x = create_model('kmeans', num_clusters = 6)"
   ]
  },
  {
   "cell_type": "code",
   "execution_count": 36,
   "id": "a9fe8f85",
   "metadata": {},
   "outputs": [
    {
     "name": "stdout",
     "output_type": "stream",
     "text": [
      "For Cluster = 3\n"
     ]
    },
    {
     "data": {
      "text/html": [],
      "text/plain": [
       "<IPython.core.display.HTML object>"
      ]
     },
     "metadata": {},
     "output_type": "display_data"
    },
    {
     "data": {
      "text/html": [
       "<style type=\"text/css\">\n",
       "</style>\n",
       "<table id=\"T_912ae\">\n",
       "  <thead>\n",
       "    <tr>\n",
       "      <th class=\"blank level0\" >&nbsp;</th>\n",
       "      <th id=\"T_912ae_level0_col0\" class=\"col_heading level0 col0\" >Silhouette</th>\n",
       "      <th id=\"T_912ae_level0_col1\" class=\"col_heading level0 col1\" >Calinski-Harabasz</th>\n",
       "      <th id=\"T_912ae_level0_col2\" class=\"col_heading level0 col2\" >Davies-Bouldin</th>\n",
       "      <th id=\"T_912ae_level0_col3\" class=\"col_heading level0 col3\" >Homogeneity</th>\n",
       "      <th id=\"T_912ae_level0_col4\" class=\"col_heading level0 col4\" >Rand Index</th>\n",
       "      <th id=\"T_912ae_level0_col5\" class=\"col_heading level0 col5\" >Completeness</th>\n",
       "    </tr>\n",
       "  </thead>\n",
       "  <tbody>\n",
       "    <tr>\n",
       "      <th id=\"T_912ae_level0_row0\" class=\"row_heading level0 row0\" >0</th>\n",
       "      <td id=\"T_912ae_row0_col0\" class=\"data row0 col0\" >0.9635</td>\n",
       "      <td id=\"T_912ae_row0_col1\" class=\"data row0 col1\" >62673.9037</td>\n",
       "      <td id=\"T_912ae_row0_col2\" class=\"data row0 col2\" >0.4819</td>\n",
       "      <td id=\"T_912ae_row0_col3\" class=\"data row0 col3\" >0</td>\n",
       "      <td id=\"T_912ae_row0_col4\" class=\"data row0 col4\" >0</td>\n",
       "      <td id=\"T_912ae_row0_col5\" class=\"data row0 col5\" >0</td>\n",
       "    </tr>\n",
       "  </tbody>\n",
       "</table>\n"
      ],
      "text/plain": [
       "<pandas.io.formats.style.Styler at 0x2b08ab52e50>"
      ]
     },
     "metadata": {},
     "output_type": "display_data"
    },
    {
     "data": {
      "text/html": [],
      "text/plain": [
       "<IPython.core.display.HTML object>"
      ]
     },
     "metadata": {},
     "output_type": "display_data"
    },
    {
     "name": "stdout",
     "output_type": "stream",
     "text": [
      "For Cluster = 4\n"
     ]
    },
    {
     "data": {
      "text/html": [],
      "text/plain": [
       "<IPython.core.display.HTML object>"
      ]
     },
     "metadata": {},
     "output_type": "display_data"
    },
    {
     "data": {
      "text/html": [
       "<style type=\"text/css\">\n",
       "</style>\n",
       "<table id=\"T_60a8b\">\n",
       "  <thead>\n",
       "    <tr>\n",
       "      <th class=\"blank level0\" >&nbsp;</th>\n",
       "      <th id=\"T_60a8b_level0_col0\" class=\"col_heading level0 col0\" >Silhouette</th>\n",
       "      <th id=\"T_60a8b_level0_col1\" class=\"col_heading level0 col1\" >Calinski-Harabasz</th>\n",
       "      <th id=\"T_60a8b_level0_col2\" class=\"col_heading level0 col2\" >Davies-Bouldin</th>\n",
       "      <th id=\"T_60a8b_level0_col3\" class=\"col_heading level0 col3\" >Homogeneity</th>\n",
       "      <th id=\"T_60a8b_level0_col4\" class=\"col_heading level0 col4\" >Rand Index</th>\n",
       "      <th id=\"T_60a8b_level0_col5\" class=\"col_heading level0 col5\" >Completeness</th>\n",
       "    </tr>\n",
       "  </thead>\n",
       "  <tbody>\n",
       "    <tr>\n",
       "      <th id=\"T_60a8b_level0_row0\" class=\"row_heading level0 row0\" >0</th>\n",
       "      <td id=\"T_60a8b_row0_col0\" class=\"data row0 col0\" >0.9622</td>\n",
       "      <td id=\"T_60a8b_row0_col1\" class=\"data row0 col1\" >97971.5580</td>\n",
       "      <td id=\"T_60a8b_row0_col2\" class=\"data row0 col2\" >0.3984</td>\n",
       "      <td id=\"T_60a8b_row0_col3\" class=\"data row0 col3\" >0</td>\n",
       "      <td id=\"T_60a8b_row0_col4\" class=\"data row0 col4\" >0</td>\n",
       "      <td id=\"T_60a8b_row0_col5\" class=\"data row0 col5\" >0</td>\n",
       "    </tr>\n",
       "  </tbody>\n",
       "</table>\n"
      ],
      "text/plain": [
       "<pandas.io.formats.style.Styler at 0x2b0ca147a50>"
      ]
     },
     "metadata": {},
     "output_type": "display_data"
    },
    {
     "data": {
      "text/html": [],
      "text/plain": [
       "<IPython.core.display.HTML object>"
      ]
     },
     "metadata": {},
     "output_type": "display_data"
    },
    {
     "name": "stdout",
     "output_type": "stream",
     "text": [
      "For Cluster = 5\n"
     ]
    },
    {
     "data": {
      "text/html": [],
      "text/plain": [
       "<IPython.core.display.HTML object>"
      ]
     },
     "metadata": {},
     "output_type": "display_data"
    },
    {
     "data": {
      "text/html": [
       "<style type=\"text/css\">\n",
       "</style>\n",
       "<table id=\"T_34460\">\n",
       "  <thead>\n",
       "    <tr>\n",
       "      <th class=\"blank level0\" >&nbsp;</th>\n",
       "      <th id=\"T_34460_level0_col0\" class=\"col_heading level0 col0\" >Silhouette</th>\n",
       "      <th id=\"T_34460_level0_col1\" class=\"col_heading level0 col1\" >Calinski-Harabasz</th>\n",
       "      <th id=\"T_34460_level0_col2\" class=\"col_heading level0 col2\" >Davies-Bouldin</th>\n",
       "      <th id=\"T_34460_level0_col3\" class=\"col_heading level0 col3\" >Homogeneity</th>\n",
       "      <th id=\"T_34460_level0_col4\" class=\"col_heading level0 col4\" >Rand Index</th>\n",
       "      <th id=\"T_34460_level0_col5\" class=\"col_heading level0 col5\" >Completeness</th>\n",
       "    </tr>\n",
       "  </thead>\n",
       "  <tbody>\n",
       "    <tr>\n",
       "      <th id=\"T_34460_level0_row0\" class=\"row_heading level0 row0\" >0</th>\n",
       "      <td id=\"T_34460_row0_col0\" class=\"data row0 col0\" >0.9531</td>\n",
       "      <td id=\"T_34460_row0_col1\" class=\"data row0 col1\" >138960.6446</td>\n",
       "      <td id=\"T_34460_row0_col2\" class=\"data row0 col2\" >0.5044</td>\n",
       "      <td id=\"T_34460_row0_col3\" class=\"data row0 col3\" >0</td>\n",
       "      <td id=\"T_34460_row0_col4\" class=\"data row0 col4\" >0</td>\n",
       "      <td id=\"T_34460_row0_col5\" class=\"data row0 col5\" >0</td>\n",
       "    </tr>\n",
       "  </tbody>\n",
       "</table>\n"
      ],
      "text/plain": [
       "<pandas.io.formats.style.Styler at 0x2b0cfba5150>"
      ]
     },
     "metadata": {},
     "output_type": "display_data"
    },
    {
     "data": {
      "text/html": [],
      "text/plain": [
       "<IPython.core.display.HTML object>"
      ]
     },
     "metadata": {},
     "output_type": "display_data"
    },
    {
     "name": "stdout",
     "output_type": "stream",
     "text": [
      "For Cluster = 6\n"
     ]
    },
    {
     "data": {
      "text/html": [],
      "text/plain": [
       "<IPython.core.display.HTML object>"
      ]
     },
     "metadata": {},
     "output_type": "display_data"
    },
    {
     "data": {
      "text/html": [
       "<style type=\"text/css\">\n",
       "</style>\n",
       "<table id=\"T_bf35f\">\n",
       "  <thead>\n",
       "    <tr>\n",
       "      <th class=\"blank level0\" >&nbsp;</th>\n",
       "      <th id=\"T_bf35f_level0_col0\" class=\"col_heading level0 col0\" >Silhouette</th>\n",
       "      <th id=\"T_bf35f_level0_col1\" class=\"col_heading level0 col1\" >Calinski-Harabasz</th>\n",
       "      <th id=\"T_bf35f_level0_col2\" class=\"col_heading level0 col2\" >Davies-Bouldin</th>\n",
       "      <th id=\"T_bf35f_level0_col3\" class=\"col_heading level0 col3\" >Homogeneity</th>\n",
       "      <th id=\"T_bf35f_level0_col4\" class=\"col_heading level0 col4\" >Rand Index</th>\n",
       "      <th id=\"T_bf35f_level0_col5\" class=\"col_heading level0 col5\" >Completeness</th>\n",
       "    </tr>\n",
       "  </thead>\n",
       "  <tbody>\n",
       "    <tr>\n",
       "      <th id=\"T_bf35f_level0_row0\" class=\"row_heading level0 row0\" >0</th>\n",
       "      <td id=\"T_bf35f_row0_col0\" class=\"data row0 col0\" >0.9531</td>\n",
       "      <td id=\"T_bf35f_row0_col1\" class=\"data row0 col1\" >135290.7822</td>\n",
       "      <td id=\"T_bf35f_row0_col2\" class=\"data row0 col2\" >0.6129</td>\n",
       "      <td id=\"T_bf35f_row0_col3\" class=\"data row0 col3\" >0</td>\n",
       "      <td id=\"T_bf35f_row0_col4\" class=\"data row0 col4\" >0</td>\n",
       "      <td id=\"T_bf35f_row0_col5\" class=\"data row0 col5\" >0</td>\n",
       "    </tr>\n",
       "  </tbody>\n",
       "</table>\n"
      ],
      "text/plain": [
       "<pandas.io.formats.style.Styler at 0x2b0832d21d0>"
      ]
     },
     "metadata": {},
     "output_type": "display_data"
    },
    {
     "data": {
      "text/html": [],
      "text/plain": [
       "<IPython.core.display.HTML object>"
      ]
     },
     "metadata": {},
     "output_type": "display_data"
    }
   ],
   "source": [
    "setup(data = data, pca = True, pca_method = 'linear', verbose=False)\n",
    "print(\"For Cluster = 3\")\n",
    "x = create_model('birch', num_clusters = 3)\n",
    "\n",
    "print(\"For Cluster = 4\")\n",
    "x = create_model('birch', num_clusters = 4)\n",
    "\n",
    "print(\"For Cluster = 5\")\n",
    "x = create_model('birch', num_clusters = 5)\n",
    "\n",
    "print(\"For Cluster = 6\")\n",
    "x = create_model('birch', num_clusters = 6)"
   ]
  },
  {
   "cell_type": "code",
   "execution_count": 37,
   "id": "e0bf83b2",
   "metadata": {},
   "outputs": [
    {
     "name": "stdout",
     "output_type": "stream",
     "text": [
      "For Cluster = 3\n"
     ]
    },
    {
     "data": {
      "text/html": [],
      "text/plain": [
       "<IPython.core.display.HTML object>"
      ]
     },
     "metadata": {},
     "output_type": "display_data"
    },
    {
     "data": {
      "text/html": [
       "<style type=\"text/css\">\n",
       "</style>\n",
       "<table id=\"T_ae9fc\">\n",
       "  <thead>\n",
       "    <tr>\n",
       "      <th class=\"blank level0\" >&nbsp;</th>\n",
       "      <th id=\"T_ae9fc_level0_col0\" class=\"col_heading level0 col0\" >Silhouette</th>\n",
       "      <th id=\"T_ae9fc_level0_col1\" class=\"col_heading level0 col1\" >Calinski-Harabasz</th>\n",
       "      <th id=\"T_ae9fc_level0_col2\" class=\"col_heading level0 col2\" >Davies-Bouldin</th>\n",
       "      <th id=\"T_ae9fc_level0_col3\" class=\"col_heading level0 col3\" >Homogeneity</th>\n",
       "      <th id=\"T_ae9fc_level0_col4\" class=\"col_heading level0 col4\" >Rand Index</th>\n",
       "      <th id=\"T_ae9fc_level0_col5\" class=\"col_heading level0 col5\" >Completeness</th>\n",
       "    </tr>\n",
       "  </thead>\n",
       "  <tbody>\n",
       "    <tr>\n",
       "      <th id=\"T_ae9fc_level0_row0\" class=\"row_heading level0 row0\" >0</th>\n",
       "      <td id=\"T_ae9fc_row0_col0\" class=\"data row0 col0\" >0.9635</td>\n",
       "      <td id=\"T_ae9fc_row0_col1\" class=\"data row0 col1\" >62673.9037</td>\n",
       "      <td id=\"T_ae9fc_row0_col2\" class=\"data row0 col2\" >0.4819</td>\n",
       "      <td id=\"T_ae9fc_row0_col3\" class=\"data row0 col3\" >0</td>\n",
       "      <td id=\"T_ae9fc_row0_col4\" class=\"data row0 col4\" >0</td>\n",
       "      <td id=\"T_ae9fc_row0_col5\" class=\"data row0 col5\" >0</td>\n",
       "    </tr>\n",
       "  </tbody>\n",
       "</table>\n"
      ],
      "text/plain": [
       "<pandas.io.formats.style.Styler at 0x2b08323a090>"
      ]
     },
     "metadata": {},
     "output_type": "display_data"
    },
    {
     "data": {
      "text/html": [],
      "text/plain": [
       "<IPython.core.display.HTML object>"
      ]
     },
     "metadata": {},
     "output_type": "display_data"
    },
    {
     "name": "stdout",
     "output_type": "stream",
     "text": [
      "For Cluster = 4\n"
     ]
    },
    {
     "data": {
      "text/html": [],
      "text/plain": [
       "<IPython.core.display.HTML object>"
      ]
     },
     "metadata": {},
     "output_type": "display_data"
    },
    {
     "data": {
      "text/html": [
       "<style type=\"text/css\">\n",
       "</style>\n",
       "<table id=\"T_d24d8\">\n",
       "  <thead>\n",
       "    <tr>\n",
       "      <th class=\"blank level0\" >&nbsp;</th>\n",
       "      <th id=\"T_d24d8_level0_col0\" class=\"col_heading level0 col0\" >Silhouette</th>\n",
       "      <th id=\"T_d24d8_level0_col1\" class=\"col_heading level0 col1\" >Calinski-Harabasz</th>\n",
       "      <th id=\"T_d24d8_level0_col2\" class=\"col_heading level0 col2\" >Davies-Bouldin</th>\n",
       "      <th id=\"T_d24d8_level0_col3\" class=\"col_heading level0 col3\" >Homogeneity</th>\n",
       "      <th id=\"T_d24d8_level0_col4\" class=\"col_heading level0 col4\" >Rand Index</th>\n",
       "      <th id=\"T_d24d8_level0_col5\" class=\"col_heading level0 col5\" >Completeness</th>\n",
       "    </tr>\n",
       "  </thead>\n",
       "  <tbody>\n",
       "    <tr>\n",
       "      <th id=\"T_d24d8_level0_row0\" class=\"row_heading level0 row0\" >0</th>\n",
       "      <td id=\"T_d24d8_row0_col0\" class=\"data row0 col0\" >0.9622</td>\n",
       "      <td id=\"T_d24d8_row0_col1\" class=\"data row0 col1\" >97971.5580</td>\n",
       "      <td id=\"T_d24d8_row0_col2\" class=\"data row0 col2\" >0.3984</td>\n",
       "      <td id=\"T_d24d8_row0_col3\" class=\"data row0 col3\" >0</td>\n",
       "      <td id=\"T_d24d8_row0_col4\" class=\"data row0 col4\" >0</td>\n",
       "      <td id=\"T_d24d8_row0_col5\" class=\"data row0 col5\" >0</td>\n",
       "    </tr>\n",
       "  </tbody>\n",
       "</table>\n"
      ],
      "text/plain": [
       "<pandas.io.formats.style.Styler at 0x2b0d1247a50>"
      ]
     },
     "metadata": {},
     "output_type": "display_data"
    },
    {
     "data": {
      "text/html": [],
      "text/plain": [
       "<IPython.core.display.HTML object>"
      ]
     },
     "metadata": {},
     "output_type": "display_data"
    },
    {
     "name": "stdout",
     "output_type": "stream",
     "text": [
      "For Cluster = 5\n"
     ]
    },
    {
     "data": {
      "text/html": [],
      "text/plain": [
       "<IPython.core.display.HTML object>"
      ]
     },
     "metadata": {},
     "output_type": "display_data"
    },
    {
     "data": {
      "text/html": [
       "<style type=\"text/css\">\n",
       "</style>\n",
       "<table id=\"T_e89d6\">\n",
       "  <thead>\n",
       "    <tr>\n",
       "      <th class=\"blank level0\" >&nbsp;</th>\n",
       "      <th id=\"T_e89d6_level0_col0\" class=\"col_heading level0 col0\" >Silhouette</th>\n",
       "      <th id=\"T_e89d6_level0_col1\" class=\"col_heading level0 col1\" >Calinski-Harabasz</th>\n",
       "      <th id=\"T_e89d6_level0_col2\" class=\"col_heading level0 col2\" >Davies-Bouldin</th>\n",
       "      <th id=\"T_e89d6_level0_col3\" class=\"col_heading level0 col3\" >Homogeneity</th>\n",
       "      <th id=\"T_e89d6_level0_col4\" class=\"col_heading level0 col4\" >Rand Index</th>\n",
       "      <th id=\"T_e89d6_level0_col5\" class=\"col_heading level0 col5\" >Completeness</th>\n",
       "    </tr>\n",
       "  </thead>\n",
       "  <tbody>\n",
       "    <tr>\n",
       "      <th id=\"T_e89d6_level0_row0\" class=\"row_heading level0 row0\" >0</th>\n",
       "      <td id=\"T_e89d6_row0_col0\" class=\"data row0 col0\" >0.9531</td>\n",
       "      <td id=\"T_e89d6_row0_col1\" class=\"data row0 col1\" >138960.6446</td>\n",
       "      <td id=\"T_e89d6_row0_col2\" class=\"data row0 col2\" >0.5044</td>\n",
       "      <td id=\"T_e89d6_row0_col3\" class=\"data row0 col3\" >0</td>\n",
       "      <td id=\"T_e89d6_row0_col4\" class=\"data row0 col4\" >0</td>\n",
       "      <td id=\"T_e89d6_row0_col5\" class=\"data row0 col5\" >0</td>\n",
       "    </tr>\n",
       "  </tbody>\n",
       "</table>\n"
      ],
      "text/plain": [
       "<pandas.io.formats.style.Styler at 0x2b0c9605f10>"
      ]
     },
     "metadata": {},
     "output_type": "display_data"
    },
    {
     "data": {
      "text/html": [],
      "text/plain": [
       "<IPython.core.display.HTML object>"
      ]
     },
     "metadata": {},
     "output_type": "display_data"
    },
    {
     "name": "stdout",
     "output_type": "stream",
     "text": [
      "For Cluster = 6\n"
     ]
    },
    {
     "data": {
      "text/html": [],
      "text/plain": [
       "<IPython.core.display.HTML object>"
      ]
     },
     "metadata": {},
     "output_type": "display_data"
    },
    {
     "data": {
      "text/html": [
       "<style type=\"text/css\">\n",
       "</style>\n",
       "<table id=\"T_d9769\">\n",
       "  <thead>\n",
       "    <tr>\n",
       "      <th class=\"blank level0\" >&nbsp;</th>\n",
       "      <th id=\"T_d9769_level0_col0\" class=\"col_heading level0 col0\" >Silhouette</th>\n",
       "      <th id=\"T_d9769_level0_col1\" class=\"col_heading level0 col1\" >Calinski-Harabasz</th>\n",
       "      <th id=\"T_d9769_level0_col2\" class=\"col_heading level0 col2\" >Davies-Bouldin</th>\n",
       "      <th id=\"T_d9769_level0_col3\" class=\"col_heading level0 col3\" >Homogeneity</th>\n",
       "      <th id=\"T_d9769_level0_col4\" class=\"col_heading level0 col4\" >Rand Index</th>\n",
       "      <th id=\"T_d9769_level0_col5\" class=\"col_heading level0 col5\" >Completeness</th>\n",
       "    </tr>\n",
       "  </thead>\n",
       "  <tbody>\n",
       "    <tr>\n",
       "      <th id=\"T_d9769_level0_row0\" class=\"row_heading level0 row0\" >0</th>\n",
       "      <td id=\"T_d9769_row0_col0\" class=\"data row0 col0\" >0.9531</td>\n",
       "      <td id=\"T_d9769_row0_col1\" class=\"data row0 col1\" >135290.7822</td>\n",
       "      <td id=\"T_d9769_row0_col2\" class=\"data row0 col2\" >0.6129</td>\n",
       "      <td id=\"T_d9769_row0_col3\" class=\"data row0 col3\" >0</td>\n",
       "      <td id=\"T_d9769_row0_col4\" class=\"data row0 col4\" >0</td>\n",
       "      <td id=\"T_d9769_row0_col5\" class=\"data row0 col5\" >0</td>\n",
       "    </tr>\n",
       "  </tbody>\n",
       "</table>\n"
      ],
      "text/plain": [
       "<pandas.io.formats.style.Styler at 0x2b0d1396d50>"
      ]
     },
     "metadata": {},
     "output_type": "display_data"
    },
    {
     "data": {
      "text/html": [],
      "text/plain": [
       "<IPython.core.display.HTML object>"
      ]
     },
     "metadata": {},
     "output_type": "display_data"
    }
   ],
   "source": [
    "setup(data = data, pca = True, pca_method = 'linear', verbose=False)\n",
    "print(\"For Cluster = 3\")\n",
    "x = create_model('hclust', num_clusters = 3)\n",
    "\n",
    "print(\"For Cluster = 4\")\n",
    "x = create_model('hclust', num_clusters = 4)\n",
    "\n",
    "print(\"For Cluster = 5\")\n",
    "x = create_model('hclust', num_clusters = 5)\n",
    "\n",
    "print(\"For Cluster = 6\")\n",
    "x = create_model('hclust', num_clusters = 6)"
   ]
  },
  {
   "cell_type": "markdown",
   "id": "904f90d3",
   "metadata": {},
   "source": [
    "#### Transformation\" + \"Normalization"
   ]
  },
  {
   "cell_type": "code",
   "execution_count": 38,
   "id": "1421bb15",
   "metadata": {},
   "outputs": [
    {
     "data": {
      "text/html": [],
      "text/plain": [
       "<IPython.core.display.HTML object>"
      ]
     },
     "metadata": {},
     "output_type": "display_data"
    },
    {
     "data": {
      "text/html": [
       "<style type=\"text/css\">\n",
       "</style>\n",
       "<table id=\"T_d7e89\">\n",
       "  <thead>\n",
       "    <tr>\n",
       "      <th class=\"blank level0\" >&nbsp;</th>\n",
       "      <th id=\"T_d7e89_level0_col0\" class=\"col_heading level0 col0\" >Silhouette</th>\n",
       "      <th id=\"T_d7e89_level0_col1\" class=\"col_heading level0 col1\" >Calinski-Harabasz</th>\n",
       "      <th id=\"T_d7e89_level0_col2\" class=\"col_heading level0 col2\" >Davies-Bouldin</th>\n",
       "      <th id=\"T_d7e89_level0_col3\" class=\"col_heading level0 col3\" >Homogeneity</th>\n",
       "      <th id=\"T_d7e89_level0_col4\" class=\"col_heading level0 col4\" >Rand Index</th>\n",
       "      <th id=\"T_d7e89_level0_col5\" class=\"col_heading level0 col5\" >Completeness</th>\n",
       "    </tr>\n",
       "  </thead>\n",
       "  <tbody>\n",
       "    <tr>\n",
       "      <th id=\"T_d7e89_level0_row0\" class=\"row_heading level0 row0\" >0</th>\n",
       "      <td id=\"T_d7e89_row0_col0\" class=\"data row0 col0\" >-0.2329</td>\n",
       "      <td id=\"T_d7e89_row0_col1\" class=\"data row0 col1\" >8.4222</td>\n",
       "      <td id=\"T_d7e89_row0_col2\" class=\"data row0 col2\" >6.2537</td>\n",
       "      <td id=\"T_d7e89_row0_col3\" class=\"data row0 col3\" >0</td>\n",
       "      <td id=\"T_d7e89_row0_col4\" class=\"data row0 col4\" >0</td>\n",
       "      <td id=\"T_d7e89_row0_col5\" class=\"data row0 col5\" >0</td>\n",
       "    </tr>\n",
       "  </tbody>\n",
       "</table>\n"
      ],
      "text/plain": [
       "<pandas.io.formats.style.Styler at 0x2b0ca052290>"
      ]
     },
     "metadata": {},
     "output_type": "display_data"
    },
    {
     "data": {
      "text/html": [],
      "text/plain": [
       "<IPython.core.display.HTML object>"
      ]
     },
     "metadata": {},
     "output_type": "display_data"
    },
    {
     "data": {
      "text/html": [],
      "text/plain": [
       "<IPython.core.display.HTML object>"
      ]
     },
     "metadata": {},
     "output_type": "display_data"
    },
    {
     "data": {
      "image/png": "[encoded data removed]",
      "text/plain": [
       "<Figure size 800x550 with 1 Axes>"
      ]
     },
     "metadata": {},
     "output_type": "display_data"
    }
   ],
   "source": [
    "setup(data = data, transformation = True, normalize = True,\n",
    "      normalize_method = 'zscore', transformation_method = 'yeo-johnson', verbose=False)\n",
    "x = create_model('kmeans')\n",
    "plot_model(x, plot = 'elbow')"
   ]
  },
  {
   "cell_type": "code",
   "execution_count": 39,
   "id": "cd2ee637",
   "metadata": {
    "scrolled": false
   },
   "outputs": [
    {
     "name": "stdout",
     "output_type": "stream",
     "text": [
      "For Cluster = 3\n"
     ]
    },
    {
     "data": {
      "text/html": [],
      "text/plain": [
       "<IPython.core.display.HTML object>"
      ]
     },
     "metadata": {},
     "output_type": "display_data"
    },
    {
     "data": {
      "text/html": [
       "<style type=\"text/css\">\n",
       "</style>\n",
       "<table id=\"T_5b031\">\n",
       "  <thead>\n",
       "    <tr>\n",
       "      <th class=\"blank level0\" >&nbsp;</th>\n",
       "      <th id=\"T_5b031_level0_col0\" class=\"col_heading level0 col0\" >Silhouette</th>\n",
       "      <th id=\"T_5b031_level0_col1\" class=\"col_heading level0 col1\" >Calinski-Harabasz</th>\n",
       "      <th id=\"T_5b031_level0_col2\" class=\"col_heading level0 col2\" >Davies-Bouldin</th>\n",
       "      <th id=\"T_5b031_level0_col3\" class=\"col_heading level0 col3\" >Homogeneity</th>\n",
       "      <th id=\"T_5b031_level0_col4\" class=\"col_heading level0 col4\" >Rand Index</th>\n",
       "      <th id=\"T_5b031_level0_col5\" class=\"col_heading level0 col5\" >Completeness</th>\n",
       "    </tr>\n",
       "  </thead>\n",
       "  <tbody>\n",
       "    <tr>\n",
       "      <th id=\"T_5b031_level0_row0\" class=\"row_heading level0 row0\" >0</th>\n",
       "      <td id=\"T_5b031_row0_col0\" class=\"data row0 col0\" >0.0274</td>\n",
       "      <td id=\"T_5b031_row0_col1\" class=\"data row0 col1\" >11.8183</td>\n",
       "      <td id=\"T_5b031_row0_col2\" class=\"data row0 col2\" >7.1112</td>\n",
       "      <td id=\"T_5b031_row0_col3\" class=\"data row0 col3\" >0</td>\n",
       "      <td id=\"T_5b031_row0_col4\" class=\"data row0 col4\" >0</td>\n",
       "      <td id=\"T_5b031_row0_col5\" class=\"data row0 col5\" >0</td>\n",
       "    </tr>\n",
       "  </tbody>\n",
       "</table>\n"
      ],
      "text/plain": [
       "<pandas.io.formats.style.Styler at 0x2b0c9887c50>"
      ]
     },
     "metadata": {},
     "output_type": "display_data"
    },
    {
     "data": {
      "text/html": [],
      "text/plain": [
       "<IPython.core.display.HTML object>"
      ]
     },
     "metadata": {},
     "output_type": "display_data"
    },
    {
     "name": "stdout",
     "output_type": "stream",
     "text": [
      "For Cluster = 4\n"
     ]
    },
    {
     "data": {
      "text/html": [],
      "text/plain": [
       "<IPython.core.display.HTML object>"
      ]
     },
     "metadata": {},
     "output_type": "display_data"
    },
    {
     "data": {
      "text/html": [
       "<style type=\"text/css\">\n",
       "</style>\n",
       "<table id=\"T_0ccb4\">\n",
       "  <thead>\n",
       "    <tr>\n",
       "      <th class=\"blank level0\" >&nbsp;</th>\n",
       "      <th id=\"T_0ccb4_level0_col0\" class=\"col_heading level0 col0\" >Silhouette</th>\n",
       "      <th id=\"T_0ccb4_level0_col1\" class=\"col_heading level0 col1\" >Calinski-Harabasz</th>\n",
       "      <th id=\"T_0ccb4_level0_col2\" class=\"col_heading level0 col2\" >Davies-Bouldin</th>\n",
       "      <th id=\"T_0ccb4_level0_col3\" class=\"col_heading level0 col3\" >Homogeneity</th>\n",
       "      <th id=\"T_0ccb4_level0_col4\" class=\"col_heading level0 col4\" >Rand Index</th>\n",
       "      <th id=\"T_0ccb4_level0_col5\" class=\"col_heading level0 col5\" >Completeness</th>\n",
       "    </tr>\n",
       "  </thead>\n",
       "  <tbody>\n",
       "    <tr>\n",
       "      <th id=\"T_0ccb4_level0_row0\" class=\"row_heading level0 row0\" >0</th>\n",
       "      <td id=\"T_0ccb4_row0_col0\" class=\"data row0 col0\" >0.0248</td>\n",
       "      <td id=\"T_0ccb4_row0_col1\" class=\"data row0 col1\" >8.4578</td>\n",
       "      <td id=\"T_0ccb4_row0_col2\" class=\"data row0 col2\" >5.8137</td>\n",
       "      <td id=\"T_0ccb4_row0_col3\" class=\"data row0 col3\" >0</td>\n",
       "      <td id=\"T_0ccb4_row0_col4\" class=\"data row0 col4\" >0</td>\n",
       "      <td id=\"T_0ccb4_row0_col5\" class=\"data row0 col5\" >0</td>\n",
       "    </tr>\n",
       "  </tbody>\n",
       "</table>\n"
      ],
      "text/plain": [
       "<pandas.io.formats.style.Styler at 0x2b0ca114710>"
      ]
     },
     "metadata": {},
     "output_type": "display_data"
    },
    {
     "data": {
      "text/html": [],
      "text/plain": [
       "<IPython.core.display.HTML object>"
      ]
     },
     "metadata": {},
     "output_type": "display_data"
    },
    {
     "name": "stdout",
     "output_type": "stream",
     "text": [
      "For Cluster = 5\n"
     ]
    },
    {
     "data": {
      "text/html": [],
      "text/plain": [
       "<IPython.core.display.HTML object>"
      ]
     },
     "metadata": {},
     "output_type": "display_data"
    },
    {
     "data": {
      "text/html": [
       "<style type=\"text/css\">\n",
       "</style>\n",
       "<table id=\"T_305a2\">\n",
       "  <thead>\n",
       "    <tr>\n",
       "      <th class=\"blank level0\" >&nbsp;</th>\n",
       "      <th id=\"T_305a2_level0_col0\" class=\"col_heading level0 col0\" >Silhouette</th>\n",
       "      <th id=\"T_305a2_level0_col1\" class=\"col_heading level0 col1\" >Calinski-Harabasz</th>\n",
       "      <th id=\"T_305a2_level0_col2\" class=\"col_heading level0 col2\" >Davies-Bouldin</th>\n",
       "      <th id=\"T_305a2_level0_col3\" class=\"col_heading level0 col3\" >Homogeneity</th>\n",
       "      <th id=\"T_305a2_level0_col4\" class=\"col_heading level0 col4\" >Rand Index</th>\n",
       "      <th id=\"T_305a2_level0_col5\" class=\"col_heading level0 col5\" >Completeness</th>\n",
       "    </tr>\n",
       "  </thead>\n",
       "  <tbody>\n",
       "    <tr>\n",
       "      <th id=\"T_305a2_level0_row0\" class=\"row_heading level0 row0\" >0</th>\n",
       "      <td id=\"T_305a2_row0_col0\" class=\"data row0 col0\" >0.0245</td>\n",
       "      <td id=\"T_305a2_row0_col1\" class=\"data row0 col1\" >6.7700</td>\n",
       "      <td id=\"T_305a2_row0_col2\" class=\"data row0 col2\" >4.7896</td>\n",
       "      <td id=\"T_305a2_row0_col3\" class=\"data row0 col3\" >0</td>\n",
       "      <td id=\"T_305a2_row0_col4\" class=\"data row0 col4\" >0</td>\n",
       "      <td id=\"T_305a2_row0_col5\" class=\"data row0 col5\" >0</td>\n",
       "    </tr>\n",
       "  </tbody>\n",
       "</table>\n"
      ],
      "text/plain": [
       "<pandas.io.formats.style.Styler at 0x2b0c9713c10>"
      ]
     },
     "metadata": {},
     "output_type": "display_data"
    },
    {
     "data": {
      "text/html": [],
      "text/plain": [
       "<IPython.core.display.HTML object>"
      ]
     },
     "metadata": {},
     "output_type": "display_data"
    },
    {
     "name": "stdout",
     "output_type": "stream",
     "text": [
      "For Cluster = 6\n"
     ]
    },
    {
     "data": {
      "text/html": [],
      "text/plain": [
       "<IPython.core.display.HTML object>"
      ]
     },
     "metadata": {},
     "output_type": "display_data"
    },
    {
     "data": {
      "text/html": [
       "<style type=\"text/css\">\n",
       "</style>\n",
       "<table id=\"T_26b72\">\n",
       "  <thead>\n",
       "    <tr>\n",
       "      <th class=\"blank level0\" >&nbsp;</th>\n",
       "      <th id=\"T_26b72_level0_col0\" class=\"col_heading level0 col0\" >Silhouette</th>\n",
       "      <th id=\"T_26b72_level0_col1\" class=\"col_heading level0 col1\" >Calinski-Harabasz</th>\n",
       "      <th id=\"T_26b72_level0_col2\" class=\"col_heading level0 col2\" >Davies-Bouldin</th>\n",
       "      <th id=\"T_26b72_level0_col3\" class=\"col_heading level0 col3\" >Homogeneity</th>\n",
       "      <th id=\"T_26b72_level0_col4\" class=\"col_heading level0 col4\" >Rand Index</th>\n",
       "      <th id=\"T_26b72_level0_col5\" class=\"col_heading level0 col5\" >Completeness</th>\n",
       "    </tr>\n",
       "  </thead>\n",
       "  <tbody>\n",
       "    <tr>\n",
       "      <th id=\"T_26b72_level0_row0\" class=\"row_heading level0 row0\" >0</th>\n",
       "      <td id=\"T_26b72_row0_col0\" class=\"data row0 col0\" >-0.1097</td>\n",
       "      <td id=\"T_26b72_row0_col1\" class=\"data row0 col1\" >5.7386</td>\n",
       "      <td id=\"T_26b72_row0_col2\" class=\"data row0 col2\" >4.1648</td>\n",
       "      <td id=\"T_26b72_row0_col3\" class=\"data row0 col3\" >0</td>\n",
       "      <td id=\"T_26b72_row0_col4\" class=\"data row0 col4\" >0</td>\n",
       "      <td id=\"T_26b72_row0_col5\" class=\"data row0 col5\" >0</td>\n",
       "    </tr>\n",
       "  </tbody>\n",
       "</table>\n"
      ],
      "text/plain": [
       "<pandas.io.formats.style.Styler at 0x2b0833b4b50>"
      ]
     },
     "metadata": {},
     "output_type": "display_data"
    },
    {
     "data": {
      "text/html": [],
      "text/plain": [
       "<IPython.core.display.HTML object>"
      ]
     },
     "metadata": {},
     "output_type": "display_data"
    }
   ],
   "source": [
    "setup(data = data, transformation = True, normalize = True,\n",
    "      normalize_method = 'zscore', transformation_method = 'yeo-johnson', verbose=False)\n",
    "\n",
    "print(\"For Cluster = 3\")\n",
    "x = create_model('kmeans', num_clusters = 3)\n",
    "\n",
    "print(\"For Cluster = 4\")\n",
    "x = create_model('kmeans', num_clusters = 4)\n",
    "\n",
    "print(\"For Cluster = 5\")\n",
    "x = create_model('kmeans', num_clusters = 5)\n",
    "\n",
    "print(\"For Cluster = 6\")\n",
    "x = create_model('kmeans', num_clusters = 6)"
   ]
  },
  {
   "cell_type": "code",
   "execution_count": 40,
   "id": "fd92e101",
   "metadata": {},
   "outputs": [
    {
     "name": "stdout",
     "output_type": "stream",
     "text": [
      "For Cluster = 3\n"
     ]
    },
    {
     "data": {
      "text/html": [],
      "text/plain": [
       "<IPython.core.display.HTML object>"
      ]
     },
     "metadata": {},
     "output_type": "display_data"
    },
    {
     "data": {
      "text/html": [
       "<style type=\"text/css\">\n",
       "</style>\n",
       "<table id=\"T_6afee\">\n",
       "  <thead>\n",
       "    <tr>\n",
       "      <th class=\"blank level0\" >&nbsp;</th>\n",
       "      <th id=\"T_6afee_level0_col0\" class=\"col_heading level0 col0\" >Silhouette</th>\n",
       "      <th id=\"T_6afee_level0_col1\" class=\"col_heading level0 col1\" >Calinski-Harabasz</th>\n",
       "      <th id=\"T_6afee_level0_col2\" class=\"col_heading level0 col2\" >Davies-Bouldin</th>\n",
       "      <th id=\"T_6afee_level0_col3\" class=\"col_heading level0 col3\" >Homogeneity</th>\n",
       "      <th id=\"T_6afee_level0_col4\" class=\"col_heading level0 col4\" >Rand Index</th>\n",
       "      <th id=\"T_6afee_level0_col5\" class=\"col_heading level0 col5\" >Completeness</th>\n",
       "    </tr>\n",
       "  </thead>\n",
       "  <tbody>\n",
       "    <tr>\n",
       "      <th id=\"T_6afee_level0_row0\" class=\"row_heading level0 row0\" >0</th>\n",
       "      <td id=\"T_6afee_row0_col0\" class=\"data row0 col0\" >0.0826</td>\n",
       "      <td id=\"T_6afee_row0_col1\" class=\"data row0 col1\" >7.9444</td>\n",
       "      <td id=\"T_6afee_row0_col2\" class=\"data row0 col2\" >16.3154</td>\n",
       "      <td id=\"T_6afee_row0_col3\" class=\"data row0 col3\" >0</td>\n",
       "      <td id=\"T_6afee_row0_col4\" class=\"data row0 col4\" >0</td>\n",
       "      <td id=\"T_6afee_row0_col5\" class=\"data row0 col5\" >0</td>\n",
       "    </tr>\n",
       "  </tbody>\n",
       "</table>\n"
      ],
      "text/plain": [
       "<pandas.io.formats.style.Styler at 0x2b0ca089e50>"
      ]
     },
     "metadata": {},
     "output_type": "display_data"
    },
    {
     "data": {
      "text/html": [],
      "text/plain": [
       "<IPython.core.display.HTML object>"
      ]
     },
     "metadata": {},
     "output_type": "display_data"
    },
    {
     "name": "stdout",
     "output_type": "stream",
     "text": [
      "For Cluster = 4\n"
     ]
    },
    {
     "data": {
      "text/html": [],
      "text/plain": [
       "<IPython.core.display.HTML object>"
      ]
     },
     "metadata": {},
     "output_type": "display_data"
    },
    {
     "data": {
      "text/html": [
       "<style type=\"text/css\">\n",
       "</style>\n",
       "<table id=\"T_80e89\">\n",
       "  <thead>\n",
       "    <tr>\n",
       "      <th class=\"blank level0\" >&nbsp;</th>\n",
       "      <th id=\"T_80e89_level0_col0\" class=\"col_heading level0 col0\" >Silhouette</th>\n",
       "      <th id=\"T_80e89_level0_col1\" class=\"col_heading level0 col1\" >Calinski-Harabasz</th>\n",
       "      <th id=\"T_80e89_level0_col2\" class=\"col_heading level0 col2\" >Davies-Bouldin</th>\n",
       "      <th id=\"T_80e89_level0_col3\" class=\"col_heading level0 col3\" >Homogeneity</th>\n",
       "      <th id=\"T_80e89_level0_col4\" class=\"col_heading level0 col4\" >Rand Index</th>\n",
       "      <th id=\"T_80e89_level0_col5\" class=\"col_heading level0 col5\" >Completeness</th>\n",
       "    </tr>\n",
       "  </thead>\n",
       "  <tbody>\n",
       "    <tr>\n",
       "      <th id=\"T_80e89_level0_row0\" class=\"row_heading level0 row0\" >0</th>\n",
       "      <td id=\"T_80e89_row0_col0\" class=\"data row0 col0\" >0.0543</td>\n",
       "      <td id=\"T_80e89_row0_col1\" class=\"data row0 col1\" >6.6567</td>\n",
       "      <td id=\"T_80e89_row0_col2\" class=\"data row0 col2\" >15.2798</td>\n",
       "      <td id=\"T_80e89_row0_col3\" class=\"data row0 col3\" >0</td>\n",
       "      <td id=\"T_80e89_row0_col4\" class=\"data row0 col4\" >0</td>\n",
       "      <td id=\"T_80e89_row0_col5\" class=\"data row0 col5\" >0</td>\n",
       "    </tr>\n",
       "  </tbody>\n",
       "</table>\n"
      ],
      "text/plain": [
       "<pandas.io.formats.style.Styler at 0x2b08db07a50>"
      ]
     },
     "metadata": {},
     "output_type": "display_data"
    },
    {
     "data": {
      "text/html": [],
      "text/plain": [
       "<IPython.core.display.HTML object>"
      ]
     },
     "metadata": {},
     "output_type": "display_data"
    },
    {
     "name": "stdout",
     "output_type": "stream",
     "text": [
      "For Cluster = 5\n"
     ]
    },
    {
     "data": {
      "text/html": [],
      "text/plain": [
       "<IPython.core.display.HTML object>"
      ]
     },
     "metadata": {},
     "output_type": "display_data"
    },
    {
     "data": {
      "text/html": [
       "<style type=\"text/css\">\n",
       "</style>\n",
       "<table id=\"T_b8d94\">\n",
       "  <thead>\n",
       "    <tr>\n",
       "      <th class=\"blank level0\" >&nbsp;</th>\n",
       "      <th id=\"T_b8d94_level0_col0\" class=\"col_heading level0 col0\" >Silhouette</th>\n",
       "      <th id=\"T_b8d94_level0_col1\" class=\"col_heading level0 col1\" >Calinski-Harabasz</th>\n",
       "      <th id=\"T_b8d94_level0_col2\" class=\"col_heading level0 col2\" >Davies-Bouldin</th>\n",
       "      <th id=\"T_b8d94_level0_col3\" class=\"col_heading level0 col3\" >Homogeneity</th>\n",
       "      <th id=\"T_b8d94_level0_col4\" class=\"col_heading level0 col4\" >Rand Index</th>\n",
       "      <th id=\"T_b8d94_level0_col5\" class=\"col_heading level0 col5\" >Completeness</th>\n",
       "    </tr>\n",
       "  </thead>\n",
       "  <tbody>\n",
       "    <tr>\n",
       "      <th id=\"T_b8d94_level0_row0\" class=\"row_heading level0 row0\" >0</th>\n",
       "      <td id=\"T_b8d94_row0_col0\" class=\"data row0 col0\" >0.0545</td>\n",
       "      <td id=\"T_b8d94_row0_col1\" class=\"data row0 col1\" >5.9218</td>\n",
       "      <td id=\"T_b8d94_row0_col2\" class=\"data row0 col2\" >13.5921</td>\n",
       "      <td id=\"T_b8d94_row0_col3\" class=\"data row0 col3\" >0</td>\n",
       "      <td id=\"T_b8d94_row0_col4\" class=\"data row0 col4\" >0</td>\n",
       "      <td id=\"T_b8d94_row0_col5\" class=\"data row0 col5\" >0</td>\n",
       "    </tr>\n",
       "  </tbody>\n",
       "</table>\n"
      ],
      "text/plain": [
       "<pandas.io.formats.style.Styler at 0x2b08db0fa50>"
      ]
     },
     "metadata": {},
     "output_type": "display_data"
    },
    {
     "data": {
      "text/html": [],
      "text/plain": [
       "<IPython.core.display.HTML object>"
      ]
     },
     "metadata": {},
     "output_type": "display_data"
    },
    {
     "name": "stdout",
     "output_type": "stream",
     "text": [
      "For Cluster = 6\n"
     ]
    },
    {
     "data": {
      "text/html": [],
      "text/plain": [
       "<IPython.core.display.HTML object>"
      ]
     },
     "metadata": {},
     "output_type": "display_data"
    },
    {
     "data": {
      "text/html": [
       "<style type=\"text/css\">\n",
       "</style>\n",
       "<table id=\"T_ae659\">\n",
       "  <thead>\n",
       "    <tr>\n",
       "      <th class=\"blank level0\" >&nbsp;</th>\n",
       "      <th id=\"T_ae659_level0_col0\" class=\"col_heading level0 col0\" >Silhouette</th>\n",
       "      <th id=\"T_ae659_level0_col1\" class=\"col_heading level0 col1\" >Calinski-Harabasz</th>\n",
       "      <th id=\"T_ae659_level0_col2\" class=\"col_heading level0 col2\" >Davies-Bouldin</th>\n",
       "      <th id=\"T_ae659_level0_col3\" class=\"col_heading level0 col3\" >Homogeneity</th>\n",
       "      <th id=\"T_ae659_level0_col4\" class=\"col_heading level0 col4\" >Rand Index</th>\n",
       "      <th id=\"T_ae659_level0_col5\" class=\"col_heading level0 col5\" >Completeness</th>\n",
       "    </tr>\n",
       "  </thead>\n",
       "  <tbody>\n",
       "    <tr>\n",
       "      <th id=\"T_ae659_level0_row0\" class=\"row_heading level0 row0\" >0</th>\n",
       "      <td id=\"T_ae659_row0_col0\" class=\"data row0 col0\" >-0.0170</td>\n",
       "      <td id=\"T_ae659_row0_col1\" class=\"data row0 col1\" >5.4570</td>\n",
       "      <td id=\"T_ae659_row0_col2\" class=\"data row0 col2\" >14.6493</td>\n",
       "      <td id=\"T_ae659_row0_col3\" class=\"data row0 col3\" >0</td>\n",
       "      <td id=\"T_ae659_row0_col4\" class=\"data row0 col4\" >0</td>\n",
       "      <td id=\"T_ae659_row0_col5\" class=\"data row0 col5\" >0</td>\n",
       "    </tr>\n",
       "  </tbody>\n",
       "</table>\n"
      ],
      "text/plain": [
       "<pandas.io.formats.style.Styler at 0x2b091921dd0>"
      ]
     },
     "metadata": {},
     "output_type": "display_data"
    },
    {
     "data": {
      "text/html": [],
      "text/plain": [
       "<IPython.core.display.HTML object>"
      ]
     },
     "metadata": {},
     "output_type": "display_data"
    }
   ],
   "source": [
    "setup(data = data, transformation = True, normalize = True,\n",
    "      normalize_method = 'zscore', transformation_method = 'yeo-johnson', verbose=False)\n",
    "print(\"For Cluster = 3\")\n",
    "x = create_model('birch', num_clusters = 3)\n",
    "\n",
    "print(\"For Cluster = 4\")\n",
    "x = create_model('birch', num_clusters = 4)\n",
    "\n",
    "print(\"For Cluster = 5\")\n",
    "x = create_model('birch', num_clusters = 5)\n",
    "\n",
    "print(\"For Cluster = 6\")\n",
    "x = create_model('birch', num_clusters = 6)"
   ]
  },
  {
   "cell_type": "code",
   "execution_count": 41,
   "id": "cd2394f1",
   "metadata": {},
   "outputs": [
    {
     "name": "stdout",
     "output_type": "stream",
     "text": [
      "For Cluster = 3\n"
     ]
    },
    {
     "data": {
      "text/html": [],
      "text/plain": [
       "<IPython.core.display.HTML object>"
      ]
     },
     "metadata": {},
     "output_type": "display_data"
    },
    {
     "data": {
      "text/html": [
       "<style type=\"text/css\">\n",
       "</style>\n",
       "<table id=\"T_45876\">\n",
       "  <thead>\n",
       "    <tr>\n",
       "      <th class=\"blank level0\" >&nbsp;</th>\n",
       "      <th id=\"T_45876_level0_col0\" class=\"col_heading level0 col0\" >Silhouette</th>\n",
       "      <th id=\"T_45876_level0_col1\" class=\"col_heading level0 col1\" >Calinski-Harabasz</th>\n",
       "      <th id=\"T_45876_level0_col2\" class=\"col_heading level0 col2\" >Davies-Bouldin</th>\n",
       "      <th id=\"T_45876_level0_col3\" class=\"col_heading level0 col3\" >Homogeneity</th>\n",
       "      <th id=\"T_45876_level0_col4\" class=\"col_heading level0 col4\" >Rand Index</th>\n",
       "      <th id=\"T_45876_level0_col5\" class=\"col_heading level0 col5\" >Completeness</th>\n",
       "    </tr>\n",
       "  </thead>\n",
       "  <tbody>\n",
       "    <tr>\n",
       "      <th id=\"T_45876_level0_row0\" class=\"row_heading level0 row0\" >0</th>\n",
       "      <td id=\"T_45876_row0_col0\" class=\"data row0 col0\" >0.0826</td>\n",
       "      <td id=\"T_45876_row0_col1\" class=\"data row0 col1\" >7.9444</td>\n",
       "      <td id=\"T_45876_row0_col2\" class=\"data row0 col2\" >16.3154</td>\n",
       "      <td id=\"T_45876_row0_col3\" class=\"data row0 col3\" >0</td>\n",
       "      <td id=\"T_45876_row0_col4\" class=\"data row0 col4\" >0</td>\n",
       "      <td id=\"T_45876_row0_col5\" class=\"data row0 col5\" >0</td>\n",
       "    </tr>\n",
       "  </tbody>\n",
       "</table>\n"
      ],
      "text/plain": [
       "<pandas.io.formats.style.Styler at 0x2b0cfbb7a50>"
      ]
     },
     "metadata": {},
     "output_type": "display_data"
    },
    {
     "data": {
      "text/html": [],
      "text/plain": [
       "<IPython.core.display.HTML object>"
      ]
     },
     "metadata": {},
     "output_type": "display_data"
    },
    {
     "name": "stdout",
     "output_type": "stream",
     "text": [
      "For Cluster = 4\n"
     ]
    },
    {
     "data": {
      "text/html": [],
      "text/plain": [
       "<IPython.core.display.HTML object>"
      ]
     },
     "metadata": {},
     "output_type": "display_data"
    },
    {
     "data": {
      "text/html": [
       "<style type=\"text/css\">\n",
       "</style>\n",
       "<table id=\"T_f245f\">\n",
       "  <thead>\n",
       "    <tr>\n",
       "      <th class=\"blank level0\" >&nbsp;</th>\n",
       "      <th id=\"T_f245f_level0_col0\" class=\"col_heading level0 col0\" >Silhouette</th>\n",
       "      <th id=\"T_f245f_level0_col1\" class=\"col_heading level0 col1\" >Calinski-Harabasz</th>\n",
       "      <th id=\"T_f245f_level0_col2\" class=\"col_heading level0 col2\" >Davies-Bouldin</th>\n",
       "      <th id=\"T_f245f_level0_col3\" class=\"col_heading level0 col3\" >Homogeneity</th>\n",
       "      <th id=\"T_f245f_level0_col4\" class=\"col_heading level0 col4\" >Rand Index</th>\n",
       "      <th id=\"T_f245f_level0_col5\" class=\"col_heading level0 col5\" >Completeness</th>\n",
       "    </tr>\n",
       "  </thead>\n",
       "  <tbody>\n",
       "    <tr>\n",
       "      <th id=\"T_f245f_level0_row0\" class=\"row_heading level0 row0\" >0</th>\n",
       "      <td id=\"T_f245f_row0_col0\" class=\"data row0 col0\" >0.0543</td>\n",
       "      <td id=\"T_f245f_row0_col1\" class=\"data row0 col1\" >6.6567</td>\n",
       "      <td id=\"T_f245f_row0_col2\" class=\"data row0 col2\" >15.2798</td>\n",
       "      <td id=\"T_f245f_row0_col3\" class=\"data row0 col3\" >0</td>\n",
       "      <td id=\"T_f245f_row0_col4\" class=\"data row0 col4\" >0</td>\n",
       "      <td id=\"T_f245f_row0_col5\" class=\"data row0 col5\" >0</td>\n",
       "    </tr>\n",
       "  </tbody>\n",
       "</table>\n"
      ],
      "text/plain": [
       "<pandas.io.formats.style.Styler at 0x2b0cfbaa090>"
      ]
     },
     "metadata": {},
     "output_type": "display_data"
    },
    {
     "data": {
      "text/html": [],
      "text/plain": [
       "<IPython.core.display.HTML object>"
      ]
     },
     "metadata": {},
     "output_type": "display_data"
    },
    {
     "name": "stdout",
     "output_type": "stream",
     "text": [
      "For Cluster = 5\n"
     ]
    },
    {
     "data": {
      "text/html": [],
      "text/plain": [
       "<IPython.core.display.HTML object>"
      ]
     },
     "metadata": {},
     "output_type": "display_data"
    },
    {
     "data": {
      "text/html": [
       "<style type=\"text/css\">\n",
       "</style>\n",
       "<table id=\"T_81586\">\n",
       "  <thead>\n",
       "    <tr>\n",
       "      <th class=\"blank level0\" >&nbsp;</th>\n",
       "      <th id=\"T_81586_level0_col0\" class=\"col_heading level0 col0\" >Silhouette</th>\n",
       "      <th id=\"T_81586_level0_col1\" class=\"col_heading level0 col1\" >Calinski-Harabasz</th>\n",
       "      <th id=\"T_81586_level0_col2\" class=\"col_heading level0 col2\" >Davies-Bouldin</th>\n",
       "      <th id=\"T_81586_level0_col3\" class=\"col_heading level0 col3\" >Homogeneity</th>\n",
       "      <th id=\"T_81586_level0_col4\" class=\"col_heading level0 col4\" >Rand Index</th>\n",
       "      <th id=\"T_81586_level0_col5\" class=\"col_heading level0 col5\" >Completeness</th>\n",
       "    </tr>\n",
       "  </thead>\n",
       "  <tbody>\n",
       "    <tr>\n",
       "      <th id=\"T_81586_level0_row0\" class=\"row_heading level0 row0\" >0</th>\n",
       "      <td id=\"T_81586_row0_col0\" class=\"data row0 col0\" >0.0545</td>\n",
       "      <td id=\"T_81586_row0_col1\" class=\"data row0 col1\" >5.9218</td>\n",
       "      <td id=\"T_81586_row0_col2\" class=\"data row0 col2\" >13.5921</td>\n",
       "      <td id=\"T_81586_row0_col3\" class=\"data row0 col3\" >0</td>\n",
       "      <td id=\"T_81586_row0_col4\" class=\"data row0 col4\" >0</td>\n",
       "      <td id=\"T_81586_row0_col5\" class=\"data row0 col5\" >0</td>\n",
       "    </tr>\n",
       "  </tbody>\n",
       "</table>\n"
      ],
      "text/plain": [
       "<pandas.io.formats.style.Styler at 0x2b0c96f0390>"
      ]
     },
     "metadata": {},
     "output_type": "display_data"
    },
    {
     "data": {
      "text/html": [],
      "text/plain": [
       "<IPython.core.display.HTML object>"
      ]
     },
     "metadata": {},
     "output_type": "display_data"
    },
    {
     "name": "stdout",
     "output_type": "stream",
     "text": [
      "For Cluster = 6\n"
     ]
    },
    {
     "data": {
      "text/html": [],
      "text/plain": [
       "<IPython.core.display.HTML object>"
      ]
     },
     "metadata": {},
     "output_type": "display_data"
    },
    {
     "data": {
      "text/html": [
       "<style type=\"text/css\">\n",
       "</style>\n",
       "<table id=\"T_60b1b\">\n",
       "  <thead>\n",
       "    <tr>\n",
       "      <th class=\"blank level0\" >&nbsp;</th>\n",
       "      <th id=\"T_60b1b_level0_col0\" class=\"col_heading level0 col0\" >Silhouette</th>\n",
       "      <th id=\"T_60b1b_level0_col1\" class=\"col_heading level0 col1\" >Calinski-Harabasz</th>\n",
       "      <th id=\"T_60b1b_level0_col2\" class=\"col_heading level0 col2\" >Davies-Bouldin</th>\n",
       "      <th id=\"T_60b1b_level0_col3\" class=\"col_heading level0 col3\" >Homogeneity</th>\n",
       "      <th id=\"T_60b1b_level0_col4\" class=\"col_heading level0 col4\" >Rand Index</th>\n",
       "      <th id=\"T_60b1b_level0_col5\" class=\"col_heading level0 col5\" >Completeness</th>\n",
       "    </tr>\n",
       "  </thead>\n",
       "  <tbody>\n",
       "    <tr>\n",
       "      <th id=\"T_60b1b_level0_row0\" class=\"row_heading level0 row0\" >0</th>\n",
       "      <td id=\"T_60b1b_row0_col0\" class=\"data row0 col0\" >-0.0170</td>\n",
       "      <td id=\"T_60b1b_row0_col1\" class=\"data row0 col1\" >5.4570</td>\n",
       "      <td id=\"T_60b1b_row0_col2\" class=\"data row0 col2\" >14.6493</td>\n",
       "      <td id=\"T_60b1b_row0_col3\" class=\"data row0 col3\" >0</td>\n",
       "      <td id=\"T_60b1b_row0_col4\" class=\"data row0 col4\" >0</td>\n",
       "      <td id=\"T_60b1b_row0_col5\" class=\"data row0 col5\" >0</td>\n",
       "    </tr>\n",
       "  </tbody>\n",
       "</table>\n"
      ],
      "text/plain": [
       "<pandas.io.formats.style.Styler at 0x2b083233b10>"
      ]
     },
     "metadata": {},
     "output_type": "display_data"
    },
    {
     "data": {
      "text/html": [],
      "text/plain": [
       "<IPython.core.display.HTML object>"
      ]
     },
     "metadata": {},
     "output_type": "display_data"
    }
   ],
   "source": [
    "setup(data = data, transformation = True, normalize = True,\n",
    "      normalize_method = 'zscore', transformation_method = 'yeo-johnson', verbose=False)\n",
    "print(\"For Cluster = 3\")\n",
    "x = create_model('hclust', num_clusters = 3)\n",
    "\n",
    "print(\"For Cluster = 4\")\n",
    "x = create_model('hclust', num_clusters = 4)\n",
    "\n",
    "print(\"For Cluster = 5\")\n",
    "x = create_model('hclust', num_clusters = 5)\n",
    "\n",
    "print(\"For Cluster = 6\")\n",
    "x = create_model('hclust', num_clusters = 6)"
   ]
  },
  {
   "cell_type": "markdown",
   "id": "c694e0c2",
   "metadata": {},
   "source": [
    "#### Transformation\" + \"Normalization\" + \"PCA"
   ]
  },
  {
   "cell_type": "code",
   "execution_count": 42,
   "id": "f7aecd5d",
   "metadata": {},
   "outputs": [
    {
     "data": {
      "text/html": [],
      "text/plain": [
       "<IPython.core.display.HTML object>"
      ]
     },
     "metadata": {},
     "output_type": "display_data"
    },
    {
     "data": {
      "text/html": [
       "<style type=\"text/css\">\n",
       "</style>\n",
       "<table id=\"T_1d456\">\n",
       "  <thead>\n",
       "    <tr>\n",
       "      <th class=\"blank level0\" >&nbsp;</th>\n",
       "      <th id=\"T_1d456_level0_col0\" class=\"col_heading level0 col0\" >Silhouette</th>\n",
       "      <th id=\"T_1d456_level0_col1\" class=\"col_heading level0 col1\" >Calinski-Harabasz</th>\n",
       "      <th id=\"T_1d456_level0_col2\" class=\"col_heading level0 col2\" >Davies-Bouldin</th>\n",
       "      <th id=\"T_1d456_level0_col3\" class=\"col_heading level0 col3\" >Homogeneity</th>\n",
       "      <th id=\"T_1d456_level0_col4\" class=\"col_heading level0 col4\" >Rand Index</th>\n",
       "      <th id=\"T_1d456_level0_col5\" class=\"col_heading level0 col5\" >Completeness</th>\n",
       "    </tr>\n",
       "  </thead>\n",
       "  <tbody>\n",
       "    <tr>\n",
       "      <th id=\"T_1d456_level0_row0\" class=\"row_heading level0 row0\" >0</th>\n",
       "      <td id=\"T_1d456_row0_col0\" class=\"data row0 col0\" >0.0250</td>\n",
       "      <td id=\"T_1d456_row0_col1\" class=\"data row0 col1\" >8.4330</td>\n",
       "      <td id=\"T_1d456_row0_col2\" class=\"data row0 col2\" >5.8145</td>\n",
       "      <td id=\"T_1d456_row0_col3\" class=\"data row0 col3\" >0</td>\n",
       "      <td id=\"T_1d456_row0_col4\" class=\"data row0 col4\" >0</td>\n",
       "      <td id=\"T_1d456_row0_col5\" class=\"data row0 col5\" >0</td>\n",
       "    </tr>\n",
       "  </tbody>\n",
       "</table>\n"
      ],
      "text/plain": [
       "<pandas.io.formats.style.Styler at 0x2b0cfb0fa50>"
      ]
     },
     "metadata": {},
     "output_type": "display_data"
    },
    {
     "data": {
      "text/html": [],
      "text/plain": [
       "<IPython.core.display.HTML object>"
      ]
     },
     "metadata": {},
     "output_type": "display_data"
    },
    {
     "data": {
      "text/html": [],
      "text/plain": [
       "<IPython.core.display.HTML object>"
      ]
     },
     "metadata": {},
     "output_type": "display_data"
    },
    {
     "data": {
      "image/png": "[encoded data removed]",
      "text/plain": [
       "<Figure size 800x550 with 1 Axes>"
      ]
     },
     "metadata": {},
     "output_type": "display_data"
    }
   ],
   "source": [
    "setup(data = data, transformation = True, normalize = True, pca = True,\n",
    "      normalize_method = 'zscore', transformation_method = 'yeo-johnson',\n",
    "      pca_method = 'linear', verbose=False)\n",
    "x = create_model('kmeans')\n",
    "plot_model(x, plot = 'elbow')"
   ]
  },
  {
   "cell_type": "code",
   "execution_count": 43,
   "id": "30ec7b7b",
   "metadata": {},
   "outputs": [
    {
     "name": "stdout",
     "output_type": "stream",
     "text": [
      "For Cluster = 3\n"
     ]
    },
    {
     "data": {
      "text/html": [],
      "text/plain": [
       "<IPython.core.display.HTML object>"
      ]
     },
     "metadata": {},
     "output_type": "display_data"
    },
    {
     "data": {
      "text/html": [
       "<style type=\"text/css\">\n",
       "</style>\n",
       "<table id=\"T_ccf32\">\n",
       "  <thead>\n",
       "    <tr>\n",
       "      <th class=\"blank level0\" >&nbsp;</th>\n",
       "      <th id=\"T_ccf32_level0_col0\" class=\"col_heading level0 col0\" >Silhouette</th>\n",
       "      <th id=\"T_ccf32_level0_col1\" class=\"col_heading level0 col1\" >Calinski-Harabasz</th>\n",
       "      <th id=\"T_ccf32_level0_col2\" class=\"col_heading level0 col2\" >Davies-Bouldin</th>\n",
       "      <th id=\"T_ccf32_level0_col3\" class=\"col_heading level0 col3\" >Homogeneity</th>\n",
       "      <th id=\"T_ccf32_level0_col4\" class=\"col_heading level0 col4\" >Rand Index</th>\n",
       "      <th id=\"T_ccf32_level0_col5\" class=\"col_heading level0 col5\" >Completeness</th>\n",
       "    </tr>\n",
       "  </thead>\n",
       "  <tbody>\n",
       "    <tr>\n",
       "      <th id=\"T_ccf32_level0_row0\" class=\"row_heading level0 row0\" >0</th>\n",
       "      <td id=\"T_ccf32_row0_col0\" class=\"data row0 col0\" >0.0242</td>\n",
       "      <td id=\"T_ccf32_row0_col1\" class=\"data row0 col1\" >11.8245</td>\n",
       "      <td id=\"T_ccf32_row0_col2\" class=\"data row0 col2\" >7.5195</td>\n",
       "      <td id=\"T_ccf32_row0_col3\" class=\"data row0 col3\" >0</td>\n",
       "      <td id=\"T_ccf32_row0_col4\" class=\"data row0 col4\" >0</td>\n",
       "      <td id=\"T_ccf32_row0_col5\" class=\"data row0 col5\" >0</td>\n",
       "    </tr>\n",
       "  </tbody>\n",
       "</table>\n"
      ],
      "text/plain": [
       "<pandas.io.formats.style.Styler at 0x2b0d12dfa50>"
      ]
     },
     "metadata": {},
     "output_type": "display_data"
    },
    {
     "data": {
      "text/html": [],
      "text/plain": [
       "<IPython.core.display.HTML object>"
      ]
     },
     "metadata": {},
     "output_type": "display_data"
    },
    {
     "name": "stdout",
     "output_type": "stream",
     "text": [
      "For Cluster = 4\n"
     ]
    },
    {
     "data": {
      "text/html": [],
      "text/plain": [
       "<IPython.core.display.HTML object>"
      ]
     },
     "metadata": {},
     "output_type": "display_data"
    },
    {
     "data": {
      "text/html": [
       "<style type=\"text/css\">\n",
       "</style>\n",
       "<table id=\"T_10793\">\n",
       "  <thead>\n",
       "    <tr>\n",
       "      <th class=\"blank level0\" >&nbsp;</th>\n",
       "      <th id=\"T_10793_level0_col0\" class=\"col_heading level0 col0\" >Silhouette</th>\n",
       "      <th id=\"T_10793_level0_col1\" class=\"col_heading level0 col1\" >Calinski-Harabasz</th>\n",
       "      <th id=\"T_10793_level0_col2\" class=\"col_heading level0 col2\" >Davies-Bouldin</th>\n",
       "      <th id=\"T_10793_level0_col3\" class=\"col_heading level0 col3\" >Homogeneity</th>\n",
       "      <th id=\"T_10793_level0_col4\" class=\"col_heading level0 col4\" >Rand Index</th>\n",
       "      <th id=\"T_10793_level0_col5\" class=\"col_heading level0 col5\" >Completeness</th>\n",
       "    </tr>\n",
       "  </thead>\n",
       "  <tbody>\n",
       "    <tr>\n",
       "      <th id=\"T_10793_level0_row0\" class=\"row_heading level0 row0\" >0</th>\n",
       "      <td id=\"T_10793_row0_col0\" class=\"data row0 col0\" >0.0249</td>\n",
       "      <td id=\"T_10793_row0_col1\" class=\"data row0 col1\" >8.4300</td>\n",
       "      <td id=\"T_10793_row0_col2\" class=\"data row0 col2\" >5.8165</td>\n",
       "      <td id=\"T_10793_row0_col3\" class=\"data row0 col3\" >0</td>\n",
       "      <td id=\"T_10793_row0_col4\" class=\"data row0 col4\" >0</td>\n",
       "      <td id=\"T_10793_row0_col5\" class=\"data row0 col5\" >0</td>\n",
       "    </tr>\n",
       "  </tbody>\n",
       "</table>\n"
      ],
      "text/plain": [
       "<pandas.io.formats.style.Styler at 0x2b0c957f590>"
      ]
     },
     "metadata": {},
     "output_type": "display_data"
    },
    {
     "data": {
      "text/html": [],
      "text/plain": [
       "<IPython.core.display.HTML object>"
      ]
     },
     "metadata": {},
     "output_type": "display_data"
    },
    {
     "name": "stdout",
     "output_type": "stream",
     "text": [
      "For Cluster = 5\n"
     ]
    },
    {
     "data": {
      "text/html": [],
      "text/plain": [
       "<IPython.core.display.HTML object>"
      ]
     },
     "metadata": {},
     "output_type": "display_data"
    },
    {
     "data": {
      "text/html": [
       "<style type=\"text/css\">\n",
       "</style>\n",
       "<table id=\"T_6b18c\">\n",
       "  <thead>\n",
       "    <tr>\n",
       "      <th class=\"blank level0\" >&nbsp;</th>\n",
       "      <th id=\"T_6b18c_level0_col0\" class=\"col_heading level0 col0\" >Silhouette</th>\n",
       "      <th id=\"T_6b18c_level0_col1\" class=\"col_heading level0 col1\" >Calinski-Harabasz</th>\n",
       "      <th id=\"T_6b18c_level0_col2\" class=\"col_heading level0 col2\" >Davies-Bouldin</th>\n",
       "      <th id=\"T_6b18c_level0_col3\" class=\"col_heading level0 col3\" >Homogeneity</th>\n",
       "      <th id=\"T_6b18c_level0_col4\" class=\"col_heading level0 col4\" >Rand Index</th>\n",
       "      <th id=\"T_6b18c_level0_col5\" class=\"col_heading level0 col5\" >Completeness</th>\n",
       "    </tr>\n",
       "  </thead>\n",
       "  <tbody>\n",
       "    <tr>\n",
       "      <th id=\"T_6b18c_level0_row0\" class=\"row_heading level0 row0\" >0</th>\n",
       "      <td id=\"T_6b18c_row0_col0\" class=\"data row0 col0\" >-0.1069</td>\n",
       "      <td id=\"T_6b18c_row0_col1\" class=\"data row0 col1\" >6.7272</td>\n",
       "      <td id=\"T_6b18c_row0_col2\" class=\"data row0 col2\" >5.0744</td>\n",
       "      <td id=\"T_6b18c_row0_col3\" class=\"data row0 col3\" >0</td>\n",
       "      <td id=\"T_6b18c_row0_col4\" class=\"data row0 col4\" >0</td>\n",
       "      <td id=\"T_6b18c_row0_col5\" class=\"data row0 col5\" >0</td>\n",
       "    </tr>\n",
       "  </tbody>\n",
       "</table>\n"
      ],
      "text/plain": [
       "<pandas.io.formats.style.Styler at 0x2b0d1397a50>"
      ]
     },
     "metadata": {},
     "output_type": "display_data"
    },
    {
     "data": {
      "text/html": [],
      "text/plain": [
       "<IPython.core.display.HTML object>"
      ]
     },
     "metadata": {},
     "output_type": "display_data"
    },
    {
     "name": "stdout",
     "output_type": "stream",
     "text": [
      "For Cluster = 6\n"
     ]
    },
    {
     "data": {
      "text/html": [],
      "text/plain": [
       "<IPython.core.display.HTML object>"
      ]
     },
     "metadata": {},
     "output_type": "display_data"
    },
    {
     "data": {
      "text/html": [
       "<style type=\"text/css\">\n",
       "</style>\n",
       "<table id=\"T_14fa4\">\n",
       "  <thead>\n",
       "    <tr>\n",
       "      <th class=\"blank level0\" >&nbsp;</th>\n",
       "      <th id=\"T_14fa4_level0_col0\" class=\"col_heading level0 col0\" >Silhouette</th>\n",
       "      <th id=\"T_14fa4_level0_col1\" class=\"col_heading level0 col1\" >Calinski-Harabasz</th>\n",
       "      <th id=\"T_14fa4_level0_col2\" class=\"col_heading level0 col2\" >Davies-Bouldin</th>\n",
       "      <th id=\"T_14fa4_level0_col3\" class=\"col_heading level0 col3\" >Homogeneity</th>\n",
       "      <th id=\"T_14fa4_level0_col4\" class=\"col_heading level0 col4\" >Rand Index</th>\n",
       "      <th id=\"T_14fa4_level0_col5\" class=\"col_heading level0 col5\" >Completeness</th>\n",
       "    </tr>\n",
       "  </thead>\n",
       "  <tbody>\n",
       "    <tr>\n",
       "      <th id=\"T_14fa4_level0_row0\" class=\"row_heading level0 row0\" >0</th>\n",
       "      <td id=\"T_14fa4_row0_col0\" class=\"data row0 col0\" >-0.1120</td>\n",
       "      <td id=\"T_14fa4_row0_col1\" class=\"data row0 col1\" >5.7176</td>\n",
       "      <td id=\"T_14fa4_row0_col2\" class=\"data row0 col2\" >4.3869</td>\n",
       "      <td id=\"T_14fa4_row0_col3\" class=\"data row0 col3\" >0</td>\n",
       "      <td id=\"T_14fa4_row0_col4\" class=\"data row0 col4\" >0</td>\n",
       "      <td id=\"T_14fa4_row0_col5\" class=\"data row0 col5\" >0</td>\n",
       "    </tr>\n",
       "  </tbody>\n",
       "</table>\n"
      ],
      "text/plain": [
       "<pandas.io.formats.style.Styler at 0x2b08dbc23d0>"
      ]
     },
     "metadata": {},
     "output_type": "display_data"
    },
    {
     "data": {
      "text/html": [],
      "text/plain": [
       "<IPython.core.display.HTML object>"
      ]
     },
     "metadata": {},
     "output_type": "display_data"
    }
   ],
   "source": [
    "setup(data = data, transformation = True, normalize = True, pca = True,\n",
    "      normalize_method = 'zscore',\n",
    "      transformation_method = 'yeo-johnson',\n",
    "      pca_method = 'linear', verbose=False)\n",
    "\n",
    "print(\"For Cluster = 3\")\n",
    "x = create_model('kmeans', num_clusters = 3)\n",
    "\n",
    "print(\"For Cluster = 4\")\n",
    "x = create_model('kmeans', num_clusters = 4)\n",
    "\n",
    "print(\"For Cluster = 5\")\n",
    "x = create_model('kmeans', num_clusters = 5)\n",
    "\n",
    "print(\"For Cluster = 6\")\n",
    "x = create_model('kmeans', num_clusters = 6)"
   ]
  },
  {
   "cell_type": "code",
   "execution_count": 44,
   "id": "7835693a",
   "metadata": {},
   "outputs": [
    {
     "name": "stdout",
     "output_type": "stream",
     "text": [
      "For Cluster = 3\n"
     ]
    },
    {
     "data": {
      "text/html": [],
      "text/plain": [
       "<IPython.core.display.HTML object>"
      ]
     },
     "metadata": {},
     "output_type": "display_data"
    },
    {
     "data": {
      "text/html": [
       "<style type=\"text/css\">\n",
       "</style>\n",
       "<table id=\"T_865d0\">\n",
       "  <thead>\n",
       "    <tr>\n",
       "      <th class=\"blank level0\" >&nbsp;</th>\n",
       "      <th id=\"T_865d0_level0_col0\" class=\"col_heading level0 col0\" >Silhouette</th>\n",
       "      <th id=\"T_865d0_level0_col1\" class=\"col_heading level0 col1\" >Calinski-Harabasz</th>\n",
       "      <th id=\"T_865d0_level0_col2\" class=\"col_heading level0 col2\" >Davies-Bouldin</th>\n",
       "      <th id=\"T_865d0_level0_col3\" class=\"col_heading level0 col3\" >Homogeneity</th>\n",
       "      <th id=\"T_865d0_level0_col4\" class=\"col_heading level0 col4\" >Rand Index</th>\n",
       "      <th id=\"T_865d0_level0_col5\" class=\"col_heading level0 col5\" >Completeness</th>\n",
       "    </tr>\n",
       "  </thead>\n",
       "  <tbody>\n",
       "    <tr>\n",
       "      <th id=\"T_865d0_level0_row0\" class=\"row_heading level0 row0\" >0</th>\n",
       "      <td id=\"T_865d0_row0_col0\" class=\"data row0 col0\" >0.0826</td>\n",
       "      <td id=\"T_865d0_row0_col1\" class=\"data row0 col1\" >7.9444</td>\n",
       "      <td id=\"T_865d0_row0_col2\" class=\"data row0 col2\" >16.3154</td>\n",
       "      <td id=\"T_865d0_row0_col3\" class=\"data row0 col3\" >0</td>\n",
       "      <td id=\"T_865d0_row0_col4\" class=\"data row0 col4\" >0</td>\n",
       "      <td id=\"T_865d0_row0_col5\" class=\"data row0 col5\" >0</td>\n",
       "    </tr>\n",
       "  </tbody>\n",
       "</table>\n"
      ],
      "text/plain": [
       "<pandas.io.formats.style.Styler at 0x2b0d1396b90>"
      ]
     },
     "metadata": {},
     "output_type": "display_data"
    },
    {
     "data": {
      "text/html": [],
      "text/plain": [
       "<IPython.core.display.HTML object>"
      ]
     },
     "metadata": {},
     "output_type": "display_data"
    },
    {
     "name": "stdout",
     "output_type": "stream",
     "text": [
      "For Cluster = 4\n"
     ]
    },
    {
     "data": {
      "text/html": [],
      "text/plain": [
       "<IPython.core.display.HTML object>"
      ]
     },
     "metadata": {},
     "output_type": "display_data"
    },
    {
     "data": {
      "text/html": [
       "<style type=\"text/css\">\n",
       "</style>\n",
       "<table id=\"T_2a35d\">\n",
       "  <thead>\n",
       "    <tr>\n",
       "      <th class=\"blank level0\" >&nbsp;</th>\n",
       "      <th id=\"T_2a35d_level0_col0\" class=\"col_heading level0 col0\" >Silhouette</th>\n",
       "      <th id=\"T_2a35d_level0_col1\" class=\"col_heading level0 col1\" >Calinski-Harabasz</th>\n",
       "      <th id=\"T_2a35d_level0_col2\" class=\"col_heading level0 col2\" >Davies-Bouldin</th>\n",
       "      <th id=\"T_2a35d_level0_col3\" class=\"col_heading level0 col3\" >Homogeneity</th>\n",
       "      <th id=\"T_2a35d_level0_col4\" class=\"col_heading level0 col4\" >Rand Index</th>\n",
       "      <th id=\"T_2a35d_level0_col5\" class=\"col_heading level0 col5\" >Completeness</th>\n",
       "    </tr>\n",
       "  </thead>\n",
       "  <tbody>\n",
       "    <tr>\n",
       "      <th id=\"T_2a35d_level0_row0\" class=\"row_heading level0 row0\" >0</th>\n",
       "      <td id=\"T_2a35d_row0_col0\" class=\"data row0 col0\" >0.0543</td>\n",
       "      <td id=\"T_2a35d_row0_col1\" class=\"data row0 col1\" >6.6567</td>\n",
       "      <td id=\"T_2a35d_row0_col2\" class=\"data row0 col2\" >15.2798</td>\n",
       "      <td id=\"T_2a35d_row0_col3\" class=\"data row0 col3\" >0</td>\n",
       "      <td id=\"T_2a35d_row0_col4\" class=\"data row0 col4\" >0</td>\n",
       "      <td id=\"T_2a35d_row0_col5\" class=\"data row0 col5\" >0</td>\n",
       "    </tr>\n",
       "  </tbody>\n",
       "</table>\n"
      ],
      "text/plain": [
       "<pandas.io.formats.style.Styler at 0x2b0d13d2090>"
      ]
     },
     "metadata": {},
     "output_type": "display_data"
    },
    {
     "data": {
      "text/html": [],
      "text/plain": [
       "<IPython.core.display.HTML object>"
      ]
     },
     "metadata": {},
     "output_type": "display_data"
    },
    {
     "name": "stdout",
     "output_type": "stream",
     "text": [
      "For Cluster = 5\n"
     ]
    },
    {
     "data": {
      "text/html": [],
      "text/plain": [
       "<IPython.core.display.HTML object>"
      ]
     },
     "metadata": {},
     "output_type": "display_data"
    },
    {
     "data": {
      "text/html": [
       "<style type=\"text/css\">\n",
       "</style>\n",
       "<table id=\"T_e1496\">\n",
       "  <thead>\n",
       "    <tr>\n",
       "      <th class=\"blank level0\" >&nbsp;</th>\n",
       "      <th id=\"T_e1496_level0_col0\" class=\"col_heading level0 col0\" >Silhouette</th>\n",
       "      <th id=\"T_e1496_level0_col1\" class=\"col_heading level0 col1\" >Calinski-Harabasz</th>\n",
       "      <th id=\"T_e1496_level0_col2\" class=\"col_heading level0 col2\" >Davies-Bouldin</th>\n",
       "      <th id=\"T_e1496_level0_col3\" class=\"col_heading level0 col3\" >Homogeneity</th>\n",
       "      <th id=\"T_e1496_level0_col4\" class=\"col_heading level0 col4\" >Rand Index</th>\n",
       "      <th id=\"T_e1496_level0_col5\" class=\"col_heading level0 col5\" >Completeness</th>\n",
       "    </tr>\n",
       "  </thead>\n",
       "  <tbody>\n",
       "    <tr>\n",
       "      <th id=\"T_e1496_level0_row0\" class=\"row_heading level0 row0\" >0</th>\n",
       "      <td id=\"T_e1496_row0_col0\" class=\"data row0 col0\" >0.0545</td>\n",
       "      <td id=\"T_e1496_row0_col1\" class=\"data row0 col1\" >5.9218</td>\n",
       "      <td id=\"T_e1496_row0_col2\" class=\"data row0 col2\" >13.5921</td>\n",
       "      <td id=\"T_e1496_row0_col3\" class=\"data row0 col3\" >0</td>\n",
       "      <td id=\"T_e1496_row0_col4\" class=\"data row0 col4\" >0</td>\n",
       "      <td id=\"T_e1496_row0_col5\" class=\"data row0 col5\" >0</td>\n",
       "    </tr>\n",
       "  </tbody>\n",
       "</table>\n"
      ],
      "text/plain": [
       "<pandas.io.formats.style.Styler at 0x2b0cfb36e10>"
      ]
     },
     "metadata": {},
     "output_type": "display_data"
    },
    {
     "data": {
      "text/html": [],
      "text/plain": [
       "<IPython.core.display.HTML object>"
      ]
     },
     "metadata": {},
     "output_type": "display_data"
    },
    {
     "name": "stdout",
     "output_type": "stream",
     "text": [
      "For Cluster = 6\n"
     ]
    },
    {
     "data": {
      "text/html": [],
      "text/plain": [
       "<IPython.core.display.HTML object>"
      ]
     },
     "metadata": {},
     "output_type": "display_data"
    },
    {
     "data": {
      "text/html": [
       "<style type=\"text/css\">\n",
       "</style>\n",
       "<table id=\"T_f5d3c\">\n",
       "  <thead>\n",
       "    <tr>\n",
       "      <th class=\"blank level0\" >&nbsp;</th>\n",
       "      <th id=\"T_f5d3c_level0_col0\" class=\"col_heading level0 col0\" >Silhouette</th>\n",
       "      <th id=\"T_f5d3c_level0_col1\" class=\"col_heading level0 col1\" >Calinski-Harabasz</th>\n",
       "      <th id=\"T_f5d3c_level0_col2\" class=\"col_heading level0 col2\" >Davies-Bouldin</th>\n",
       "      <th id=\"T_f5d3c_level0_col3\" class=\"col_heading level0 col3\" >Homogeneity</th>\n",
       "      <th id=\"T_f5d3c_level0_col4\" class=\"col_heading level0 col4\" >Rand Index</th>\n",
       "      <th id=\"T_f5d3c_level0_col5\" class=\"col_heading level0 col5\" >Completeness</th>\n",
       "    </tr>\n",
       "  </thead>\n",
       "  <tbody>\n",
       "    <tr>\n",
       "      <th id=\"T_f5d3c_level0_row0\" class=\"row_heading level0 row0\" >0</th>\n",
       "      <td id=\"T_f5d3c_row0_col0\" class=\"data row0 col0\" >-0.0170</td>\n",
       "      <td id=\"T_f5d3c_row0_col1\" class=\"data row0 col1\" >5.4570</td>\n",
       "      <td id=\"T_f5d3c_row0_col2\" class=\"data row0 col2\" >14.6493</td>\n",
       "      <td id=\"T_f5d3c_row0_col3\" class=\"data row0 col3\" >0</td>\n",
       "      <td id=\"T_f5d3c_row0_col4\" class=\"data row0 col4\" >0</td>\n",
       "      <td id=\"T_f5d3c_row0_col5\" class=\"data row0 col5\" >0</td>\n",
       "    </tr>\n",
       "  </tbody>\n",
       "</table>\n"
      ],
      "text/plain": [
       "<pandas.io.formats.style.Styler at 0x2b0c9544110>"
      ]
     },
     "metadata": {},
     "output_type": "display_data"
    },
    {
     "data": {
      "text/html": [],
      "text/plain": [
       "<IPython.core.display.HTML object>"
      ]
     },
     "metadata": {},
     "output_type": "display_data"
    }
   ],
   "source": [
    "setup(data = data, transformation = True, normalize = True, pca = True,\n",
    "      normalize_method = 'zscore', transformation_method = 'yeo-johnson',\n",
    "      pca_method = 'linear', verbose=False)\n",
    "print(\"For Cluster = 3\")\n",
    "x = create_model('birch', num_clusters = 3)\n",
    "\n",
    "print(\"For Cluster = 4\")\n",
    "x = create_model('birch', num_clusters = 4)\n",
    "\n",
    "print(\"For Cluster = 5\")\n",
    "x = create_model('birch', num_clusters = 5)\n",
    "\n",
    "print(\"For Cluster = 6\")\n",
    "x = create_model('birch', num_clusters = 6)"
   ]
  },
  {
   "cell_type": "code",
   "execution_count": 45,
   "id": "8d8af67f",
   "metadata": {},
   "outputs": [
    {
     "name": "stdout",
     "output_type": "stream",
     "text": [
      "For Cluster = 3\n"
     ]
    },
    {
     "data": {
      "text/html": [],
      "text/plain": [
       "<IPython.core.display.HTML object>"
      ]
     },
     "metadata": {},
     "output_type": "display_data"
    },
    {
     "data": {
      "text/html": [
       "<style type=\"text/css\">\n",
       "</style>\n",
       "<table id=\"T_d89ed\">\n",
       "  <thead>\n",
       "    <tr>\n",
       "      <th class=\"blank level0\" >&nbsp;</th>\n",
       "      <th id=\"T_d89ed_level0_col0\" class=\"col_heading level0 col0\" >Silhouette</th>\n",
       "      <th id=\"T_d89ed_level0_col1\" class=\"col_heading level0 col1\" >Calinski-Harabasz</th>\n",
       "      <th id=\"T_d89ed_level0_col2\" class=\"col_heading level0 col2\" >Davies-Bouldin</th>\n",
       "      <th id=\"T_d89ed_level0_col3\" class=\"col_heading level0 col3\" >Homogeneity</th>\n",
       "      <th id=\"T_d89ed_level0_col4\" class=\"col_heading level0 col4\" >Rand Index</th>\n",
       "      <th id=\"T_d89ed_level0_col5\" class=\"col_heading level0 col5\" >Completeness</th>\n",
       "    </tr>\n",
       "  </thead>\n",
       "  <tbody>\n",
       "    <tr>\n",
       "      <th id=\"T_d89ed_level0_row0\" class=\"row_heading level0 row0\" >0</th>\n",
       "      <td id=\"T_d89ed_row0_col0\" class=\"data row0 col0\" >0.0826</td>\n",
       "      <td id=\"T_d89ed_row0_col1\" class=\"data row0 col1\" >7.9444</td>\n",
       "      <td id=\"T_d89ed_row0_col2\" class=\"data row0 col2\" >16.3154</td>\n",
       "      <td id=\"T_d89ed_row0_col3\" class=\"data row0 col3\" >0</td>\n",
       "      <td id=\"T_d89ed_row0_col4\" class=\"data row0 col4\" >0</td>\n",
       "      <td id=\"T_d89ed_row0_col5\" class=\"data row0 col5\" >0</td>\n",
       "    </tr>\n",
       "  </tbody>\n",
       "</table>\n"
      ],
      "text/plain": [
       "<pandas.io.formats.style.Styler at 0x2b0ca09eb90>"
      ]
     },
     "metadata": {},
     "output_type": "display_data"
    },
    {
     "data": {
      "text/html": [],
      "text/plain": [
       "<IPython.core.display.HTML object>"
      ]
     },
     "metadata": {},
     "output_type": "display_data"
    },
    {
     "name": "stdout",
     "output_type": "stream",
     "text": [
      "For Cluster = 4\n"
     ]
    },
    {
     "data": {
      "text/html": [],
      "text/plain": [
       "<IPython.core.display.HTML object>"
      ]
     },
     "metadata": {},
     "output_type": "display_data"
    },
    {
     "data": {
      "text/html": [
       "<style type=\"text/css\">\n",
       "</style>\n",
       "<table id=\"T_6c226\">\n",
       "  <thead>\n",
       "    <tr>\n",
       "      <th class=\"blank level0\" >&nbsp;</th>\n",
       "      <th id=\"T_6c226_level0_col0\" class=\"col_heading level0 col0\" >Silhouette</th>\n",
       "      <th id=\"T_6c226_level0_col1\" class=\"col_heading level0 col1\" >Calinski-Harabasz</th>\n",
       "      <th id=\"T_6c226_level0_col2\" class=\"col_heading level0 col2\" >Davies-Bouldin</th>\n",
       "      <th id=\"T_6c226_level0_col3\" class=\"col_heading level0 col3\" >Homogeneity</th>\n",
       "      <th id=\"T_6c226_level0_col4\" class=\"col_heading level0 col4\" >Rand Index</th>\n",
       "      <th id=\"T_6c226_level0_col5\" class=\"col_heading level0 col5\" >Completeness</th>\n",
       "    </tr>\n",
       "  </thead>\n",
       "  <tbody>\n",
       "    <tr>\n",
       "      <th id=\"T_6c226_level0_row0\" class=\"row_heading level0 row0\" >0</th>\n",
       "      <td id=\"T_6c226_row0_col0\" class=\"data row0 col0\" >0.0543</td>\n",
       "      <td id=\"T_6c226_row0_col1\" class=\"data row0 col1\" >6.6567</td>\n",
       "      <td id=\"T_6c226_row0_col2\" class=\"data row0 col2\" >15.2798</td>\n",
       "      <td id=\"T_6c226_row0_col3\" class=\"data row0 col3\" >0</td>\n",
       "      <td id=\"T_6c226_row0_col4\" class=\"data row0 col4\" >0</td>\n",
       "      <td id=\"T_6c226_row0_col5\" class=\"data row0 col5\" >0</td>\n",
       "    </tr>\n",
       "  </tbody>\n",
       "</table>\n"
      ],
      "text/plain": [
       "<pandas.io.formats.style.Styler at 0x2b0cfbb7a50>"
      ]
     },
     "metadata": {},
     "output_type": "display_data"
    },
    {
     "data": {
      "text/html": [],
      "text/plain": [
       "<IPython.core.display.HTML object>"
      ]
     },
     "metadata": {},
     "output_type": "display_data"
    },
    {
     "name": "stdout",
     "output_type": "stream",
     "text": [
      "For Cluster = 5\n"
     ]
    },
    {
     "data": {
      "text/html": [],
      "text/plain": [
       "<IPython.core.display.HTML object>"
      ]
     },
     "metadata": {},
     "output_type": "display_data"
    },
    {
     "data": {
      "text/html": [
       "<style type=\"text/css\">\n",
       "</style>\n",
       "<table id=\"T_090a8\">\n",
       "  <thead>\n",
       "    <tr>\n",
       "      <th class=\"blank level0\" >&nbsp;</th>\n",
       "      <th id=\"T_090a8_level0_col0\" class=\"col_heading level0 col0\" >Silhouette</th>\n",
       "      <th id=\"T_090a8_level0_col1\" class=\"col_heading level0 col1\" >Calinski-Harabasz</th>\n",
       "      <th id=\"T_090a8_level0_col2\" class=\"col_heading level0 col2\" >Davies-Bouldin</th>\n",
       "      <th id=\"T_090a8_level0_col3\" class=\"col_heading level0 col3\" >Homogeneity</th>\n",
       "      <th id=\"T_090a8_level0_col4\" class=\"col_heading level0 col4\" >Rand Index</th>\n",
       "      <th id=\"T_090a8_level0_col5\" class=\"col_heading level0 col5\" >Completeness</th>\n",
       "    </tr>\n",
       "  </thead>\n",
       "  <tbody>\n",
       "    <tr>\n",
       "      <th id=\"T_090a8_level0_row0\" class=\"row_heading level0 row0\" >0</th>\n",
       "      <td id=\"T_090a8_row0_col0\" class=\"data row0 col0\" >0.0545</td>\n",
       "      <td id=\"T_090a8_row0_col1\" class=\"data row0 col1\" >5.9218</td>\n",
       "      <td id=\"T_090a8_row0_col2\" class=\"data row0 col2\" >13.5921</td>\n",
       "      <td id=\"T_090a8_row0_col3\" class=\"data row0 col3\" >0</td>\n",
       "      <td id=\"T_090a8_row0_col4\" class=\"data row0 col4\" >0</td>\n",
       "      <td id=\"T_090a8_row0_col5\" class=\"data row0 col5\" >0</td>\n",
       "    </tr>\n",
       "  </tbody>\n",
       "</table>\n"
      ],
      "text/plain": [
       "<pandas.io.formats.style.Styler at 0x2b0833b7190>"
      ]
     },
     "metadata": {},
     "output_type": "display_data"
    },
    {
     "data": {
      "text/html": [],
      "text/plain": [
       "<IPython.core.display.HTML object>"
      ]
     },
     "metadata": {},
     "output_type": "display_data"
    },
    {
     "name": "stdout",
     "output_type": "stream",
     "text": [
      "For Cluster = 6\n"
     ]
    },
    {
     "data": {
      "text/html": [],
      "text/plain": [
       "<IPython.core.display.HTML object>"
      ]
     },
     "metadata": {},
     "output_type": "display_data"
    },
    {
     "data": {
      "text/html": [
       "<style type=\"text/css\">\n",
       "</style>\n",
       "<table id=\"T_8549a\">\n",
       "  <thead>\n",
       "    <tr>\n",
       "      <th class=\"blank level0\" >&nbsp;</th>\n",
       "      <th id=\"T_8549a_level0_col0\" class=\"col_heading level0 col0\" >Silhouette</th>\n",
       "      <th id=\"T_8549a_level0_col1\" class=\"col_heading level0 col1\" >Calinski-Harabasz</th>\n",
       "      <th id=\"T_8549a_level0_col2\" class=\"col_heading level0 col2\" >Davies-Bouldin</th>\n",
       "      <th id=\"T_8549a_level0_col3\" class=\"col_heading level0 col3\" >Homogeneity</th>\n",
       "      <th id=\"T_8549a_level0_col4\" class=\"col_heading level0 col4\" >Rand Index</th>\n",
       "      <th id=\"T_8549a_level0_col5\" class=\"col_heading level0 col5\" >Completeness</th>\n",
       "    </tr>\n",
       "  </thead>\n",
       "  <tbody>\n",
       "    <tr>\n",
       "      <th id=\"T_8549a_level0_row0\" class=\"row_heading level0 row0\" >0</th>\n",
       "      <td id=\"T_8549a_row0_col0\" class=\"data row0 col0\" >-0.0170</td>\n",
       "      <td id=\"T_8549a_row0_col1\" class=\"data row0 col1\" >5.4570</td>\n",
       "      <td id=\"T_8549a_row0_col2\" class=\"data row0 col2\" >14.6493</td>\n",
       "      <td id=\"T_8549a_row0_col3\" class=\"data row0 col3\" >0</td>\n",
       "      <td id=\"T_8549a_row0_col4\" class=\"data row0 col4\" >0</td>\n",
       "      <td id=\"T_8549a_row0_col5\" class=\"data row0 col5\" >0</td>\n",
       "    </tr>\n",
       "  </tbody>\n",
       "</table>\n"
      ],
      "text/plain": [
       "<pandas.io.formats.style.Styler at 0x2b0d13c8a50>"
      ]
     },
     "metadata": {},
     "output_type": "display_data"
    },
    {
     "data": {
      "text/html": [],
      "text/plain": [
       "<IPython.core.display.HTML object>"
      ]
     },
     "metadata": {},
     "output_type": "display_data"
    }
   ],
   "source": [
    "setup(data = data, transformation = True, normalize = True, pca = True,\n",
    "      normalize_method = 'zscore', transformation_method = 'yeo-johnson',\n",
    "      pca_method = 'linear', verbose=False)\n",
    "print(\"For Cluster = 3\")\n",
    "x = create_model('hclust', num_clusters = 3)\n",
    "\n",
    "print(\"For Cluster = 4\")\n",
    "x = create_model('hclust', num_clusters = 4)\n",
    "\n",
    "print(\"For Cluster = 5\")\n",
    "x = create_model('hclust', num_clusters = 5)\n",
    "\n",
    "print(\"For Cluster = 6\")\n",
    "x = create_model('hclust', num_clusters = 6)"
   ]
  },
  {
   "cell_type": "code",
   "execution_count": null,
   "id": "7093dc7e",
   "metadata": {},
   "outputs": [],
   "source": []
  },
  {
   "cell_type": "code",
   "execution_count": 46,
   "id": "9705a3df",
   "metadata": {},
   "outputs": [],
   "source": [
    "import pandas as pd\n",
    "\n",
    "kmeans_results = {\n",
    "    'No Preprocessing': {\n",
    "        3: {'Silhouette': 0.9785, 'Calinski-Harabasz': 81056.9046, 'Davies-Bouldin': 0.3493},\n",
    "        4: {'Silhouette': 0.9712, 'Calinski-Harabasz': 117319.6444, 'Davies-Bouldin': 0.3388},\n",
    "        5: {'Silhouette': 0.9548, 'Calinski-Harabasz': 139821.0982, 'Davies-Bouldin': 0.5008},\n",
    "        6: {'Silhouette': 0.9513, 'Calinski-Harabasz': 141949.0340, 'Davies-Bouldin': 0.5936}\n",
    "    },\n",
    "    'Normalization': {\n",
    "        3: {'Silhouette': -0.1170, 'Calinski-Harabasz': 2.1284, 'Davies-Bouldin': 1.1555},\n",
    "        4: {'Silhouette': -0.2408, 'Calinski-Harabasz': 9.6718, 'Davies-Bouldin': 1.4228},\n",
    "        5: {'Silhouette': -0.0103, 'Calinski-Harabasz': 4.3703, 'Davies-Bouldin': 11.0926},\n",
    "        6: {'Silhouette': -0.1843, 'Calinski-Harabasz': 6.4862, 'Davies-Bouldin': 2.3624}\n",
    "    },\n",
    "    'Transformation': {\n",
    "        3: {'Silhouette': 0.5412, 'Calinski-Harabasz': 4559.6976, 'Davies-Bouldin': 0.5918},\n",
    "        4: {'Silhouette': 0.5230, 'Calinski-Harabasz': 5312.1798, 'Davies-Bouldin': 0.5617},\n",
    "        5: {'Silhouette': 0.5307, 'Calinski-Harabasz': 6128.0886, 'Davies-Bouldin': 0.5462},\n",
    "        6: {'Silhouette': 0.5220, 'Calinski-Harabasz': 6780.6577, 'Davies-Bouldin': 0.5383}\n",
    "    },\n",
    "    'PCA': {\n",
    "        3: {'Silhouette': 0.9785, 'Calinski-Harabasz': 81056.9046, 'Davies-Bouldin': 0.3493},\n",
    "        4: {'Silhouette': 0.9712, 'Calinski-Harabasz': 117319.6444, 'Davies-Bouldin': 0.3388},\n",
    "        5: {'Silhouette': 0.9548, 'Calinski-Harabasz': 139821.0982, 'Davies-Bouldin': 0.5008},\n",
    "        6: {'Silhouette': 0.9513, 'Calinski-Harabasz': 141949.0340, 'Davies-Bouldin': 0.5936}\n",
    "    },\n",
    "    'Transformation + Normalization': {\n",
    "        3: {'Silhouette': 0.0274, 'Calinski-Harabasz': 11.8183, 'Davies-Bouldin': 7.1112},\n",
    "        4: {'Silhouette': 0.0248, 'Calinski-Harabasz': 8.4578, 'Davies-Bouldin': 5.8137},\n",
    "        5: {'Silhouette': 0.0245, 'Calinski-Harabasz': 6.7700, 'Davies-Bouldin': 4.7896},\n",
    "        6: {'Silhouette': -0.1097, 'Calinski-Harabasz': 5.7386, 'Davies-Bouldin': 4.1648}\n",
    "    },\n",
    "    'Transformation + Normalization + PCA': {\n",
    "        3: {'Silhouette': 0.0242, 'Calinski-Harabasz': 11.8245, 'Davies-Bouldin': 7.5195},\n",
    "        4: {'Silhouette': 0.0249, 'Calinski-Harabasz': 8.4300, 'Davies-Bouldin': 5.8165},\n",
    "        5: {'Silhouette': -0.1069, 'Calinski-Harabasz': 6.7272, 'Davies-Bouldin': 5.0744},\n",
    "        6: {'Silhouette': -0.1120, 'Calinski-Harabasz': 5.7176, 'Davies-Bouldin': 4.3869}\n",
    "    }\n",
    "}\n",
    "\n",
    "# Create a DataFrame for each algorithm\n",
    "kmeans_df = pd.DataFrame()\n",
    "\n",
    "for preprocessing, values in kmeans_results.items():\n",
    "    preprocessing_df = pd.DataFrame(values).T\n",
    "    preprocessing_df.insert(0, 'Preprocessing', preprocessing)\n",
    "    kmeans_df = pd.concat([kmeans_df, preprocessing_df], axis=0)\n",
    "\n",
    "# Save to CSV\n",
    "kmeans_df.to_csv('kmeans_result.csv', index=True)\n"
   ]
  },
  {
   "cell_type": "code",
   "execution_count": null,
   "id": "b56c2734",
   "metadata": {},
   "outputs": [],
   "source": []
  },
  {
   "cell_type": "code",
   "execution_count": 47,
   "id": "9607cf27",
   "metadata": {},
   "outputs": [
    {
     "name": "stdout",
     "output_type": "stream",
     "text": [
      "+----+------------+--------------------------------------+------------+-------------------+----------------+\n",
      "|    | Unnamed: 0 |            Preprocessing             | Silhouette | Calinski-Harabasz | Davies-Bouldin |\n",
      "+----+------------+--------------------------------------+------------+-------------------+----------------+\n",
      "| 0  |     3      |           No Preprocessing           |   0.9785   |    81056.9046     |     0.3493     |\n",
      "| 1  |     4      |           No Preprocessing           |   0.9712   |    117319.6444    |     0.3388     |\n",
      "| 2  |     5      |           No Preprocessing           |   0.9548   |    139821.0982    |     0.5008     |\n",
      "| 3  |     6      |           No Preprocessing           |   0.9513   |    141949.034     |     0.5936     |\n",
      "| 4  |     3      |            Normalization             |   -0.117   |      2.1284       |     1.1555     |\n",
      "| 5  |     4      |            Normalization             |  -0.2408   |      9.6718       |     1.4228     |\n",
      "| 6  |     5      |            Normalization             |  -0.0103   |      4.3703       |    11.0926     |\n",
      "| 7  |     6      |            Normalization             |  -0.1843   |      6.4862       |     2.3624     |\n",
      "| 8  |     3      |            Transformation            |   0.5412   |     4559.6976     |     0.5918     |\n",
      "| 9  |     4      |            Transformation            |   0.523    |     5312.1798     |     0.5617     |\n",
      "| 10 |     5      |            Transformation            |   0.5307   |     6128.0886     |     0.5462     |\n",
      "| 11 |     6      |            Transformation            |   0.522    |     6780.6577     |     0.5383     |\n",
      "| 12 |     3      |                 PCA                  |   0.9785   |    81056.9046     |     0.3493     |\n",
      "| 13 |     4      |                 PCA                  |   0.9712   |    117319.6444    |     0.3388     |\n",
      "| 14 |     5      |                 PCA                  |   0.9548   |    139821.0982    |     0.5008     |\n",
      "| 15 |     6      |                 PCA                  |   0.9513   |    141949.034     |     0.5936     |\n",
      "| 16 |     3      |    Transformation + Normalization    |   0.0274   |      11.8183      |     7.1112     |\n",
      "| 17 |     4      |    Transformation + Normalization    |   0.0248   |      8.4578       |     5.8137     |\n",
      "| 18 |     5      |    Transformation + Normalization    |   0.0245   |       6.77        |     4.7896     |\n",
      "| 19 |     6      |    Transformation + Normalization    |  -0.1097   |      5.7386       |     4.1648     |\n",
      "| 20 |     3      | Transformation + Normalization + PCA |   0.0242   |      11.8245      |     7.5195     |\n",
      "| 21 |     4      | Transformation + Normalization + PCA |   0.0249   |       8.43        |     5.8165     |\n",
      "| 22 |     5      | Transformation + Normalization + PCA |  -0.1069   |      6.7272       |     5.0744     |\n",
      "| 23 |     6      | Transformation + Normalization + PCA |   -0.112   |      5.7176       |     4.3869     |\n",
      "+----+------------+--------------------------------------+------------+-------------------+----------------+\n"
     ]
    }
   ],
   "source": [
    "import pandas as pd\n",
    "from tabulate import tabulate\n",
    "\n",
    "# Read the CSV file\n",
    "df = pd.read_csv('kmeans_result.csv')\n",
    "\n",
    "# Display the DataFrame using tabulate for a more beautiful format\n",
    "print(tabulate(df, headers='keys', tablefmt='pretty'))\n"
   ]
  },
  {
   "cell_type": "code",
   "execution_count": 48,
   "id": "e8b6a91c",
   "metadata": {},
   "outputs": [],
   "source": [
    "import pandas as pd\n",
    "\n",
    "# Sample results for hierarchical clustering (replace with your actual results)\n",
    "hierarchical_results = {\n",
    "    'No Preprocessing': {\n",
    "        3: {'Silhouette': 0.9635, 'Calinski-Harabasz': 62673.9037, 'Davies-Bouldin': 0.4819},\n",
    "        4: {'Silhouette': 0.9622, 'Calinski-Harabasz': 97971.5580, 'Davies-Bouldin': 0.3984},\n",
    "        5: {'Silhouette': 0.9531, 'Calinski-Harabasz': 138960.6446, 'Davies-Bouldin': 0.5044},\n",
    "        6: {'Silhouette': 0.9531, 'Calinski-Harabasz': 135290.7822, 'Davies-Bouldin': 0.6129}\n",
    "    },\n",
    "    'Normalization': {\n",
    "        3: {'Silhouette': 0.2869, 'Calinski-Harabasz': 16.1799, 'Davies-Bouldin': 1.4695},\n",
    "        4: {'Silhouette': 0.1096, 'Calinski-Harabasz': 12.5720, 'Davies-Bouldin': 11.0097},\n",
    "        5: {'Silhouette': 0.1085, 'Calinski-Harabasz': 10.4919, 'Davies-Bouldin': 10.4258},\n",
    "        6: {'Silhouette': 0.1025, 'Calinski-Harabasz': 9.2033, 'Davies-Bouldin': 9.9554}\n",
    "    },\n",
    "    'Transformation': {\n",
    "        3: {'Silhouette': 0.5335, 'Calinski-Harabasz': 4526.4352, 'Davies-Bouldin': 0.5996},\n",
    "        4: {'Silhouette': 0.5081, 'Calinski-Harabasz': 4807.4125, 'Davies-Bouldin': 0.5656},\n",
    "        5: {'Silhouette': 0.5130, 'Calinski-Harabasz': 5372.9547, 'Davies-Bouldin': 0.5660},\n",
    "        6: {'Silhouette': 0.5213, 'Calinski-Harabasz': 6125.8730, 'Davies-Bouldin': 0.5386}\n",
    "    },\n",
    "    'PCA': {\n",
    "        3: {'Silhouette': 0.9635, 'Calinski-Harabasz': 62673.9037, 'Davies-Bouldin': 0.4819},\n",
    "        4: {'Silhouette': 0.9622, 'Calinski-Harabasz': 97971.5580, 'Davies-Bouldin': 0.3984},\n",
    "        5: {'Silhouette': 0.9531, 'Calinski-Harabasz': 138960.6446, 'Davies-Bouldin': 0.5044},\n",
    "        6: {'Silhouette': 0.9531, 'Calinski-Harabasz': 135290.7822, 'Davies-Bouldin': 0.6129}\n",
    "    },\n",
    "    'Transformation + Normalization': {\n",
    "        3: {'Silhouette': 0.0826, 'Calinski-Harabasz': 7.9444, 'Davies-Bouldin': 16.3154},\n",
    "        4: {'Silhouette': 0.0543, 'Calinski-Harabasz': 6.6567, 'Davies-Bouldin': 15.2798},\n",
    "        5: {'Silhouette': 0.0545, 'Calinski-Harabasz': 5.9218, 'Davies-Bouldin': 13.5921},\n",
    "        6: {'Silhouette': -0.0170, 'Calinski-Harabasz': 5.4570, 'Davies-Bouldin': 14.6493}\n",
    "    },\n",
    "    'Transformation + Normalization + PCA': {\n",
    "        3: {'Silhouette': 0.9635, 'Calinski-Harabasz': 62673.9037, 'Davies-Bouldin': 0.4819},\n",
    "        4: {'Silhouette': 0.9622, 'Calinski-Harabasz': 97971.5580, 'Davies-Bouldin': 0.3984},\n",
    "        5: {'Silhouette': 0.9531, 'Calinski-Harabasz': 138960.6446, 'Davies-Bouldin': 0.5044},\n",
    "        6: {'Silhouette': 0.9531, 'Calinski-Harabasz': 135290.7822, 'Davies-Bouldin': 0.6129}\n",
    "    },\n",
    "}\n",
    "\n",
    "# Create a DataFrame for each algorithm\n",
    "hierarchical_df = pd.DataFrame()\n",
    "\n",
    "for preprocessing, values in hierarchical_results.items():\n",
    "    preprocessing_df = pd.DataFrame(values).T\n",
    "    preprocessing_df.insert(0, 'Preprocessing', preprocessing)\n",
    "    hierarchical_df = pd.concat([hierarchical_df, preprocessing_df], axis=0)\n",
    "\n",
    "# Save to CSV\n",
    "hierarchical_df.to_csv('hierarchical_resultss.csv', index=True)\n"
   ]
  },
  {
   "cell_type": "code",
   "execution_count": 49,
   "id": "46c27168",
   "metadata": {},
   "outputs": [
    {
     "name": "stdout",
     "output_type": "stream",
     "text": [
      "+----+------------+--------------------------------------+------------+-------------------+----------------+\n",
      "|    | Unnamed: 0 |            Preprocessing             | Silhouette | Calinski-Harabasz | Davies-Bouldin |\n",
      "+----+------------+--------------------------------------+------------+-------------------+----------------+\n",
      "| 0  |     3      |           No Preprocessing           |   0.9635   |    62673.9037     |     0.4819     |\n",
      "| 1  |     4      |           No Preprocessing           |   0.9622   |     97971.558     |     0.3984     |\n",
      "| 2  |     5      |           No Preprocessing           |   0.9531   |    138960.6446    |     0.5044     |\n",
      "| 3  |     6      |           No Preprocessing           |   0.9531   |    135290.7822    |     0.6129     |\n",
      "| 4  |     3      |            Normalization             |   0.2869   |      16.1799      |     1.4695     |\n",
      "| 5  |     4      |            Normalization             |   0.1096   |      12.572       |    11.0097     |\n",
      "| 6  |     5      |            Normalization             |   0.1085   |      10.4919      |    10.4258     |\n",
      "| 7  |     6      |            Normalization             |   0.1025   |      9.2033       |     9.9554     |\n",
      "| 8  |     3      |            Transformation            |   0.5335   |     4526.4352     |     0.5996     |\n",
      "| 9  |     4      |            Transformation            |   0.5081   |     4807.4125     |     0.5656     |\n",
      "| 10 |     5      |            Transformation            |   0.513    |     5372.9547     |     0.566      |\n",
      "| 11 |     6      |            Transformation            |   0.5213   |     6125.873      |     0.5386     |\n",
      "| 12 |     3      |                 PCA                  |   0.9635   |    62673.9037     |     0.4819     |\n",
      "| 13 |     4      |                 PCA                  |   0.9622   |     97971.558     |     0.3984     |\n",
      "| 14 |     5      |                 PCA                  |   0.9531   |    138960.6446    |     0.5044     |\n",
      "| 15 |     6      |                 PCA                  |   0.9531   |    135290.7822    |     0.6129     |\n",
      "| 16 |     3      |    Transformation + Normalization    |   0.0826   |      7.9444       |    16.3154     |\n",
      "| 17 |     4      |    Transformation + Normalization    |   0.0543   |      6.6567       |    15.2798     |\n",
      "| 18 |     5      |    Transformation + Normalization    |   0.0545   |      5.9218       |    13.5921     |\n",
      "| 19 |     6      |    Transformation + Normalization    |   -0.017   |       5.457       |    14.6493     |\n",
      "| 20 |     3      | Transformation + Normalization + PCA |   0.9635   |    62673.9037     |     0.4819     |\n",
      "| 21 |     4      | Transformation + Normalization + PCA |   0.9622   |     97971.558     |     0.3984     |\n",
      "| 22 |     5      | Transformation + Normalization + PCA |   0.9531   |    138960.6446    |     0.5044     |\n",
      "| 23 |     6      | Transformation + Normalization + PCA |   0.9531   |    135290.7822    |     0.6129     |\n",
      "+----+------------+--------------------------------------+------------+-------------------+----------------+\n"
     ]
    }
   ],
   "source": [
    "# Read the CSV file\n",
    "dff = pd.read_csv('hierarchical_resultss.csv')\n",
    "\n",
    "# Display the DataFrame using tabulate for a more beautiful format\n",
    "print(tabulate(dff, headers='keys', tablefmt='pretty'))"
   ]
  },
  {
   "cell_type": "code",
   "execution_count": 50,
   "id": "005d79f8",
   "metadata": {},
   "outputs": [],
   "source": [
    "import pandas as pd\n",
    "\n",
    "# Sample results for Birch clustering (replace with your actual results)\n",
    "birch_results = {\n",
    "    'No Preprocessing': {\n",
    "        3: {'Silhouette': 0.9635, 'Calinski-Harabasz': 62673.9037, 'Davies-Bouldin': 0.4819},\n",
    "        4: {'Silhouette': 0.9622, 'Calinski-Harabasz': 97971.5580, 'Davies-Bouldin': 0.3984},\n",
    "        5: {'Silhouette': 0.9531, 'Calinski-Harabasz': 138960.6446, 'Davies-Bouldin': 0.5044},\n",
    "        6: {'Silhouette': 0.9531, 'Calinski-Harabasz': 135290.7822, 'Davies-Bouldin': 0.6129}\n",
    "    },\n",
    "    'Normalization': {\n",
    "        3: {'Silhouette': 0.2869, 'Calinski-Harabasz': 16.1799, 'Davies-Bouldin': 1.4695},\n",
    "        4: {'Silhouette': 0.1096, 'Calinski-Harabasz': 12.5720, 'Davies-Bouldin': 11.0097},\n",
    "        5: {'Silhouette': 0.1085, 'Calinski-Harabasz': 10.4919, 'Davies-Bouldin': 10.4258},\n",
    "        6: {'Silhouette': 0.1025, 'Calinski-Harabasz': 9.2033, 'Davies-Bouldin': 9.9554}\n",
    "    },\n",
    "    'Transformation': {\n",
    "        3: {'Silhouette': 0.5406, 'Calinski-Harabasz': 4519.4029, 'Davies-Bouldin': 0.5861},\n",
    "        4: {'Silhouette': 0.5263, 'Calinski-Harabasz': 4397.4232, 'Davies-Bouldin': 0.5365},\n",
    "        5: {'Silhouette': 0.4932, 'Calinski-Harabasz': 5384.4656, 'Davies-Bouldin': 0.5499},\n",
    "        6: {'Silhouette': 0.4892, 'Calinski-Harabasz': 6121.8288, 'Davies-Bouldin': 0.5403}\n",
    "    },\n",
    "    'PCA': {\n",
    "        3: {'Silhouette': 0.9635, 'Calinski-Harabasz': 62673.9037, 'Davies-Bouldin': 0.4819},\n",
    "        4: {'Silhouette': 0.9622, 'Calinski-Harabasz': 97971.5580, 'Davies-Bouldin': 0.3984},\n",
    "        5: {'Silhouette': 0.9531, 'Calinski-Harabasz': 138960.6446, 'Davies-Bouldin': 0.5044},\n",
    "        6: {'Silhouette': 0.9531, 'Calinski-Harabasz': 135290.7822, 'Davies-Bouldin': 0.6129}\n",
    "    },\n",
    "    'Transformation + Normalization': {\n",
    "        3: {'Silhouette': 0.0826, 'Calinski-Harabasz': 7.9444, 'Davies-Bouldin': 16.3154},\n",
    "        4: {'Silhouette': 0.0543, 'Calinski-Harabasz': 6.6567, 'Davies-Bouldin': 15.2798},\n",
    "        5: {'Silhouette': 0.0545, 'Calinski-Harabasz': 5.9218, 'Davies-Bouldin': 13.5921},\n",
    "        6: {'Silhouette': -0.0170, 'Calinski-Harabasz': 5.4570, 'Davies-Bouldin': 14.6493}\n",
    "    },\n",
    "    'Transformation + Normalization + PCA': {\n",
    "        3: {'Silhouette': 0.0826, 'Calinski-Harabasz': 7.9444, 'Davies-Bouldin': 16.3154},\n",
    "        4: {'Silhouette': 0.0543, 'Calinski-Harabasz': 6.6567, 'Davies-Bouldin': 15.2798},\n",
    "        5: {'Silhouette': 0.0545, 'Calinski-Harabasz': 5.9218, 'Davies-Bouldin': 13.5921},\n",
    "        6: {'Silhouette': -0.0170, 'Calinski-Harabasz': 5.4570, 'Davies-Bouldin': 14.6493}\n",
    "    },\n",
    "}\n",
    "\n",
    "# Create a DataFrame for each algorithm\n",
    "birch_df = pd.DataFrame()\n",
    "\n",
    "for preprocessing, values in birch_results.items():\n",
    "    preprocessing_df = pd.DataFrame(values).T\n",
    "    preprocessing_df.insert(0, 'Preprocessing', preprocessing)\n",
    "    birch_df = pd.concat([birch_df, preprocessing_df], axis=0)\n",
    "\n",
    "# # Display the final DataFrame for Birch clustering\n",
    "# print(\"Results for Birch clustering:\")\n",
    "# print(birch_df)\n",
    "\n",
    "# Save to CSV\n",
    "birch_df.to_csv('birch_results.csv', index=True)\n"
   ]
  },
  {
   "cell_type": "code",
   "execution_count": 53,
   "id": "23eef710",
   "metadata": {},
   "outputs": [
    {
     "name": "stdout",
     "output_type": "stream",
     "text": [
      "+----+------------+--------------------------------------+------------+-------------------+----------------+\n",
      "|    | Unnamed: 0 |            Preprocessing             | Silhouette | Calinski-Harabasz | Davies-Bouldin |\n",
      "+----+------------+--------------------------------------+------------+-------------------+----------------+\n",
      "| 0  |     3      |           No Preprocessing           |   0.9635   |    62673.9037     |     0.4819     |\n",
      "| 1  |     4      |           No Preprocessing           |   0.9622   |     97971.558     |     0.3984     |\n",
      "| 2  |     5      |           No Preprocessing           |   0.9531   |    138960.6446    |     0.5044     |\n",
      "| 3  |     6      |           No Preprocessing           |   0.9531   |    135290.7822    |     0.6129     |\n",
      "| 4  |     3      |            Normalization             |   0.2869   |      16.1799      |     1.4695     |\n",
      "| 5  |     4      |            Normalization             |   0.1096   |      12.572       |    11.0097     |\n",
      "| 6  |     5      |            Normalization             |   0.1085   |      10.4919      |    10.4258     |\n",
      "| 7  |     6      |            Normalization             |   0.1025   |      9.2033       |     9.9554     |\n",
      "| 8  |     3      |            Transformation            |   0.5406   |     4519.4029     |     0.5861     |\n",
      "| 9  |     4      |            Transformation            |   0.5263   |     4397.4232     |     0.5365     |\n",
      "| 10 |     5      |            Transformation            |   0.4932   |     5384.4656     |     0.5499     |\n",
      "| 11 |     6      |            Transformation            |   0.4892   |     6121.8288     |     0.5403     |\n",
      "| 12 |     3      |                 PCA                  |   0.9635   |    62673.9037     |     0.4819     |\n",
      "| 13 |     4      |                 PCA                  |   0.9622   |     97971.558     |     0.3984     |\n",
      "| 14 |     5      |                 PCA                  |   0.9531   |    138960.6446    |     0.5044     |\n",
      "| 15 |     6      |                 PCA                  |   0.9531   |    135290.7822    |     0.6129     |\n",
      "| 16 |     3      |    Transformation + Normalization    |   0.0826   |      7.9444       |    16.3154     |\n",
      "| 17 |     4      |    Transformation + Normalization    |   0.0543   |      6.6567       |    15.2798     |\n",
      "| 18 |     5      |    Transformation + Normalization    |   0.0545   |      5.9218       |    13.5921     |\n",
      "| 19 |     6      |    Transformation + Normalization    |   -0.017   |       5.457       |    14.6493     |\n",
      "| 20 |     3      | Transformation + Normalization + PCA |   0.0826   |      7.9444       |    16.3154     |\n",
      "| 21 |     4      | Transformation + Normalization + PCA |   0.0543   |      6.6567       |    15.2798     |\n",
      "| 22 |     5      | Transformation + Normalization + PCA |   0.0545   |      5.9218       |    13.5921     |\n",
      "| 23 |     6      | Transformation + Normalization + PCA |   -0.017   |       5.457       |    14.6493     |\n",
      "+----+------------+--------------------------------------+------------+-------------------+----------------+\n"
     ]
    }
   ],
   "source": [
    "# Read the CSV file\n",
    "dfff = pd.read_csv('birch_results.csv')\n",
    "\n",
    "# Display the DataFrame using tabulate for a more beautiful format\n",
    "print(tabulate(dfff, headers='keys', tablefmt='pretty'))"
   ]
  },
  {
   "cell_type": "code",
   "execution_count": null,
   "id": "dc7c3aea",
   "metadata": {},
   "outputs": [],
   "source": []
  },
  {
   "cell_type": "code",
   "execution_count": null,
   "id": "18988c32",
   "metadata": {},
   "outputs": [],
   "source": []
  }
 ],
 "metadata": {
  "kernelspec": {
   "display_name": "Python 3 (ipykernel)",
   "language": "python",
   "name": "python3"
  },
  "language_info": {
   "codemirror_mode": {
    "name": "ipython",
    "version": 3
   },
   "file_extension": ".py",
   "mimetype": "text/x-python",
   "name": "python",
   "nbconvert_exporter": "python",
   "pygments_lexer": "ipython3",
   "version": "3.11.5"
  }
 },
 "nbformat": 4,
 "nbformat_minor": 5
}
